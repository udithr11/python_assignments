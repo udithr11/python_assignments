{
 "cells": [
  {
   "cell_type": "code",
   "execution_count": 1,
   "id": "803ef2ee",
   "metadata": {},
   "outputs": [
    {
     "name": "stdout",
     "output_type": "stream",
     "text": [
      "2\n"
     ]
    }
   ],
   "source": [
    "#question1\n",
    "\n",
    "def close(nums,target):\n",
    "    r=0\n",
    "    s1=[]\n",
    "    for i in range(len(nums)):\n",
    "        for j in range(i+1,len(nums)):\n",
    "            for k in range(j+1,len(nums)):\n",
    "                r=[nums[i],nums[j],nums[k]]\n",
    "                s1.append(r)\n",
    "    s2=[]\n",
    "    for i in range(len(s1)):\n",
    "        r=0\n",
    "        for j in range(3):\n",
    "            r+=s1[i][j]\n",
    "        s2.append(r)\n",
    "\n",
    "    for i in s2:\n",
    "        if (i==target or i+1==target or i-1==target):\n",
    "            return(i)\n",
    "        \n",
    "\n",
    "nums = [-1,2,1,-4]\n",
    "target = 1\n",
    "print(close(nums,target))"
   ]
  },
  {
   "cell_type": "code",
   "execution_count": null,
   "id": "2c2d0e7d",
   "metadata": {},
   "outputs": [],
   "source": []
  },
  {
   "cell_type": "code",
   "execution_count": 2,
   "id": "d9766b5c",
   "metadata": {},
   "outputs": [
    {
     "name": "stdout",
     "output_type": "stream",
     "text": [
      "[[1, 0, -1, 0], [1, -1, -2, 2], [0, 0, -2, 2]]\n"
     ]
    }
   ],
   "source": [
    "#question2\n",
    "def four_sum(nums,target):\n",
    "    r=0\n",
    "    s1=[]\n",
    "    for i in range(len(nums)):\n",
    "        for j in range(i+1,len(nums)):\n",
    "            for k in range(j+1,len(nums)):\n",
    "                for l in range(k+1,len(nums)):\n",
    "                    r=[nums[i],nums[j],nums[k],nums[l]]\n",
    "                    s1.append(r)\n",
    "\n",
    "    s2=[]               \n",
    "    for i in s1:\n",
    "        if(sum(i)==target):\n",
    "            s2.append(i)\n",
    "\n",
    "    return(s2)\n",
    "\n",
    "nums = [1,0,-1,0,-2,2]\n",
    "target = 0\n",
    "print(four_sum(nums,target))"
   ]
  },
  {
   "cell_type": "code",
   "execution_count": null,
   "id": "b899036f",
   "metadata": {},
   "outputs": [],
   "source": []
  },
  {
   "cell_type": "code",
   "execution_count": 3,
   "id": "bf49e629",
   "metadata": {},
   "outputs": [
    {
     "name": "stdout",
     "output_type": "stream",
     "text": [
      "[1, 3, 2]\n"
     ]
    }
   ],
   "source": [
    "#question 3\n",
    "\n",
    "def nextPermutation(nums):\n",
    "\n",
    "    flag=0\n",
    "\n",
    "    for i in range(len(nums)-1,0,-2):\n",
    "        if (nums[i]>nums[i-1]):\n",
    "            flag=1\n",
    "            nums[i],nums[i-1]=nums[i-1],nums[i]\n",
    "            break\n",
    "\n",
    "        if(flag==0):\n",
    "            if(nums[i-1]>nums[i] and nums[i-1]>nums[i-2] and nums[i-2]>nums[i]):\n",
    "                flag=1\n",
    "                nums[i],nums[i-2]=nums[i-2],nums[i]\n",
    "                nums[i-1],nums[i-2]=nums[i-2],nums[i-1]\n",
    "                break\n",
    "\n",
    "        if(flag==0):\n",
    "            if(nums[i-1]>nums[i] and nums[i-1]>nums[i-2]):\n",
    "                flag=1\n",
    "                nums[i],nums[i-2]=nums[i-2],nums[i]\n",
    "                nums[i],nums[i-1]=nums[i-1],nums[i]\n",
    "                break\n",
    "\n",
    "\n",
    "                break\n",
    "\n",
    "        if (flag==0):\n",
    "            nums.sort()\n",
    "        break\n",
    "    return nums\n",
    "\n",
    "        \n",
    "nums = [1,2,3]\n",
    "print(nextPermutation(nums))"
   ]
  },
  {
   "cell_type": "code",
   "execution_count": null,
   "id": "b4a04d49",
   "metadata": {},
   "outputs": [],
   "source": []
  },
  {
   "cell_type": "code",
   "execution_count": 4,
   "id": "5a8cb974",
   "metadata": {},
   "outputs": [
    {
     "name": "stdout",
     "output_type": "stream",
     "text": [
      "2\n"
     ]
    }
   ],
   "source": [
    "#question 4\n",
    "\n",
    "def searchInsert(nums, target):\n",
    "    l=0\n",
    "    r=len(nums)-1\n",
    "    while(l<=r):\n",
    "        mid=((l+r)//2)\n",
    "        if(target == nums[mid]):\n",
    "            return mid\n",
    "        if(target>nums[mid]):\n",
    "            l=mid+1\n",
    "        else:\n",
    "            r=mid-1\n",
    "    return l\n",
    "\n",
    "nums = [1,3,5,6]\n",
    "target = 4\n",
    "print(searchInsert(nums, target))"
   ]
  },
  {
   "cell_type": "code",
   "execution_count": null,
   "id": "1c50301d",
   "metadata": {},
   "outputs": [],
   "source": []
  },
  {
   "cell_type": "code",
   "execution_count": 6,
   "id": "8cbd6ed8",
   "metadata": {},
   "outputs": [
    {
     "name": "stdout",
     "output_type": "stream",
     "text": [
      "[1, 0]\n"
     ]
    }
   ],
   "source": [
    "#question 5\n",
    "\n",
    "def plusOne(digits):\n",
    "    if(set(digits)=={9}):\n",
    "        l=[0 for i in range(len(digits)+1)]\n",
    "\n",
    "        l[0]=1\n",
    "        return l\n",
    "\n",
    "    digits[-1]+=1\n",
    "    i=1\n",
    "    while(True):\n",
    "        if(digits[-i]>9):\n",
    "            digits[-i]=0\n",
    "            digits[-(i+1)]+=1\n",
    "            i+=1\n",
    "\n",
    "\n",
    "        else:\n",
    "            return digits\n",
    "        \n",
    "digits = [9]\n",
    "print(plusOne(digits))"
   ]
  },
  {
   "cell_type": "code",
   "execution_count": null,
   "id": "83cbae68",
   "metadata": {},
   "outputs": [],
   "source": []
  },
  {
   "cell_type": "code",
   "execution_count": 5,
   "id": "3d2ef227",
   "metadata": {},
   "outputs": [
    {
     "name": "stdout",
     "output_type": "stream",
     "text": [
      "5\n"
     ]
    }
   ],
   "source": [
    "#question 6\n",
    "\n",
    "def singleNumber(nums):\n",
    "    res=0\n",
    "    for i in nums:\n",
    "        res=res^i\n",
    "    return res\n",
    "\n",
    "nums = [2,2,1,1,5]\n",
    "print(singleNumber(nums))"
   ]
  },
  {
   "cell_type": "code",
   "execution_count": null,
   "id": "87446dc5",
   "metadata": {},
   "outputs": [],
   "source": []
  },
  {
   "cell_type": "code",
   "execution_count": 7,
   "id": "71c71628",
   "metadata": {},
   "outputs": [
    {
     "name": "stdout",
     "output_type": "stream",
     "text": [
      "[[2, 2], [4, 49], [51, 74], [76, 99]]\n"
     ]
    }
   ],
   "source": [
    "#question 7\n",
    "def findMissingRanges(nums, lower, upper):\n",
    "    missing_ranges = []\n",
    "\n",
    "    for i in nums:\n",
    "        if i > lower:\n",
    "            missing_ranges.append([lower, i - 1])\n",
    "        lower = i + 1\n",
    "\n",
    "    if lower <= upper:\n",
    "        missing_ranges.append([lower, upper])\n",
    "\n",
    "    return missing_ranges\n",
    "\n",
    "\n",
    "nums = [0, 1, 3, 50, 75]\n",
    "lower = 0\n",
    "upper = 99\n",
    "print(findMissingRanges(nums, lower, upper))\n"
   ]
  },
  {
   "cell_type": "code",
   "execution_count": null,
   "id": "7b495185",
   "metadata": {},
   "outputs": [],
   "source": []
  },
  {
   "cell_type": "code",
   "execution_count": 7,
   "id": "f9e02326",
   "metadata": {},
   "outputs": [
    {
     "name": "stdout",
     "output_type": "stream",
     "text": [
      "False\n"
     ]
    }
   ],
   "source": [
    "#question 8\n",
    "\n",
    "def possible(intervals):\n",
    "    new=[]\n",
    "    for i in range(len(intervals)):\n",
    "        for j in range(intervals[i][0],intervals[i][1]):\n",
    "            new.append(j)\n",
    "\n",
    "    if(len(new)==len(set(new))):return(True)\n",
    "    else:return(False)\n",
    "    \n",
    "intervals=[[0,30],[5,10],[15,20]]\n",
    "print(possible(intervals))"
   ]
  },
  {
   "cell_type": "code",
   "execution_count": null,
   "id": "35689e5e",
   "metadata": {},
   "outputs": [],
   "source": []
  },
  {
   "cell_type": "code",
   "execution_count": null,
   "id": "58947fbe",
   "metadata": {},
   "outputs": [],
   "source": []
  },
  {
   "cell_type": "code",
   "execution_count": null,
   "id": "86417145",
   "metadata": {},
   "outputs": [],
   "source": []
  },
  {
   "cell_type": "code",
   "execution_count": null,
   "id": "0c8cb525",
   "metadata": {},
   "outputs": [],
   "source": []
  },
  {
   "cell_type": "code",
   "execution_count": null,
   "id": "c9c8ee67",
   "metadata": {},
   "outputs": [],
   "source": []
  },
  {
   "cell_type": "code",
   "execution_count": null,
   "id": "5c88b3f8",
   "metadata": {},
   "outputs": [],
   "source": [
    "\n"
   ]
  },
  {
   "cell_type": "code",
   "execution_count": null,
   "id": "7d5e2f54",
   "metadata": {},
   "outputs": [],
   "source": []
  },
  {
   "cell_type": "code",
   "execution_count": null,
   "id": "235631bf",
   "metadata": {},
   "outputs": [],
   "source": []
  },
  {
   "cell_type": "code",
   "execution_count": null,
   "id": "d0791f42",
   "metadata": {},
   "outputs": [],
   "source": []
  },
  {
   "cell_type": "code",
   "execution_count": null,
   "id": "10e6d6bf",
   "metadata": {},
   "outputs": [],
   "source": []
  },
  {
   "cell_type": "code",
   "execution_count": null,
   "id": "752e3d6d",
   "metadata": {},
   "outputs": [],
   "source": []
  },
  {
   "cell_type": "code",
   "execution_count": null,
   "id": "f64d2aa5",
   "metadata": {},
   "outputs": [],
   "source": []
  },
  {
   "cell_type": "code",
   "execution_count": null,
   "id": "58386061",
   "metadata": {},
   "outputs": [],
   "source": []
  },
  {
   "cell_type": "code",
   "execution_count": null,
   "id": "6e253430",
   "metadata": {},
   "outputs": [],
   "source": []
  },
  {
   "cell_type": "code",
   "execution_count": null,
   "id": "e5b91f0e",
   "metadata": {},
   "outputs": [],
   "source": []
  }
 ],
 "metadata": {
  "kernelspec": {
   "display_name": "Python 3 (ipykernel)",
   "language": "python",
   "name": "python3"
  },
  "language_info": {
   "codemirror_mode": {
    "name": "ipython",
    "version": 3
   },
   "file_extension": ".py",
   "mimetype": "text/x-python",
   "name": "python",
   "nbconvert_exporter": "python",
   "pygments_lexer": "ipython3",
   "version": "3.9.12"
  }
 },
 "nbformat": 4,
 "nbformat_minor": 5
}
