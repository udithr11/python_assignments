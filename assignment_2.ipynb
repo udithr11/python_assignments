{
 "cells": [
  {
   "cell_type": "code",
   "execution_count": null,
   "id": "c6af7520",
   "metadata": {},
   "outputs": [],
   "source": [
    "#1) True and False are the two values of boolean datatype\n",
    "a=True\n",
    "s=False"
   ]
  },
  {
   "cell_type": "code",
   "execution_count": 4,
   "id": "430fd04e",
   "metadata": {},
   "outputs": [
    {
     "name": "stdout",
     "output_type": "stream",
     "text": [
      "False\n",
      "True\n",
      "False\n"
     ]
    }
   ],
   "source": [
    "#2) 3 differnet type of boolean operators are: \"and\",\"or\",\"not\"\n",
    "a=2\n",
    "b=4\n",
    "print(a==2 and b==3)\n",
    "print(a==2 or b==3)\n",
    "print(not(a==2))"
   ]
  },
  {
   "cell_type": "code",
   "execution_count": null,
   "id": "59cb40a3",
   "metadata": {},
   "outputs": [],
   "source": [
    "#3) and operator:\n",
    "    0,0=0\n",
    "    0,1=0\n",
    "    1,0=0\n",
    "    1,1=1\n",
    "    \n",
    "    or operator:\n",
    "    0,0=0\n",
    "    0,1=1\n",
    "    1,0=1\n",
    "    1,1=1\n",
    "    \n",
    "    not operator:\n",
    "        0=1\n",
    "        1=0"
   ]
  },
  {
   "cell_type": "code",
   "execution_count": null,
   "id": "24dee486",
   "metadata": {},
   "outputs": [],
   "source": [
    "#4) \n",
    "(5>4) and (3==5)=false\n",
    "not(5>4)=false\n",
    "(5>4) or (3==5)=true\n",
    "not((5>4) or (3==5))=false\n",
    "(true and true) and(true==false)= false\n",
    "(not false) or (not true)=true\n"
   ]
  },
  {
   "cell_type": "code",
   "execution_count": null,
   "id": "8cf0c4d6",
   "metadata": {},
   "outputs": [],
   "source": [
    "#5)\n",
    "6 comparison operators are :==,!=,<=,>=,<,>"
   ]
  },
  {
   "cell_type": "markdown",
   "id": "2e13560a",
   "metadata": {},
   "source": [
    "#6)\n",
    "equal to assignment operator will assign the value on the right side to the variable in the left side\n",
    "e.g) c=4\n",
    "equal to comparison operators will check the values on the lefthand side is equal to the values on the right hand side and return a boolean value\n",
    "e.g) 3==5\n",
    "     ans:false"
   ]
  },
  {
   "cell_type": "code",
   "execution_count": null,
   "id": "ec516c9b",
   "metadata": {},
   "outputs": [],
   "source": [
    "#7)\n",
    "spam = 0\n",
    "if spam == 10:      ---block 1\n",
    "    print()\n",
    "if spam > 5:        ----block 2\n",
    "    print('bacon')\n",
    "else:               ----block 3\n",
    "    print('ham')\n",
    "    print('spam')\n",
    "    print('spam')"
   ]
  },
  {
   "cell_type": "code",
   "execution_count": 22,
   "id": "bac206b5",
   "metadata": {},
   "outputs": [
    {
     "name": "stdout",
     "output_type": "stream",
     "text": [
      "enter a number 1\n",
      "hello\n"
     ]
    }
   ],
   "source": [
    "#8)\n",
    "spam=int(input(\"enter a number \"))\n",
    "if (spam==1):\n",
    "    print(\"hello\")\n",
    "elif (spam==2):\n",
    "    print(\"howdy\")\n",
    "else:\n",
    "    print(\"greetings!\")"
   ]
  },
  {
   "cell_type": "code",
   "execution_count": null,
   "id": "6987e189",
   "metadata": {},
   "outputs": [],
   "source": [
    "#9)\n",
    "to exit an endless loop we can press \"control+c\"\n",
    "or we can restart the kernal"
   ]
  },
  {
   "cell_type": "code",
   "execution_count": null,
   "id": "80e31201",
   "metadata": {},
   "outputs": [],
   "source": [
    "#10)\n",
    "break statement will force to terminate the loop when the condition satisfies.\n",
    "continue statement will force to start next iteration of the loop."
   ]
  },
  {
   "cell_type": "code",
   "execution_count": 30,
   "id": "aeb168c7",
   "metadata": {},
   "outputs": [
    {
     "name": "stdout",
     "output_type": "stream",
     "text": [
      "0\n",
      "1\n",
      "2\n",
      "3\n",
      "4\n",
      "5\n",
      "6\n",
      "7\n",
      "8\n",
      "9\n"
     ]
    }
   ],
   "source": [
    "11)there is no difference between range(10),range(0,10)and range(0,10,1). all of these generates number 0-9."
   ]
  },
  {
   "cell_type": "code",
   "execution_count": 4,
   "id": "8e2bc24e",
   "metadata": {},
   "outputs": [
    {
     "name": "stdout",
     "output_type": "stream",
     "text": [
      "1 2 3 4 5 6 7 8 9 10 \n",
      "\n",
      "1 2 3 4 5 6 7 8 9 10 "
     ]
    }
   ],
   "source": [
    "#12)\n",
    "for i in range(1,11):\n",
    "    print(i,end=\" \")\n",
    "j=1\n",
    "print(\"\\n\")\n",
    "while j<11:\n",
    "    print(j,end=\" \")\n",
    "    j=j+1\n",
    "    \n",
    "    "
   ]
  },
  {
   "cell_type": "code",
   "execution_count": null,
   "id": "8946997c",
   "metadata": {},
   "outputs": [],
   "source": [
    "#13) spam.bacon()\n"
   ]
  }
 ],
 "metadata": {
  "kernelspec": {
   "display_name": "Python 3 (ipykernel)",
   "language": "python",
   "name": "python3"
  },
  "language_info": {
   "codemirror_mode": {
    "name": "ipython",
    "version": 3
   },
   "file_extension": ".py",
   "mimetype": "text/x-python",
   "name": "python",
   "nbconvert_exporter": "python",
   "pygments_lexer": "ipython3",
   "version": "3.9.12"
  }
 },
 "nbformat": 4,
 "nbformat_minor": 5
}
