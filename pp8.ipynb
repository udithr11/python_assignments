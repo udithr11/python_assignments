{
 "cells": [
  {
   "cell_type": "code",
   "execution_count": 2,
   "id": "49df4666",
   "metadata": {},
   "outputs": [
    {
     "name": "stdout",
     "output_type": "stream",
     "text": [
      "input first matrix \n",
      "enter no of rows:2\n",
      "enter no of columns:3\n",
      "enter nos in row wise\n",
      "5\n",
      "6\n",
      "5\n",
      "6\n",
      "5\n",
      "4\n",
      "input second matrix \n",
      "enter no of rows:2\n",
      "enter no of columns:3\n",
      "enter nos in row wise\n",
      "6\n",
      "7\n",
      "8\n",
      "9\n",
      "6\n",
      "5\n",
      "[11, 13, 13]\n",
      "[15, 11, 9]\n"
     ]
    }
   ],
   "source": [
    "#1\n",
    "\n",
    "def input_matrix():\n",
    "    r=int(input(\"enter no of rows:\"))\n",
    "    c=int(input(\"enter no of columns:\"))\n",
    "    print(\"enter nos in row wise\")\n",
    "    m=[]\n",
    "    for i in range(r):\n",
    "        a=[]\n",
    "        for j in range(c):\n",
    "            a.append(int(input()))\n",
    "        m.append(a)\n",
    "    return m\n",
    "\n",
    "\n",
    "print(\"input first matrix \")\n",
    "X=input_matrix()\n",
    "print(\"input second matrix \")\n",
    "Y=input_matrix()\n",
    "\n",
    "result=[]\n",
    "qq=0\n",
    "for q1 in range(len(X)):\n",
    "    r=[]\n",
    "    for q2 in range(len(X[0])):\n",
    "        r.append(qq)\n",
    "    result.append(r)\n",
    "\n",
    "if (len(X)==len(Y) and len(X[0])==len(Y[0])):\n",
    "\n",
    "    for v in r:\n",
    "        if (len(X)==len(Y) and len(X[0])==len(Y[0])):\n",
    "            for i in range(len(X)):  \n",
    "                for j in range(len(X[0])):\n",
    "                    result[i][j] = X[i][j] + Y[i][j]\n",
    "\n",
    "    for r in result:\n",
    "            print(r)\n",
    "else:\n",
    "    print(\"matrix addition not possible\")\n"
   ]
  },
  {
   "cell_type": "code",
   "execution_count": 3,
   "id": "e18fde44",
   "metadata": {},
   "outputs": [
    {
     "name": "stdout",
     "output_type": "stream",
     "text": [
      "input first matrix \n",
      "enter no of rows:2\n",
      "enter no of columns:3\n",
      "enter nos in row wise\n",
      "3\n",
      "4\n",
      "2\n",
      "3\n",
      "4\n",
      "3\n",
      "input second matrix \n",
      "enter no of rows:3\n",
      "enter no of columns:4\n",
      "enter nos in row wise\n",
      "5\n",
      "6\n",
      "5\n",
      "4\n",
      "3\n",
      "7\n",
      "1\n",
      "8\n",
      "9\n",
      "7\n",
      "6\n",
      "5\n",
      "[45, 60, 31, 54]\n",
      "[54, 67, 37, 59]\n"
     ]
    }
   ],
   "source": [
    "#2\n",
    "\n",
    "def input_matrix():\n",
    "    r=int(input(\"enter no of rows:\"))\n",
    "    c=int(input(\"enter no of columns:\"))\n",
    "    print(\"enter nos in row wise\")\n",
    "    m=[]\n",
    "    for i in range(r):\n",
    "        a=[]\n",
    "        for j in range(c):\n",
    "            a.append(int(input()))\n",
    "        m.append(a)\n",
    "    return m\n",
    "\n",
    "\n",
    "print(\"input first matrix \")\n",
    "X=input_matrix()\n",
    "print(\"input second matrix \")\n",
    "Y=input_matrix()\n",
    "\n",
    "result=[]\n",
    "qq=0\n",
    "for q1 in range(len(X)):\n",
    "    r=[]\n",
    "    for q2 in range(len(Y[0])):\n",
    "        r.append(qq)\n",
    "    result.append(r)\n",
    "\n",
    "if (len(X[0])==len(Y)):\n",
    "    for i in range(len(X)):\n",
    "        for j in range(len(Y[0])):\n",
    "            for k in range(len(Y)):\n",
    "                result[i][j]=result[i][j]+X[i][k]*Y[k][j]\n",
    "    for r in result:\n",
    "        print(r)\n",
    "else:\n",
    "    print(\"multiplication not possible\")"
   ]
  },
  {
   "cell_type": "code",
   "execution_count": 4,
   "id": "0cf16144",
   "metadata": {},
   "outputs": [
    {
     "name": "stdout",
     "output_type": "stream",
     "text": [
      "enter firt matrix: \n",
      "enter no of rows:3\n",
      "enter no of columns:2\n",
      "enter nos in row wise\n",
      "4\n",
      "3\n",
      "1\n",
      "2\n",
      "3\n",
      "4\n",
      "[4, 1, 3]\n",
      "[3, 2, 4]\n"
     ]
    }
   ],
   "source": [
    "#3\n",
    "\n",
    "def input_matrix():\n",
    "    r=int(input(\"enter no of rows:\"))\n",
    "    c=int(input(\"enter no of columns:\"))\n",
    "    print(\"enter nos in row wise\")\n",
    "    m=[]\n",
    "    for i in range(r):\n",
    "        a=[]\n",
    "        for j in range(c):\n",
    "            a.append(int(input()))\n",
    "        m.append(a)\n",
    "    return m\n",
    "\n",
    "print(\"enter firt matrix: \")\n",
    "X=input_matrix()\n",
    "\n",
    "\n",
    "result=[]\n",
    "qq=0\n",
    "for q1 in range(len(X[0])):\n",
    "    r=[]\n",
    "    for q2 in range(len(X)):\n",
    "        r.append(qq)\n",
    "    result.append(r)\n",
    "\n",
    "for i in range(len(X[0])):\n",
    "    for j in range(len(X)):\n",
    "        result[i][j]=X[j][i]\n",
    "\n",
    "for i in result:\n",
    "    print(i)"
   ]
  },
  {
   "cell_type": "code",
   "execution_count": 5,
   "id": "22a79952",
   "metadata": {},
   "outputs": [
    {
     "name": "stdout",
     "output_type": "stream",
     "text": [
      "enter a sentenceit is almost midnight\n",
      "ALMOST IS IT MIDNIGHT "
     ]
    }
   ],
   "source": [
    "#4\n",
    "\n",
    "s=input(\"enter a sentence\")\n",
    "s=s.upper()\n",
    "s=s.split(' ')\n",
    "s.sort()\n",
    "for i in s:\n",
    "    print(i,end=\" \")\n"
   ]
  },
  {
   "cell_type": "code",
   "execution_count": 6,
   "id": "5305696e",
   "metadata": {},
   "outputs": [
    {
     "name": "stdout",
     "output_type": "stream",
     "text": [
      "enter a string: 12as.,/.';][sd\n",
      "12assd\n"
     ]
    }
   ],
   "source": [
    "#5\n",
    "\n",
    "p = '''!()-[]{};:'\"\\,<>./?@#$%^&*_~'''\n",
    "s=input(\"enter a string: \")\n",
    "o=\"\"\n",
    "for i in range(len(s)):\n",
    "    a=0\n",
    "    for j in range(len(p)):\n",
    "        if (s[i]!=p[j]):\n",
    "            a=a+1\n",
    "    if(a==28):\n",
    "        o=o+s[i]\n",
    "print(o)"
   ]
  },
  {
   "cell_type": "code",
   "execution_count": null,
   "id": "6538cc67",
   "metadata": {},
   "outputs": [],
   "source": []
  }
 ],
 "metadata": {
  "kernelspec": {
   "display_name": "Python 3 (ipykernel)",
   "language": "python",
   "name": "python3"
  },
  "language_info": {
   "codemirror_mode": {
    "name": "ipython",
    "version": 3
   },
   "file_extension": ".py",
   "mimetype": "text/x-python",
   "name": "python",
   "nbconvert_exporter": "python",
   "pygments_lexer": "ipython3",
   "version": "3.9.12"
  }
 },
 "nbformat": 4,
 "nbformat_minor": 5
}
