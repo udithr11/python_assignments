{
 "cells": [
  {
   "cell_type": "markdown",
   "id": "89d50c45",
   "metadata": {},
   "source": [
    "# 1"
   ]
  },
  {
   "cell_type": "code",
   "execution_count": 10,
   "id": "ebac1d68",
   "metadata": {},
   "outputs": [
    {
     "name": "stdout",
     "output_type": "stream",
     "text": [
      "how many elements you want to enter: 5\n",
      "element no  1\n",
      "1\n",
      "element no  2\n",
      "2\n",
      "element no  3\n",
      "3\n",
      "element no  4\n",
      "4\n",
      "element no  5\n",
      "5\n",
      "15\n"
     ]
    }
   ],
   "source": [
    "a=int(input(\"how many elements you want to enter: \"))\n",
    "arr=[]\n",
    "for i in range(a):\n",
    "    print(\"element no \",(i+1))\n",
    "    arr.append(int(input()))\n",
    "sum=0\n",
    "for i in range(a):\n",
    "    sum=sum+arr[i]\n",
    "print(sum)"
   ]
  },
  {
   "cell_type": "markdown",
   "id": "96c3020b",
   "metadata": {},
   "source": [
    "# 2"
   ]
  },
  {
   "cell_type": "code",
   "execution_count": 12,
   "id": "39ad69d4",
   "metadata": {},
   "outputs": [
    {
     "name": "stdout",
     "output_type": "stream",
     "text": [
      "how many elements you want to enter: 5\n",
      "element no  1\n",
      "32\n",
      "element no  2\n",
      "532\n",
      "element no  3\n",
      "543\n",
      "element no  4\n",
      "23\n",
      "element no  5\n",
      "6\n",
      "largest no is:  543\n"
     ]
    }
   ],
   "source": [
    "a=int(input(\"how many elements you want to enter: \"))\n",
    "arr=[]\n",
    "for i in range(a):\n",
    "    print(\"element no \",(i+1))\n",
    "    arr.append(int(input()))\n",
    "\n",
    "large=arr[0]\n",
    "for i in range(a-1):\n",
    "    if (arr[i]<arr[i+1]):\n",
    "        large=arr[i+1]\n",
    "print(\"largest no is: \",large)"
   ]
  },
  {
   "cell_type": "markdown",
   "id": "cb9992ac",
   "metadata": {},
   "source": [
    "# 3"
   ]
  },
  {
   "cell_type": "code",
   "execution_count": 13,
   "id": "292cea3f",
   "metadata": {},
   "outputs": [
    {
     "name": "stdout",
     "output_type": "stream",
     "text": [
      "how many elements you want to enter: 4\n",
      "element no  1\n",
      "1\n",
      "element no  2\n",
      "2\n",
      "element no  3\n",
      "3\n",
      "element no  4\n",
      "4\n",
      "[4, 3, 2, 1]\n"
     ]
    }
   ],
   "source": [
    "a=int(input(\"how many elements you want to enter: \"))\n",
    "arr=[]\n",
    "for i in range(a):\n",
    "    print(\"element no \",(i+1))\n",
    "    arr.append(int(input()))\n",
    "\n",
    "arr=arr[::-1]\n",
    "print(arr)"
   ]
  },
  {
   "cell_type": "markdown",
   "id": "005a983f",
   "metadata": {},
   "source": [
    "# 4"
   ]
  },
  {
   "cell_type": "code",
   "execution_count": 15,
   "id": "d77ddc5a",
   "metadata": {},
   "outputs": [
    {
     "name": "stdout",
     "output_type": "stream",
     "text": [
      "how many elements you want to enter: 10\n",
      "element no  1\n",
      "1\n",
      "element no  2\n",
      "2\n",
      "element no  3\n",
      "3\n",
      "element no  4\n",
      "4\n",
      "element no  5\n",
      "5\n",
      "element no  6\n",
      "6\n",
      "element no  7\n",
      "7\n",
      "element no  8\n",
      "8\n",
      "element no  9\n",
      "9\n",
      "element no  10\n",
      "0\n",
      "from which index you want to split? 5\n",
      "[6, 7, 8, 9, 0, 1, 2, 3, 4, 5]\n"
     ]
    }
   ],
   "source": [
    "a=int(input(\"how many elements you want to enter: \"))\n",
    "arr=[]\n",
    "for i in range(a):\n",
    "    print(\"element no \",(i+1))\n",
    "    arr.append(int(input()))\n",
    "\n",
    "temp=[]\n",
    "s=int(input(\"from which index you want to split? \"))\n",
    "for i in range (s,a):\n",
    "    temp.append(arr[i])\n",
    "for i in range (s):\n",
    "    temp.append(arr[i])\n",
    "print(temp)"
   ]
  },
  {
   "cell_type": "markdown",
   "id": "0b47db7a",
   "metadata": {},
   "source": [
    "# 5"
   ]
  },
  {
   "cell_type": "code",
   "execution_count": 8,
   "id": "84542f5e",
   "metadata": {},
   "outputs": [
    {
     "name": "stdout",
     "output_type": "stream",
     "text": [
      "how many elements you want to enter: 5\n",
      "element no  1\n",
      "67\n",
      "element no  2\n",
      "54\n",
      "element no  3\n",
      "34\n",
      "element no  4\n",
      "23\n",
      "element no  5\n",
      "1\n",
      "array is monotonic\n"
     ]
    }
   ],
   "source": [
    "a=int(input(\"how many elements you want to enter: \"))\n",
    "arr=[]\n",
    "for i in range(a):\n",
    "    print(\"element no \",(i+1))\n",
    "    arr.append(int(input()))\n",
    "\n",
    "flag=0\n",
    "try:\n",
    "    if(arr[0]>arr[1]):\n",
    "        for i in range(a-1):\n",
    "            if(arr[i]<arr[i+1]):\n",
    "                flag=1\n",
    "    else:\n",
    "        for i in range(a-1):\n",
    "            if(arr[i]>arr[i+1]):\n",
    "                flag=1\n",
    "                \n",
    "    if flag==0:\n",
    "        print(\"array is monotonic\")\n",
    "    else:\n",
    "        print(\"array is not monotonic\")\n",
    "except Exception as e:\n",
    "    print(\"only one element in array\")\n",
    "    print(e)\n",
    "    \n",
    "\n"
   ]
  },
  {
   "cell_type": "code",
   "execution_count": null,
   "id": "abab25cb",
   "metadata": {},
   "outputs": [],
   "source": []
  }
 ],
 "metadata": {
  "kernelspec": {
   "display_name": "Python 3 (ipykernel)",
   "language": "python",
   "name": "python3"
  },
  "language_info": {
   "codemirror_mode": {
    "name": "ipython",
    "version": 3
   },
   "file_extension": ".py",
   "mimetype": "text/x-python",
   "name": "python",
   "nbconvert_exporter": "python",
   "pygments_lexer": "ipython3",
   "version": "3.9.12"
  }
 },
 "nbformat": 4,
 "nbformat_minor": 5
}
