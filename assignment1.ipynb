{
 "cells": [
  {
   "cell_type": "raw",
   "id": "00a291c4",
   "metadata": {},
   "source": [
    "#1) values: 'hello',-87.8,6\n",
    "   expressions: *,-,/,+\n"
   ]
  },
  {
   "cell_type": "raw",
   "id": "86ffbea2",
   "metadata": {},
   "source": [
    "#2) string is a datatype in python which can be defined by enclosing the data within \"\" or ''.\n",
    "   variables are the reserved memory locations to store values like string, integer, list etc.\n",
    "   there is no need to declare the varibles separately in python."
   ]
  },
  {
   "cell_type": "raw",
   "id": "a28155d8",
   "metadata": {},
   "source": [
    "#3) int- integer datatype are used to represent either negative or positive numbers with no decimal points. eg:54\n",
    "   float- float datatype are used to represent either negative or positive numbers with decimal points. eg: 54.45\n",
    "   boolean- boolean datatype is used to represent either true or false state."
   ]
  },
  {
   "cell_type": "raw",
   "id": "18ad3a58",
   "metadata": {},
   "source": [
    "#4) expression is a combination of mathematical operations and operants. it is used to generate desired values as per our problem statement\n",
    "eg:x=23+23.23"
   ]
  },
  {
   "cell_type": "raw",
   "id": "2687ce8e",
   "metadata": {},
   "source": [
    "#5)Statements represents an action or command like print statements, assignment statements or it is an instruction that does something. eg:x=34, n=34+3\n",
    "Expression is a combination of mathematical operations and operants. eg:a/5\n",
    "\n"
   ]
  },
  {
   "cell_type": "raw",
   "id": "7a1f5a67",
   "metadata": {},
   "source": [
    "#6)bacon= 22"
   ]
  },
  {
   "cell_type": "raw",
   "id": "d66ff75e",
   "metadata": {},
   "source": [
    "#7)'spam'+'spamspam'='spamspamspam'\n",
    "'spam'*3='spamspamspam'"
   ]
  },
  {
   "cell_type": "markdown",
   "id": "36437a7d",
   "metadata": {},
   "source": [
    "#8) a variable name either should not start with a number or should be a reserved keyword.\n",
    "   it can start with any letters ( small or upper case) or underscore\n",
    " so 100 is not a valid variablename whereas eggs is a valid variablename"
   ]
  },
  {
   "cell_type": "code",
   "execution_count": null,
   "id": "5803846e",
   "metadata": {},
   "outputs": [],
   "source": [
    "#9) The int(),float(),and str() functions can be used to get an integer,float,string respectively"
   ]
  },
  {
   "cell_type": "code",
   "execution_count": null,
   "id": "515b3ee7",
   "metadata": {},
   "outputs": [],
   "source": [
    "#10) the error is due the mismatching of datatypes.\n",
    "it can be fixed by converting the 99 into a string by adding \"\"\n",
    "\"I have eaten\" + \"99\" +\"burritos\""
   ]
  }
 ],
 "metadata": {
  "kernelspec": {
   "display_name": "Python 3 (ipykernel)",
   "language": "python",
   "name": "python3"
  },
  "language_info": {
   "codemirror_mode": {
    "name": "ipython",
    "version": 3
   },
   "file_extension": ".py",
   "mimetype": "text/x-python",
   "name": "python",
   "nbconvert_exporter": "python",
   "pygments_lexer": "ipython3",
   "version": "3.9.12"
  }
 },
 "nbformat": 4,
 "nbformat_minor": 5
}
