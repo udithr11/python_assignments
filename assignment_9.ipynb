{
 "cells": [
  {
   "cell_type": "markdown",
   "id": "a8059ffb",
   "metadata": {},
   "source": [
    "#question 1\n",
    "\n",
    "The relative path is the path to some file with respect to our current working directory.\n",
    "Relative paths are useful when we want to refer to files or directories within the same project without having to specify the complete path from the root directory each time."
   ]
  },
  {
   "cell_type": "code",
   "execution_count": null,
   "id": "e5ef1246",
   "metadata": {},
   "outputs": [],
   "source": []
  },
  {
   "cell_type": "markdown",
   "id": "db13c06f",
   "metadata": {},
   "source": [
    "#question 2\n",
    "\n",
    "In Linux based systems the absolute path starts with \"/\"."
   ]
  },
  {
   "cell_type": "code",
   "execution_count": null,
   "id": "9f07e2e4",
   "metadata": {},
   "outputs": [],
   "source": []
  },
  {
   "cell_type": "markdown",
   "id": "a4b5f258",
   "metadata": {},
   "source": [
    "#question 3\n",
    "\n",
    "os.getcwd() method tells us the location of current working directory (CWD). Whereas os.chdir() method in Python used to change the current working directory to specified path."
   ]
  },
  {
   "cell_type": "code",
   "execution_count": null,
   "id": "45776c77",
   "metadata": {},
   "outputs": [],
   "source": []
  },
  {
   "cell_type": "markdown",
   "id": "0369ca7d",
   "metadata": {},
   "source": [
    "#question4\n",
    "\n",
    ". Represents the Current Directory Whereas .. Represents the Parent Directory of the Current Directory"
   ]
  },
  {
   "cell_type": "code",
   "execution_count": null,
   "id": "92d08e89",
   "metadata": {},
   "outputs": [],
   "source": []
  },
  {
   "cell_type": "markdown",
   "id": "8fec09c7",
   "metadata": {},
   "source": [
    "#question 5\n",
    "\n",
    "The dir name is C:\\\\bacon\\\\eggs\n",
    "The Base name is spam.txt"
   ]
  },
  {
   "cell_type": "code",
   "execution_count": null,
   "id": "a8a9a731",
   "metadata": {},
   "outputs": [],
   "source": []
  },
  {
   "cell_type": "markdown",
   "id": "25ca2e22",
   "metadata": {},
   "source": [
    "#question 6\n",
    "\n",
    "\n",
    "The open() function in Python is used to open files and it can be opened in different modes by giving different mode arguments.\n",
    "\n",
    "1)'r' (Read mode): This is the default mode when no mode argument is provided. It opens the file for reading. we can read data from the file but cannot modify it.\n",
    "\n",
    "2)'w' (Write mode): This mode opens the file for writing. If the file does not exist, a new file is created. \n",
    "\n",
    "3)'a' (Append mode): This mode opens the file for appending data. If the file exists, the new data is written at the end of the file. If the file does not exist, a new file is created. we can't modify its previous content."
   ]
  },
  {
   "cell_type": "code",
   "execution_count": null,
   "id": "6675269e",
   "metadata": {},
   "outputs": [],
   "source": []
  },
  {
   "cell_type": "markdown",
   "id": "277e99cf",
   "metadata": {},
   "source": [
    "#question 7\n",
    "\n",
    "write mode overwrite any existing content in a file. If the given file does not exist, a new one will be created."
   ]
  },
  {
   "cell_type": "code",
   "execution_count": null,
   "id": "c20cbb9e",
   "metadata": {},
   "outputs": [],
   "source": []
  },
  {
   "cell_type": "markdown",
   "id": "275b92b4",
   "metadata": {},
   "source": [
    "#question 8\n",
    "\n",
    "read(): The read() method reads the entire contents of a file as a single string.\n",
    "readlines(): The readlines() method reads the contents of a file line by line and returns a list where each element                represents a line from the file."
   ]
  },
  {
   "cell_type": "code",
   "execution_count": null,
   "id": "1b645af0",
   "metadata": {},
   "outputs": [],
   "source": []
  },
  {
   "cell_type": "code",
   "execution_count": null,
   "id": "bf4cf6a9",
   "metadata": {},
   "outputs": [],
   "source": [
    "#question 9\n",
    "\n",
    "In Python, a shelf value, represented by the shelve module, resembles a dictionary-like data structure."
   ]
  }
 ],
 "metadata": {
  "kernelspec": {
   "display_name": "Python 3 (ipykernel)",
   "language": "python",
   "name": "python3"
  },
  "language_info": {
   "codemirror_mode": {
    "name": "ipython",
    "version": 3
   },
   "file_extension": ".py",
   "mimetype": "text/x-python",
   "name": "python",
   "nbconvert_exporter": "python",
   "pygments_lexer": "ipython3",
   "version": "3.9.12"
  }
 },
 "nbformat": 4,
 "nbformat_minor": 5
}
