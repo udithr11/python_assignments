{
 "cells": [
  {
   "cell_type": "markdown",
   "id": "080ac981",
   "metadata": {},
   "source": [
    "# 1"
   ]
  },
  {
   "cell_type": "code",
   "execution_count": 17,
   "id": "11d54de4",
   "metadata": {},
   "outputs": [
    {
     "name": "stdout",
     "output_type": "stream",
     "text": [
      "enter a no: 34\n",
      "not a disarium number\n"
     ]
    }
   ],
   "source": [
    "\n",
    "n=input(\"enter a no: \")\n",
    "m=n[::-1]\n",
    "m=int(m)\n",
    "sum=0\n",
    "for i in range(1,len(n)+1):\n",
    "    if(m>0):\n",
    "        q=m%10\n",
    "        sum+=q**i\n",
    "        m=int(m/10)\n",
    "n=int(n)\n",
    "if(sum==n):\n",
    "    print(\"disarium number\")\n",
    "else:\n",
    "    print(\"not a disarium number\")\n",
    "    \n",
    "    "
   ]
  },
  {
   "cell_type": "markdown",
   "id": "c93333c6",
   "metadata": {},
   "source": [
    "# 2"
   ]
  },
  {
   "cell_type": "code",
   "execution_count": 1,
   "id": "f31d5d73",
   "metadata": {},
   "outputs": [
    {
     "name": "stdout",
     "output_type": "stream",
     "text": [
      "[0, 1, 2, 3, 4, 5, 6, 7, 8, 9, 89]\n"
     ]
    }
   ],
   "source": [
    "def dis():\n",
    "    ans=[]\n",
    "    for k in range(101):\n",
    "        l=str(k)\n",
    "        u=len(l)\n",
    "        l=l[::-1]\n",
    "        l=int(l)\n",
    "        sum=0\n",
    "        for i in range(1,u+1):\n",
    "            if(l>0):\n",
    "                q=l%10\n",
    "                sum+=q**i\n",
    "                l=int(l/10)\n",
    "        if sum==k:\n",
    "            ans.append(k)\n",
    "    return(ans)\n",
    "    \n",
    "    \n",
    "print(dis())"
   ]
  },
  {
   "cell_type": "markdown",
   "id": "08a9050c",
   "metadata": {},
   "source": [
    "# 3"
   ]
  },
  {
   "cell_type": "code",
   "execution_count": 18,
   "id": "763a3cea",
   "metadata": {},
   "outputs": [
    {
     "name": "stdout",
     "output_type": "stream",
     "text": [
      "enter a number:45\n",
      "[41]\n",
      "[41, 17]\n",
      "[41, 17, 50]\n",
      "[41, 17, 50, 25]\n",
      "[41, 17, 50, 25, 29]\n",
      "[41, 17, 50, 25, 29, 85]\n",
      "[41, 17, 50, 25, 29, 85, 89]\n",
      "[41, 17, 50, 25, 29, 85, 89, 145]\n",
      "[41, 17, 50, 25, 29, 85, 89, 145, 42]\n",
      "[41, 17, 50, 25, 29, 85, 89, 145, 42, 20]\n",
      "[41, 17, 50, 25, 29, 85, 89, 145, 42, 20, 4]\n",
      "[41, 17, 50, 25, 29, 85, 89, 145, 42, 20, 4, 16]\n",
      "[41, 17, 50, 25, 29, 85, 89, 145, 42, 20, 4, 16, 37]\n",
      "[41, 17, 50, 25, 29, 85, 89, 145, 42, 20, 4, 16, 37, 58]\n",
      "[41, 17, 50, 25, 29, 85, 89, 145, 42, 20, 4, 16, 37, 58, 89]\n",
      "[41, 17, 50, 25, 29, 85, 89, 145, 42, 20, 4, 16, 37, 58, 89, 145]\n",
      "not happy no:\n"
     ]
    }
   ],
   "source": [
    "n=int(input(\"enter a number:\"))\n",
    "if(n==1):\n",
    "    n=7\n",
    "flag=0\n",
    "m=n\n",
    "ss=[]\n",
    "while (m<10):\n",
    "    sum=m*m\n",
    "    m=sum\n",
    "\n",
    "h=True    \n",
    "while(h==True):\n",
    "    sum=0\n",
    "    while(m>0):\n",
    "        q=m%10\n",
    "        sum+=q*q\n",
    "        m=int(m/10)\n",
    "    if(sum==1):\n",
    "        print(\"happy no\")\n",
    "        break\n",
    "\n",
    "    ss.append(sum)\n",
    "    print(ss)\n",
    "    flag+=1\n",
    "    m=sum\n",
    "    if (flag>1):\n",
    "        for i in range(len(ss)-1):\n",
    "            for j in range((i+1),len(ss)-1):\n",
    "                if ss[i]==ss[j]:\n",
    "                    print(\"not happy no:\")\n",
    "                    h=False\n",
    "                    break\n",
    "\n"
   ]
  },
  {
   "cell_type": "markdown",
   "id": "22f4f665",
   "metadata": {},
   "source": [
    "# 4"
   ]
  },
  {
   "cell_type": "code",
   "execution_count": 19,
   "id": "5f6460a1",
   "metadata": {},
   "outputs": [
    {
     "name": "stdout",
     "output_type": "stream",
     "text": [
      "[1, 7, 10, 13, 19, 23, 28, 31, 32, 44, 49, 68, 70, 79, 82, 86, 91, 94, 97, 100]\n"
     ]
    }
   ],
   "source": [
    "ans = []\n",
    "for i in range(1, 101):\n",
    "    n = i\n",
    "    flag=0\n",
    "    m=n\n",
    "    ss=[]\n",
    "    while (m<10 and m!=1):\n",
    "        sum=m*m\n",
    "        m=sum\n",
    "\n",
    "    h=True    \n",
    "    while(h==True):\n",
    "        sum=0\n",
    "        while(m>0):\n",
    "            q=m%10\n",
    "            sum+=q*q\n",
    "            m=int(m/10)\n",
    "        if(sum==1):\n",
    "            ans.append(n)\n",
    "            break\n",
    "\n",
    "        ss.append(sum)\n",
    "        flag+=1\n",
    "        m=sum\n",
    "        if (flag>1):\n",
    "            for i in range(len(ss)-1):\n",
    "                for j in range((i+1),len(ss)-1):\n",
    "                    if ss[i]==ss[j]:\n",
    "                        h=False\n",
    "                        break\n",
    "\n",
    "print(ans)\n",
    "      "
   ]
  },
  {
   "cell_type": "markdown",
   "id": "afdcc01d",
   "metadata": {},
   "source": [
    "# 5"
   ]
  },
  {
   "cell_type": "code",
   "execution_count": 20,
   "id": "8e893236",
   "metadata": {},
   "outputs": [
    {
     "name": "stdout",
     "output_type": "stream",
     "text": [
      "enter a number454\n",
      "not harshad number\n"
     ]
    }
   ],
   "source": [
    "n=int(input(\"enter a number\"))\n",
    "m=n\n",
    "sum=0\n",
    "while(m>0):\n",
    "    q=m%10\n",
    "    sum+=q\n",
    "    m=int(m/10)\n",
    "\n",
    "if(n%sum==0):\n",
    "    print(\"harshad number\")\n",
    "else:\n",
    "    print(\"not harshad number\")"
   ]
  },
  {
   "cell_type": "markdown",
   "id": "727a1787",
   "metadata": {},
   "source": [
    "# 6"
   ]
  },
  {
   "cell_type": "code",
   "execution_count": 24,
   "id": "83bee5be",
   "metadata": {},
   "outputs": [
    {
     "name": "stdout",
     "output_type": "stream",
     "text": [
      "[2, 6, 12, 20, 30, 42, 56, 72, 90]\n"
     ]
    }
   ],
   "source": [
    "sum=[]\n",
    "for j in range(1,101):\n",
    "    n=j\n",
    "    for i in range(n):\n",
    "        if (i *(i+1)==j):\n",
    "            sum.append(j)\n",
    "            \n",
    "print(sum)\n",
    "        \n",
    "        \n"
   ]
  },
  {
   "cell_type": "code",
   "execution_count": null,
   "id": "28defef2",
   "metadata": {},
   "outputs": [],
   "source": []
  },
  {
   "cell_type": "code",
   "execution_count": null,
   "id": "d1a7e444",
   "metadata": {},
   "outputs": [],
   "source": []
  },
  {
   "cell_type": "code",
   "execution_count": null,
   "id": "847cc941",
   "metadata": {},
   "outputs": [],
   "source": []
  },
  {
   "cell_type": "code",
   "execution_count": null,
   "id": "67695b03",
   "metadata": {},
   "outputs": [],
   "source": []
  },
  {
   "cell_type": "code",
   "execution_count": null,
   "id": "ba92977a",
   "metadata": {},
   "outputs": [],
   "source": []
  }
 ],
 "metadata": {
  "kernelspec": {
   "display_name": "Python 3 (ipykernel)",
   "language": "python",
   "name": "python3"
  },
  "language_info": {
   "codemirror_mode": {
    "name": "ipython",
    "version": 3
   },
   "file_extension": ".py",
   "mimetype": "text/x-python",
   "name": "python",
   "nbconvert_exporter": "python",
   "pygments_lexer": "ipython3",
   "version": "3.9.12"
  }
 },
 "nbformat": 4,
 "nbformat_minor": 5
}
