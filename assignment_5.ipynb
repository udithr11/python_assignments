{
 "cells": [
  {
   "cell_type": "code",
   "execution_count": 1,
   "id": "d5cf5e81",
   "metadata": {},
   "outputs": [],
   "source": [
    "#1)\n",
    "d={}"
   ]
  },
  {
   "cell_type": "code",
   "execution_count": 7,
   "id": "5918830b",
   "metadata": {},
   "outputs": [],
   "source": [
    "#2)\n",
    "d={\"foo\":42}\n"
   ]
  },
  {
   "cell_type": "code",
   "execution_count": null,
   "id": "2e5869c9",
   "metadata": {},
   "outputs": [],
   "source": [
    "#3)\n",
    "dictionary is represented by {} and list is represented by [].\n",
    "the item stored in the dictionary is unordered whereas the items stored in list is ordered."
   ]
  },
  {
   "cell_type": "code",
   "execution_count": 4,
   "id": "f426dd93",
   "metadata": {},
   "outputs": [],
   "source": [
    "#4)\n",
    "it will show error as the keyword 'foo' is not present."
   ]
  },
  {
   "cell_type": "code",
   "execution_count": null,
   "id": "1e1385dc",
   "metadata": {},
   "outputs": [],
   "source": [
    "#5)\n",
    "there is no difference between them, both will check for the keyword \"cat\" and return the corresponding\n",
    "value to it."
   ]
  },
  {
   "cell_type": "code",
   "execution_count": null,
   "id": "6700808b",
   "metadata": {},
   "outputs": [],
   "source": [
    "#6)\n",
    "'cat' in spam will check for the keyword cat in dictionary spam while 'cat' in spam.values()\n",
    " will check for the value 'cat' in the dictionary."
   ]
  },
  {
   "cell_type": "code",
   "execution_count": null,
   "id": "42ff8116",
   "metadata": {},
   "outputs": [],
   "source": [
    "#7)\n",
    "spam.setdefault('color','black')"
   ]
  },
  {
   "cell_type": "code",
   "execution_count": 10,
   "id": "ad0e8e4e",
   "metadata": {},
   "outputs": [
    {
     "name": "stdout",
     "output_type": "stream",
     "text": [
      "{1: {12: 'sd', 'asd': {5: 'df'}}, 2: 'sdf'}\n"
     ]
    }
   ],
   "source": [
    "#8)\n",
    "first method - we can use pprint from pprint module\n",
    "d={1:{12:\"sd\",\"asd\":{5:\"df\"}},2:\"sdf\"}\n",
    "import pprint\n",
    "pprint.pprint(d)"
   ]
  },
  {
   "cell_type": "code",
   "execution_count": 24,
   "id": "3d094ff6",
   "metadata": {},
   "outputs": [
    {
     "name": "stdout",
     "output_type": "stream",
     "text": [
      "{\n",
      "     \"3\": {\n",
      "          \"12\": \"sd\",\n",
      "          \"asd\": {\n",
      "               \"5\": \"df\"\n",
      "          }\n",
      "     },\n",
      "     \"2\": \"sdf\"\n",
      "}\n"
     ]
    }
   ],
   "source": [
    "second method - we can use dumps() method of json module.\n",
    "json.dumps function takes three arguements - dictionary name, sort_keys which determines whether the \n",
    "entries should be sorted by keys, the space for indentation.\n",
    "\n",
    "v={3:{12:\"sd\",\"asd\":{5:\"df\"}},2:\"sdf\"}\n",
    "import json\n",
    "print(json.dumps(v, sort_keys=False, indent=5))"
   ]
  },
  {
   "cell_type": "code",
   "execution_count": 28,
   "id": "91d7d4e0",
   "metadata": {},
   "outputs": [
    {
     "name": "stdout",
     "output_type": "stream",
     "text": [
      "3:\n",
      "  12: sd\n",
      "  asd:\n",
      "    5: df\n",
      "2: sdf\n",
      "\n"
     ]
    }
   ],
   "source": [
    "third method - we can use dumps() method of yaml module.\n",
    "yaml.dump() also takes in three arguements - dictionary name, sort_keys which determines whether the \n",
    "entries should be sorted by keys and default_flow_style which determines whether the dump’s output style\n",
    "should be inline or block\n",
    "\n",
    "z={3:{12:\"sd\",\"asd\":{5:\"df\"}},2:\"sdf\"}\n",
    "import yaml\n",
    "print(yaml.dump(z, sort_keys=False, default_flow_style=False))\n"
   ]
  },
  {
   "cell_type": "code",
   "execution_count": null,
   "id": "455173b8",
   "metadata": {},
   "outputs": [],
   "source": []
  },
  {
   "cell_type": "code",
   "execution_count": null,
   "id": "90a0ac77",
   "metadata": {},
   "outputs": [],
   "source": []
  },
  {
   "cell_type": "code",
   "execution_count": null,
   "id": "14722588",
   "metadata": {},
   "outputs": [],
   "source": []
  }
 ],
 "metadata": {
  "kernelspec": {
   "display_name": "Python 3 (ipykernel)",
   "language": "python",
   "name": "python3"
  },
  "language_info": {
   "codemirror_mode": {
    "name": "ipython",
    "version": 3
   },
   "file_extension": ".py",
   "mimetype": "text/x-python",
   "name": "python",
   "nbconvert_exporter": "python",
   "pygments_lexer": "ipython3",
   "version": "3.9.12"
  }
 },
 "nbformat": 4,
 "nbformat_minor": 5
}
