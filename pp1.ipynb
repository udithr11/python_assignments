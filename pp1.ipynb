{
 "cells": [
  {
   "cell_type": "markdown",
   "id": "02f66e5d",
   "metadata": {},
   "source": [
    "# 1)"
   ]
  },
  {
   "cell_type": "code",
   "execution_count": 1,
   "id": "1925b9da",
   "metadata": {},
   "outputs": [
    {
     "name": "stdout",
     "output_type": "stream",
     "text": [
      "Hello Python\n"
     ]
    }
   ],
   "source": [
    "print(\"Hello Python\")"
   ]
  },
  {
   "cell_type": "markdown",
   "id": "b28aeb98",
   "metadata": {},
   "source": [
    "# 2)"
   ]
  },
  {
   "cell_type": "code",
   "execution_count": 12,
   "id": "8ff9b426",
   "metadata": {},
   "outputs": [
    {
     "name": "stdout",
     "output_type": "stream",
     "text": [
      "enter first no: 0\n",
      "enter second no: 98\n",
      "division= 0.0 addition=  98\n"
     ]
    }
   ],
   "source": [
    "a=int(input(\"enter first no: \"))\n",
    "b=int(input(\"enter second no: \"))\n",
    "add=a+b\n",
    "try:\n",
    "      div=a/b\n",
    "except Exception as e:\n",
    "    print(e)\n",
    "    div=\"not defined\"\n",
    "        \n",
    "print(\"division=\",div,\"addition= \",add)"
   ]
  },
  {
   "cell_type": "markdown",
   "id": "2069ca37",
   "metadata": {},
   "source": [
    "# 3)"
   ]
  },
  {
   "cell_type": "code",
   "execution_count": 19,
   "id": "52864621",
   "metadata": {},
   "outputs": [
    {
     "name": "stdout",
     "output_type": "stream",
     "text": [
      "enter first no: 23\n",
      "enter second no: 45\n",
      "enter third no: 67\n",
      "area of the triangle= 183.82651468164215\n"
     ]
    }
   ],
   "source": [
    "import math\n",
    "a=int(input(\"enter first no: \"))\n",
    "b=int(input(\"enter second no: \"))\n",
    "c=int(input(\"enter third no: \"))\n",
    "s=(a+b+c)/2\n",
    "area=math.sqrt(s*(s-a)*(s-b)*(s-c))\n",
    "print(\"area of the triangle=\",area)\n"
   ]
  },
  {
   "cell_type": "markdown",
   "id": "93ec062e",
   "metadata": {},
   "source": [
    "# 4) \n",
    "    "
   ]
  },
  {
   "cell_type": "code",
   "execution_count": 23,
   "id": "db6620fa",
   "metadata": {},
   "outputs": [
    {
     "name": "stdout",
     "output_type": "stream",
     "text": [
      "a= 66 b= 987\n"
     ]
    }
   ],
   "source": [
    "a=987\n",
    "b=66\n",
    "a=a+b\n",
    "b=a-b\n",
    "a=a-b\n",
    "print(\"a=\",a,\"b=\",b)"
   ]
  },
  {
   "cell_type": "markdown",
   "id": "9131f8cd",
   "metadata": {},
   "source": [
    "# 5)"
   ]
  },
  {
   "cell_type": "code",
   "execution_count": 25,
   "id": "3ec86e95",
   "metadata": {},
   "outputs": [
    {
     "name": "stdout",
     "output_type": "stream",
     "text": [
      "0.2031826458950945\n"
     ]
    }
   ],
   "source": [
    "from random import random\n",
    "print(random())"
   ]
  },
  {
   "cell_type": "code",
   "execution_count": null,
   "id": "19aa642f",
   "metadata": {},
   "outputs": [],
   "source": []
  }
 ],
 "metadata": {
  "kernelspec": {
   "display_name": "Python 3 (ipykernel)",
   "language": "python",
   "name": "python3"
  },
  "language_info": {
   "codemirror_mode": {
    "name": "ipython",
    "version": 3
   },
   "file_extension": ".py",
   "mimetype": "text/x-python",
   "name": "python",
   "nbconvert_exporter": "python",
   "pygments_lexer": "ipython3",
   "version": "3.9.12"
  }
 },
 "nbformat": 4,
 "nbformat_minor": 5
}
