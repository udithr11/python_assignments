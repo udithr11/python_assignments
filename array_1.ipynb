{
 "cells": [
  {
   "cell_type": "code",
   "execution_count": 29,
   "id": "054a14dc",
   "metadata": {},
   "outputs": [
    {
     "name": "stdout",
     "output_type": "stream",
     "text": [
      "[0, 1]\n"
     ]
    }
   ],
   "source": [
    "#question 1\n",
    "\n",
    "def Sum(nums, target):\n",
    "    d = {}\n",
    "    \n",
    "    for i, num in enumerate(nums):\n",
    "        diff = target - num\n",
    "        if diff in d:\n",
    "            return [d[diff], i]\n",
    "        d[num] = i\n",
    "    \n",
    "    return []  \n",
    "\n",
    "\n",
    "nums = [2,7,11,15]\n",
    "target = 9\n",
    "print(Sum(nums,target))"
   ]
  },
  {
   "cell_type": "code",
   "execution_count": null,
   "id": "7c6c9e7b",
   "metadata": {},
   "outputs": [],
   "source": []
  },
  {
   "cell_type": "code",
   "execution_count": 30,
   "id": "c334e0c0",
   "metadata": {},
   "outputs": [
    {
     "name": "stdout",
     "output_type": "stream",
     "text": [
      "2\n"
     ]
    }
   ],
   "source": [
    "#question 2\n",
    "\n",
    "\n",
    "def removeElement(nums, val):\n",
    "    k=0\n",
    "    for i in range(len(nums)):\n",
    "        if(nums[i]!=val):\n",
    "            nums[k]=nums[i]\n",
    "            k+=1\n",
    "    return k\n",
    "\n",
    "nums = [3,2,2,3]\n",
    "val = 3\n",
    "print(removeElement(nums,val))"
   ]
  },
  {
   "cell_type": "code",
   "execution_count": null,
   "id": "6a612c20",
   "metadata": {},
   "outputs": [],
   "source": []
  },
  {
   "cell_type": "code",
   "execution_count": 32,
   "id": "b133ba1f",
   "metadata": {},
   "outputs": [
    {
     "name": "stdout",
     "output_type": "stream",
     "text": [
      "2\n"
     ]
    }
   ],
   "source": [
    "#question 3\n",
    "\n",
    "def searchInsert(nums, target):\n",
    "    l=0\n",
    "    r=len(nums)-1\n",
    "    while(l<=r):\n",
    "        mid=((l+r)//2)\n",
    "        if(target == nums[mid]):\n",
    "            return mid\n",
    "        if(target>nums[mid]):\n",
    "            l=mid+1\n",
    "        else:\n",
    "            r=mid-1\n",
    "    return l\n",
    "\n",
    "nums = [1,3,5,6]\n",
    "target = 5\n",
    "print(searchInsert(nums, target))\n"
   ]
  },
  {
   "cell_type": "code",
   "execution_count": null,
   "id": "8056b7e3",
   "metadata": {},
   "outputs": [],
   "source": []
  },
  {
   "cell_type": "code",
   "execution_count": 34,
   "id": "c1ccb192",
   "metadata": {},
   "outputs": [
    {
     "name": "stdout",
     "output_type": "stream",
     "text": [
      "[1, 0]\n"
     ]
    }
   ],
   "source": [
    "#question 4\n",
    "\n",
    "def plusOne(digits):\n",
    "    if(set(digits)=={9}):\n",
    "        l=[0 for i in range(len(digits)+1)]\n",
    "\n",
    "        l[0]=1\n",
    "        return l\n",
    "\n",
    "    digits[-1]+=1\n",
    "    i=1\n",
    "    while(True):\n",
    "        if(digits[-i]>9):\n",
    "            digits[-i]=0\n",
    "            digits[-(i+1)]+=1\n",
    "            i+=1\n",
    "\n",
    "\n",
    "        else:\n",
    "            return digits\n",
    "        \n",
    "digits = [9]\n",
    "print(plusOne(digits))"
   ]
  },
  {
   "cell_type": "code",
   "execution_count": null,
   "id": "8b0cdc23",
   "metadata": {},
   "outputs": [],
   "source": []
  },
  {
   "cell_type": "code",
   "execution_count": 48,
   "id": "8a4b53af",
   "metadata": {},
   "outputs": [
    {
     "data": {
      "text/plain": [
       "[1, 2, 2, 3, 5, 6]"
      ]
     },
     "execution_count": 48,
     "metadata": {},
     "output_type": "execute_result"
    }
   ],
   "source": [
    "#question 5\n",
    "\n",
    "nums1 = [1,2,3,0,0,0]\n",
    "m = 3\n",
    "nums2 = [2,5,6]\n",
    "n = 3\n",
    "j=0\n",
    "for i in range(m,len(nums1)):\n",
    "    nums1[i]=nums2[j]\n",
    "    j+=1\n",
    "nums1=sorted(nums1)\n",
    "\n",
    "nums1"
   ]
  },
  {
   "cell_type": "code",
   "execution_count": null,
   "id": "9ae84d32",
   "metadata": {},
   "outputs": [],
   "source": []
  },
  {
   "cell_type": "code",
   "execution_count": 36,
   "id": "d43eb010",
   "metadata": {},
   "outputs": [
    {
     "name": "stdout",
     "output_type": "stream",
     "text": [
      "True\n"
     ]
    }
   ],
   "source": [
    "#quetion 6\n",
    "def n(nums):\n",
    "    nums=sorted(nums)\n",
    "    for i in range(len(nums)-1):\n",
    "        if nums[i]==nums[i+1]:\n",
    "            return(True)\n",
    "    return False\n",
    "\n",
    "\n",
    "nums = [1,2,3,1]\n",
    "print(n(nums))\n",
    "\n"
   ]
  },
  {
   "cell_type": "code",
   "execution_count": null,
   "id": "9885d0ae",
   "metadata": {},
   "outputs": [],
   "source": []
  },
  {
   "cell_type": "code",
   "execution_count": 39,
   "id": "8532c2a4",
   "metadata": {},
   "outputs": [
    {
     "name": "stdout",
     "output_type": "stream",
     "text": [
      "[1, 3, 12, 0, 0]\n"
     ]
    }
   ],
   "source": [
    "#question 7\n",
    "\n",
    "def moveZeros(nums):\n",
    "    k=0\n",
    "    for i in range(len(nums)):\n",
    "        if nums[i] != 0:\n",
    "            nums[i], nums[k] = nums[k], nums[i]\n",
    "            k += 1\n",
    "    return nums\n",
    "\n",
    "nums = [0,1,0,3,12]\n",
    "print(moveZeros(nums))"
   ]
  },
  {
   "cell_type": "code",
   "execution_count": null,
   "id": "0f4e701f",
   "metadata": {},
   "outputs": [],
   "source": []
  },
  {
   "cell_type": "code",
   "execution_count": 44,
   "id": "d2167337",
   "metadata": {},
   "outputs": [
    {
     "name": "stdout",
     "output_type": "stream",
     "text": [
      "Counter({2: 2})\n",
      "[2, 1]\n"
     ]
    }
   ],
   "source": [
    "#question 8\n",
    "\n",
    "from typing import List\n",
    "from collections import Counter\n",
    "\n",
    "class Solution:\n",
    "    def findErrorNums(self, nums: List[int]) -> List[int]:\n",
    "        mis, rep = None, None\n",
    "        lookup = Counter(nums)\n",
    "        print(lookup)\n",
    "\n",
    "        for i in range(1, len(nums) + 1):\n",
    "            if i not in lookup:\n",
    "                mis = i\n",
    "            if lookup[i] > 1:\n",
    "                rep = i\n",
    "\n",
    "        return [rep, mis]\n",
    "    \n",
    "nums=[2,2]\n",
    "a=Solution()\n",
    "print(a.findErrorNums(nums))"
   ]
  },
  {
   "cell_type": "code",
   "execution_count": null,
   "id": "d56e8d95",
   "metadata": {},
   "outputs": [],
   "source": []
  },
  {
   "cell_type": "code",
   "execution_count": null,
   "id": "c912ffd2",
   "metadata": {},
   "outputs": [],
   "source": []
  }
 ],
 "metadata": {
  "kernelspec": {
   "display_name": "Python 3 (ipykernel)",
   "language": "python",
   "name": "python3"
  },
  "language_info": {
   "codemirror_mode": {
    "name": "ipython",
    "version": 3
   },
   "file_extension": ".py",
   "mimetype": "text/x-python",
   "name": "python",
   "nbconvert_exporter": "python",
   "pygments_lexer": "ipython3",
   "version": "3.9.12"
  }
 },
 "nbformat": 4,
 "nbformat_minor": 5
}
