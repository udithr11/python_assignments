{
 "cells": [
  {
   "cell_type": "code",
   "execution_count": 24,
   "id": "7ccc1f57",
   "metadata": {},
   "outputs": [
    {
     "name": "stdout",
     "output_type": "stream",
     "text": [
      "4\n"
     ]
    }
   ],
   "source": [
    "#question 1\n",
    "\n",
    "def arrayPairSum(nums):\n",
    "    nums.sort()\n",
    "    return sum(nums[::2])\n",
    "\n",
    "nums = [1,4,3,2]\n",
    "print(arrayPairSum(nums))"
   ]
  },
  {
   "cell_type": "code",
   "execution_count": null,
   "id": "1934aa2c",
   "metadata": {},
   "outputs": [],
   "source": []
  },
  {
   "cell_type": "code",
   "execution_count": 25,
   "id": "33aa8040",
   "metadata": {},
   "outputs": [
    {
     "name": "stdout",
     "output_type": "stream",
     "text": [
      "3\n"
     ]
    }
   ],
   "source": [
    "#question 2\n",
    "\n",
    "def distributeCandies(candyType):\n",
    "    set_length=len(set(candyType))\n",
    "    array_length=len(candyType)//2\n",
    "    if(set_length<array_length): return set_length\n",
    "    return array_length\n",
    "\n",
    "candyType = [1,1,2,2,3,3]\n",
    "print(distributeCandies(candyType))"
   ]
  },
  {
   "cell_type": "code",
   "execution_count": null,
   "id": "6f799864",
   "metadata": {},
   "outputs": [],
   "source": []
  },
  {
   "cell_type": "code",
   "execution_count": 26,
   "id": "49f73b06",
   "metadata": {},
   "outputs": [
    {
     "name": "stdout",
     "output_type": "stream",
     "text": [
      "5\n"
     ]
    }
   ],
   "source": [
    "#question 3\n",
    "\n",
    "from collections import Counter\n",
    "\n",
    "def findLHS(nums):\n",
    "    count = dict(Counter(nums))\n",
    "    result=0\n",
    "    for i in count:\n",
    "        if i+1 in count:\n",
    "            result=max(result,count[i]+count[i+1])\n",
    "    return result\n",
    "\n",
    "nums = [1,3,2,2,5,2,3,7]\n",
    "print(findLHS(nums))"
   ]
  },
  {
   "cell_type": "code",
   "execution_count": null,
   "id": "d5329da2",
   "metadata": {},
   "outputs": [],
   "source": []
  },
  {
   "cell_type": "code",
   "execution_count": 27,
   "id": "75c83b00",
   "metadata": {},
   "outputs": [
    {
     "name": "stdout",
     "output_type": "stream",
     "text": [
      "True\n"
     ]
    }
   ],
   "source": [
    "#question 4\n",
    "\n",
    "def canPlaceFlowers(flowerbed,n):\n",
    "    f=[0]+flowerbed+[0]\n",
    "    for i in range(1,len(f)-1):\n",
    "        if(f[i-1]==0 and f[i]==0 and f[i+1]==0):\n",
    "            f[i]=1\n",
    "            n-=1\n",
    "    if(n<=0):\n",
    "        return True\n",
    "    return False\n",
    "\n",
    "flowerbed = [1,0,0,0,1]\n",
    "n = 1\n",
    "print(canPlaceFlowers(flowerbed,n))"
   ]
  },
  {
   "cell_type": "code",
   "execution_count": null,
   "id": "1badc2d7",
   "metadata": {},
   "outputs": [],
   "source": []
  },
  {
   "cell_type": "code",
   "execution_count": 28,
   "id": "41a9e54c",
   "metadata": {},
   "outputs": [
    {
     "name": "stdout",
     "output_type": "stream",
     "text": [
      "6\n"
     ]
    }
   ],
   "source": [
    "#question 5\n",
    "def maximumProduct(nums):\n",
    "    nums=sorted(nums)\n",
    "    p1=nums[-1]*nums[-2]*nums[-3]\n",
    "    p2=nums[0]*nums[1]*nums[-1]\n",
    "    return max(p1,p2)\n",
    "\n",
    "nums = [1,2,3]\n",
    "print(maximumProduct(nums))"
   ]
  },
  {
   "cell_type": "code",
   "execution_count": null,
   "id": "60b8b74a",
   "metadata": {},
   "outputs": [],
   "source": []
  },
  {
   "cell_type": "code",
   "execution_count": 29,
   "id": "8b1f2dec",
   "metadata": {},
   "outputs": [
    {
     "name": "stdout",
     "output_type": "stream",
     "text": [
      "4\n"
     ]
    }
   ],
   "source": [
    "#Question 6\n",
    "\n",
    "def searchInsert(nums, target):\n",
    "    l=0\n",
    "    r=len(nums)-1\n",
    "    while(l<=r):\n",
    "        mid=((l+r)//2)\n",
    "        if(target == nums[mid]):\n",
    "            return mid\n",
    "        if(target>nums[mid]):\n",
    "            l=mid+1\n",
    "        else:\n",
    "            r=mid-1\n",
    "    return l\n",
    "\n",
    "nums = [-1,0,3,5,9,12]\n",
    "target = 9\n",
    "print(searchInsert(nums, target))"
   ]
  },
  {
   "cell_type": "code",
   "execution_count": null,
   "id": "518ff3af",
   "metadata": {},
   "outputs": [],
   "source": []
  },
  {
   "cell_type": "code",
   "execution_count": 3,
   "id": "92dcb170",
   "metadata": {},
   "outputs": [
    {
     "name": "stdout",
     "output_type": "stream",
     "text": [
      "True\n"
     ]
    }
   ],
   "source": [
    "#question 7\n",
    "\n",
    "def isMonotonic(nums):\n",
    "    sortted_array=sorted(nums)\n",
    "    sort_inverse=sortted_array[::-1]\n",
    "    if nums==sortted_array: return True\n",
    "    if nums==sort_inverse: return True\n",
    "    return False\n",
    "\n",
    "nums = [1,2,2,3]\n",
    "print(isMonotonic(nums))"
   ]
  },
  {
   "cell_type": "code",
   "execution_count": null,
   "id": "0b805b48",
   "metadata": {},
   "outputs": [],
   "source": []
  },
  {
   "cell_type": "code",
   "execution_count": 30,
   "id": "91d94372",
   "metadata": {},
   "outputs": [
    {
     "name": "stdout",
     "output_type": "stream",
     "text": [
      "0\n"
     ]
    }
   ],
   "source": [
    "#question 8\n",
    "\n",
    "def smallestRangeI(nums,k):\n",
    "    max_=max(nums)-k\n",
    "    min_=min(nums)+k\n",
    "    if(min_>max_):\n",
    "        return 0\n",
    "    else:return max_-min_\n",
    "    \n",
    "nums = [1]\n",
    "k = 0\n",
    "print(smallestRangeI(nums,k))"
   ]
  },
  {
   "cell_type": "code",
   "execution_count": null,
   "id": "e12046e1",
   "metadata": {},
   "outputs": [],
   "source": []
  },
  {
   "cell_type": "code",
   "execution_count": null,
   "id": "b20c0847",
   "metadata": {},
   "outputs": [],
   "source": []
  },
  {
   "cell_type": "code",
   "execution_count": null,
   "id": "58a61c3b",
   "metadata": {},
   "outputs": [],
   "source": []
  },
  {
   "cell_type": "code",
   "execution_count": null,
   "id": "6daa3a4d",
   "metadata": {},
   "outputs": [],
   "source": []
  },
  {
   "cell_type": "code",
   "execution_count": null,
   "id": "e6befaed",
   "metadata": {},
   "outputs": [],
   "source": []
  },
  {
   "cell_type": "code",
   "execution_count": null,
   "id": "6721b5dc",
   "metadata": {},
   "outputs": [],
   "source": []
  },
  {
   "cell_type": "code",
   "execution_count": null,
   "id": "fa8ec0fd",
   "metadata": {},
   "outputs": [],
   "source": []
  },
  {
   "cell_type": "code",
   "execution_count": null,
   "id": "72675e88",
   "metadata": {},
   "outputs": [],
   "source": []
  },
  {
   "cell_type": "code",
   "execution_count": null,
   "id": "ed77c91e",
   "metadata": {},
   "outputs": [],
   "source": []
  },
  {
   "cell_type": "code",
   "execution_count": null,
   "id": "00753789",
   "metadata": {},
   "outputs": [],
   "source": []
  },
  {
   "cell_type": "code",
   "execution_count": null,
   "id": "15cf9d0e",
   "metadata": {},
   "outputs": [],
   "source": []
  }
 ],
 "metadata": {
  "kernelspec": {
   "display_name": "Python 3 (ipykernel)",
   "language": "python",
   "name": "python3"
  },
  "language_info": {
   "codemirror_mode": {
    "name": "ipython",
    "version": 3
   },
   "file_extension": ".py",
   "mimetype": "text/x-python",
   "name": "python",
   "nbconvert_exporter": "python",
   "pygments_lexer": "ipython3",
   "version": "3.9.12"
  }
 },
 "nbformat": 4,
 "nbformat_minor": 5
}
