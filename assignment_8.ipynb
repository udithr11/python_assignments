{
 "cells": [
  {
   "cell_type": "markdown",
   "id": "4c8777c8",
   "metadata": {},
   "source": [
    "#question  1\n",
    "\n",
    "No, PyInputPlus is not a part of Python Standard Library, it needs to be installed separately using \"!pip install PyInputPlus\""
   ]
  },
  {
   "cell_type": "code",
   "execution_count": null,
   "id": "6d39dbf4",
   "metadata": {},
   "outputs": [],
   "source": []
  },
  {
   "cell_type": "markdown",
   "id": "c60928ca",
   "metadata": {},
   "source": [
    "#question 2\n",
    "\n",
    "PyInputPlus commonly imported with import pyinputplus as pypi because we can use pypi when calling the\n",
    "module's functions."
   ]
  },
  {
   "cell_type": "code",
   "execution_count": null,
   "id": "c6d715f6",
   "metadata": {},
   "outputs": [],
   "source": []
  },
  {
   "cell_type": "markdown",
   "id": "319f5fa4",
   "metadata": {},
   "source": [
    "#question 3\n",
    "\n",
    "inputInt() function Accepts an integer value and it returns an int.\n",
    "\n",
    "inputFloat() function Accepts a floating-point numeric value and always returns a float."
   ]
  },
  {
   "cell_type": "code",
   "execution_count": null,
   "id": "0cd4ea44",
   "metadata": {},
   "outputs": [],
   "source": []
  },
  {
   "cell_type": "code",
   "execution_count": 4,
   "id": "14605a58",
   "metadata": {},
   "outputs": [
    {
     "name": "stdout",
     "output_type": "stream",
     "text": [
      "Enter a number: 999\n",
      "Number must be at maximum 100.\n",
      "Enter a number: 99.9\n",
      "'99.9' is not an integer.\n",
      "Enter a number: 99\n",
      "99\n"
     ]
    }
   ],
   "source": [
    "#question 4\n",
    "#we can use min and max parameters to contain the input of the user\n",
    "\n",
    "import pyinputplus as pyip\n",
    "n = pyip.inputInt(prompt='Enter a number: ', min=0, max=100)\n",
    "print(n)"
   ]
  },
  {
   "cell_type": "code",
   "execution_count": null,
   "id": "c75c1b83",
   "metadata": {},
   "outputs": [],
   "source": []
  },
  {
   "cell_type": "markdown",
   "id": "0eb7d941",
   "metadata": {},
   "source": [
    "#question 5\n",
    "\n",
    "we can use allowRegexes and blockRegexes keyword arguments to take list of regular expression strings to determine what the pyinputplus function will reject or accept valid input"
   ]
  },
  {
   "cell_type": "code",
   "execution_count": null,
   "id": "2fad9bc5",
   "metadata": {},
   "outputs": [],
   "source": []
  },
  {
   "cell_type": "markdown",
   "id": "789cdfbb",
   "metadata": {},
   "source": [
    "#question 6\n",
    "\n",
    "The statement inputStr(limit=3) will show two exceptions ValidationException and RetryLimitException. The blank values are not allowed by inputStr() function by default. if we want to consider blank values as valid input, we have to set blank=True."
   ]
  },
  {
   "cell_type": "code",
   "execution_count": null,
   "id": "61e1fc55",
   "metadata": {},
   "outputs": [],
   "source": []
  },
  {
   "cell_type": "markdown",
   "id": "06679796",
   "metadata": {},
   "source": [
    "#question 7\n",
    "\n",
    "The default parameter is set to hello. if blank input is entered 3 times, exception RetryLimitException is raised. afte that function will give input as hello to the calling function.\n"
   ]
  },
  {
   "cell_type": "code",
   "execution_count": null,
   "id": "f4c30d10",
   "metadata": {},
   "outputs": [],
   "source": []
  }
 ],
 "metadata": {
  "kernelspec": {
   "display_name": "Python 3 (ipykernel)",
   "language": "python",
   "name": "python3"
  },
  "language_info": {
   "codemirror_mode": {
    "name": "ipython",
    "version": 3
   },
   "file_extension": ".py",
   "mimetype": "text/x-python",
   "name": "python",
   "nbconvert_exporter": "python",
   "pygments_lexer": "ipython3",
   "version": "3.9.12"
  }
 },
 "nbformat": 4,
 "nbformat_minor": 5
}
