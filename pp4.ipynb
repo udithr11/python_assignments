{
 "cells": [
  {
   "cell_type": "markdown",
   "id": "23fc77b1",
   "metadata": {},
   "source": [
    "# 1)"
   ]
  },
  {
   "cell_type": "markdown",
   "id": "09df9b1a",
   "metadata": {},
   "source": [
    "n=int(input('enter a no:'))\n",
    "f=1\n",
    "for i in range(1,n+1):\n",
    "    f=f*i\n",
    "print(f)"
   ]
  },
  {
   "cell_type": "markdown",
   "id": "9a02e812",
   "metadata": {},
   "source": [
    "# 2)"
   ]
  },
  {
   "cell_type": "code",
   "execution_count": 1,
   "id": "66d642a1",
   "metadata": {},
   "outputs": [
    {
     "name": "stdout",
     "output_type": "stream",
     "text": [
      "enter a no:4\n",
      "4 * 1 = 4\n",
      "4 * 2 = 8\n",
      "4 * 3 = 12\n",
      "4 * 4 = 16\n",
      "4 * 5 = 20\n",
      "4 * 6 = 24\n",
      "4 * 7 = 28\n",
      "4 * 8 = 32\n",
      "4 * 9 = 36\n",
      "4 * 10 = 40\n"
     ]
    }
   ],
   "source": [
    "n=int(input('enter a no:'))\n",
    "for i in range(1,11):\n",
    "    print(n,\"*\",i,\"=\",n*i)"
   ]
  },
  {
   "cell_type": "markdown",
   "id": "a915f287",
   "metadata": {},
   "source": [
    "# 3)"
   ]
  },
  {
   "cell_type": "code",
   "execution_count": 4,
   "id": "35e77168",
   "metadata": {},
   "outputs": [
    {
     "name": "stdout",
     "output_type": "stream",
     "text": [
      "enter a no:10\n",
      "[1, 1, 2, 3, 5, 8, 13, 21, 34, 55]\n"
     ]
    }
   ],
   "source": [
    "n=int(input('enter a no:'))\n",
    "f1=1\n",
    "f2=1\n",
    "l=[1,1]\n",
    "for i in range(1,n-1):\n",
    "    f=f1+f2\n",
    "    l.append(f)\n",
    "    f1=f2\n",
    "    f2=f\n",
    "print(l)"
   ]
  },
  {
   "cell_type": "markdown",
   "id": "f30f8609",
   "metadata": {},
   "source": [
    "# 4)"
   ]
  },
  {
   "cell_type": "code",
   "execution_count": 14,
   "id": "f4ee7505",
   "metadata": {},
   "outputs": [
    {
     "name": "stdout",
     "output_type": "stream",
     "text": [
      "enter a no:407\n",
      "amstrong number\n"
     ]
    }
   ],
   "source": [
    "n=int(input('enter a no:'))\n",
    "m=n\n",
    "s=0\n",
    "p=len(str(n))\n",
    "while n!=0:\n",
    "    w=n%10\n",
    "    s=s+w**p\n",
    "    n=int(n/10)\n",
    "if(m==s):\n",
    "    print(\"amstrong number\")\n",
    "else:\n",
    "    print(\"not amstrong\")"
   ]
  },
  {
   "cell_type": "markdown",
   "id": "5523c7d6",
   "metadata": {},
   "source": [
    "# 5)"
   ]
  },
  {
   "cell_type": "code",
   "execution_count": 1,
   "id": "a47f3960",
   "metadata": {},
   "outputs": [
    {
     "name": "stdout",
     "output_type": "stream",
     "text": [
      "enter the lower limit:1\n",
      "enter the upper limit:10000\n",
      "[1, 2, 3, 4, 5, 6, 7, 8, 9, 153, 370, 371, 407, 1634, 8208, 9474]\n"
     ]
    }
   ],
   "source": [
    "a=int(input('enter the lower limit:'))\n",
    "z=int(input('enter the upper limit:'))\n",
    "l=[]\n",
    "for i in range(a,z):\n",
    "    j=i\n",
    "    s=0\n",
    "    p=len(str(j))\n",
    "    while j!=0:\n",
    "        w=j%10\n",
    "        s=s+w**p\n",
    "        j=int(j/10)\n",
    "    if (i==s):\n",
    "        l.append(i)\n",
    "print(l)\n",
    "    "
   ]
  },
  {
   "cell_type": "markdown",
   "id": "0672ccd8",
   "metadata": {},
   "source": [
    "# 6)"
   ]
  },
  {
   "cell_type": "code",
   "execution_count": 5,
   "id": "dcfc9415",
   "metadata": {},
   "outputs": [
    {
     "name": "stdout",
     "output_type": "stream",
     "text": [
      "enter the upper limit:10\n",
      "sum upto  10 = 45\n"
     ]
    }
   ],
   "source": [
    "z=int(input('enter the upper limit:'))\n",
    "s=0\n",
    "for i in range(1,z):\n",
    "    s=s+i\n",
    "print(\"sum upto \",z,\"=\",s)"
   ]
  },
  {
   "cell_type": "code",
   "execution_count": null,
   "id": "35e2b373",
   "metadata": {},
   "outputs": [],
   "source": []
  }
 ],
 "metadata": {
  "kernelspec": {
   "display_name": "Python 3 (ipykernel)",
   "language": "python",
   "name": "python3"
  },
  "language_info": {
   "codemirror_mode": {
    "name": "ipython",
    "version": 3
   },
   "file_extension": ".py",
   "mimetype": "text/x-python",
   "name": "python",
   "nbconvert_exporter": "python",
   "pygments_lexer": "ipython3",
   "version": "3.9.12"
  }
 },
 "nbformat": 4,
 "nbformat_minor": 5
}
