{
 "cells": [
  {
   "cell_type": "code",
   "execution_count": 13,
   "id": "c845a6cf",
   "metadata": {},
   "outputs": [
    {
     "name": "stdout",
     "output_type": "stream",
     "text": [
      "[[1, 2], [3, 4], [5, 6], [7, 8], [9, 10]]\n"
     ]
    }
   ],
   "source": [
    "#question1\n",
    "\n",
    "def convert_2d_3d(original,m,n):\n",
    "    k=0\n",
    "    out=[[0 for i in range(n)] for j in range(m)]\n",
    "    for i in range(m):\n",
    "        for j in range(n):\n",
    "            out[i][j]=original[k]\n",
    "            k+=1\n",
    "    return out\n",
    "\n",
    "\n",
    "original = [1,2,3,4,5,6,7,8,9,10]\n",
    "m = 5\n",
    "n = 2\n",
    "print( convert_2d_3d(original,m,n))"
   ]
  },
  {
   "cell_type": "code",
   "execution_count": null,
   "id": "9bd77a79",
   "metadata": {},
   "outputs": [],
   "source": []
  },
  {
   "cell_type": "code",
   "execution_count": 1,
   "id": "49f34e42",
   "metadata": {},
   "outputs": [
    {
     "name": "stdout",
     "output_type": "stream",
     "text": [
      "3\n"
     ]
    }
   ],
   "source": [
    "#question 2\n",
    "\n",
    "def staircase(n):\n",
    "    row=1\n",
    "    while(n>=row):\n",
    "        n-=row\n",
    "        row+=1\n",
    "    return row-1\n",
    "\n",
    "n=6\n",
    "print(staircase(n))"
   ]
  },
  {
   "cell_type": "code",
   "execution_count": null,
   "id": "17b628f6",
   "metadata": {},
   "outputs": [],
   "source": []
  },
  {
   "cell_type": "code",
   "execution_count": 2,
   "id": "2820b5ae",
   "metadata": {},
   "outputs": [
    {
     "name": "stdout",
     "output_type": "stream",
     "text": [
      "[0, 1, 9, 16, 100]\n"
     ]
    }
   ],
   "source": [
    "#question 3\n",
    "\n",
    "\n",
    "def sq(nums):\n",
    "    nums=[i*i for i in nums]\n",
    "    return sorted(nums)\n",
    "\n",
    "nums = [-4,-1,0,3,10]\n",
    "print(sq(nums))"
   ]
  },
  {
   "cell_type": "code",
   "execution_count": null,
   "id": "f7678223",
   "metadata": {},
   "outputs": [],
   "source": []
  },
  {
   "cell_type": "code",
   "execution_count": 3,
   "id": "8403641a",
   "metadata": {},
   "outputs": [
    {
     "name": "stdout",
     "output_type": "stream",
     "text": [
      "[[1, 3], [4, 6]]\n"
     ]
    }
   ],
   "source": [
    "#question 4\n",
    "\n",
    "def find_disjoint_nums(nums1, nums2):\n",
    "    s1 = set(nums1)\n",
    "    s2 = set(nums2)\n",
    "\n",
    "    first = list(s1-s2)\n",
    "    second = list(s2-s1)\n",
    "\n",
    "    return [first,second]\n",
    "\n",
    "nums1 = [1,2,3]\n",
    "nums2 = [2,4,6]\n",
    "print(find_disjoint_nums(nums1,nums2))"
   ]
  },
  {
   "cell_type": "code",
   "execution_count": null,
   "id": "20b8c795",
   "metadata": {},
   "outputs": [],
   "source": []
  },
  {
   "cell_type": "code",
   "execution_count": 16,
   "id": "f0904992",
   "metadata": {},
   "outputs": [
    {
     "name": "stdout",
     "output_type": "stream",
     "text": [
      "2\n"
     ]
    }
   ],
   "source": [
    "#question5\n",
    "\n",
    "\n",
    "def distance(arr1,arr2,d):\n",
    "    out=[]\n",
    "    for i in arr1:\n",
    "        flag=0\n",
    "        for j in arr2:\n",
    "            if (abs(i-j)<d):\n",
    "                flag=1\n",
    "        if (flag==0):\n",
    "            out.append(i)\n",
    "    return (len(out))\n",
    "\n",
    "\n",
    "arr1 = [4,5,8]\n",
    "arr2 = [10,9,1,8]\n",
    "d = 2\n",
    "print(distance(arr1,arr2,d))"
   ]
  },
  {
   "cell_type": "code",
   "execution_count": null,
   "id": "becd0d65",
   "metadata": {},
   "outputs": [],
   "source": []
  },
  {
   "cell_type": "code",
   "execution_count": 18,
   "id": "3f386849",
   "metadata": {},
   "outputs": [
    {
     "name": "stdout",
     "output_type": "stream",
     "text": [
      "[2, 3]\n"
     ]
    }
   ],
   "source": [
    "#quetion 6\n",
    "\n",
    "def findDuplicates(nums):\n",
    "    result = []\n",
    "\n",
    "    for num in nums:\n",
    "        index = abs(num) - 1\n",
    "        if nums[index] < 0:\n",
    "            result.append(abs(num))\n",
    "        else:\n",
    "            nums[index] = -nums[index]\n",
    "\n",
    "    return result\n",
    "\n",
    "\n",
    "nums = [4,3,2,7,8,2,3,1]\n",
    "print(findDuplicates(nums))"
   ]
  },
  {
   "cell_type": "code",
   "execution_count": null,
   "id": "b35ba4e0",
   "metadata": {},
   "outputs": [],
   "source": []
  },
  {
   "cell_type": "code",
   "execution_count": 62,
   "id": "c88618b4",
   "metadata": {},
   "outputs": [
    {
     "name": "stdout",
     "output_type": "stream",
     "text": [
      "1\n"
     ]
    }
   ],
   "source": [
    "#question 7\n",
    "\n",
    "def Binary(nums):\n",
    "    left = 0\n",
    "    right = len(nums) - 1\n",
    "\n",
    "    while left < right:\n",
    "        mid = (left + right) // 2\n",
    "\n",
    "        if nums[mid] > nums[right]:\n",
    "            left = mid + 1\n",
    "        elif nums[mid] < nums[right]:\n",
    "            right = mid\n",
    "        else:\n",
    "            right -= 1\n",
    "\n",
    "    return nums[left]\n",
    "\n",
    "nums = [3,4,5,1,2]\n",
    "print(Binary(nums))"
   ]
  },
  {
   "cell_type": "code",
   "execution_count": null,
   "id": "16728cd6",
   "metadata": {},
   "outputs": [],
   "source": []
  },
  {
   "cell_type": "code",
   "execution_count": 61,
   "id": "d6df9643",
   "metadata": {},
   "outputs": [
    {
     "name": "stdout",
     "output_type": "stream",
     "text": [
      "[1, 3, 4]\n"
     ]
    }
   ],
   "source": [
    "#question 8\n",
    "\n",
    "def doubled(changed):\n",
    "    from collections import Counter\n",
    "\n",
    "    d=Counter(changed)\n",
    "    l=sorted(changed)\n",
    "    out=[]\n",
    "    for i in l:\n",
    "        if (d[i]!=0 and d[i*2]!=0):\n",
    "            out.append(i)\n",
    "            d[i]-=1\n",
    "            d[i*2]-=1\n",
    "    if (list(set(d.values()))!=[0]):\n",
    "        return(\"not doubled array\")\n",
    "    return out\n",
    "    \n",
    "\n",
    "changed = [1,3,4,2,6,8]\n",
    "print(doubled(changed))"
   ]
  },
  {
   "cell_type": "code",
   "execution_count": 59,
   "id": "4a49ce87",
   "metadata": {},
   "outputs": [
    {
     "data": {
      "text/plain": [
       "[1]"
      ]
     },
     "execution_count": 59,
     "metadata": {},
     "output_type": "execute_result"
    }
   ],
   "source": [
    "out"
   ]
  },
  {
   "cell_type": "code",
   "execution_count": 44,
   "id": "65afbe70",
   "metadata": {},
   "outputs": [
    {
     "data": {
      "text/plain": [
       "0"
      ]
     },
     "execution_count": 44,
     "metadata": {},
     "output_type": "execute_result"
    }
   ],
   "source": [
    "d[1]-=1\n",
    "d[1]"
   ]
  },
  {
   "cell_type": "code",
   "execution_count": null,
   "id": "fe276798",
   "metadata": {},
   "outputs": [],
   "source": []
  },
  {
   "cell_type": "code",
   "execution_count": null,
   "id": "1c373d55",
   "metadata": {},
   "outputs": [],
   "source": []
  },
  {
   "cell_type": "code",
   "execution_count": null,
   "id": "9f079cb6",
   "metadata": {},
   "outputs": [],
   "source": []
  }
 ],
 "metadata": {
  "kernelspec": {
   "display_name": "Python 3 (ipykernel)",
   "language": "python",
   "name": "python3"
  },
  "language_info": {
   "codemirror_mode": {
    "name": "ipython",
    "version": 3
   },
   "file_extension": ".py",
   "mimetype": "text/x-python",
   "name": "python",
   "nbconvert_exporter": "python",
   "pygments_lexer": "ipython3",
   "version": "3.9.12"
  }
 },
 "nbformat": 4,
 "nbformat_minor": 5
}
