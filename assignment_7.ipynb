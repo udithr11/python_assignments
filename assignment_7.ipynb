{
 "cells": [
  {
   "cell_type": "markdown",
   "id": "2bac2973",
   "metadata": {},
   "source": [
    "#question 1\n",
    "\n",
    "To generate a Regex object, you typically use the re.compile() function. "
   ]
  },
  {
   "cell_type": "code",
   "execution_count": null,
   "id": "c6848b16",
   "metadata": {},
   "outputs": [],
   "source": []
  },
  {
   "cell_type": "markdown",
   "id": "74cc3311",
   "metadata": {},
   "source": [
    "#question 2\n",
    "\n",
    "Regular expressions extensively use backslashes for defining special characters or character sequences with specific meanings. This collides with Python’s usage of the same character for the same purpose in string literals. Hence, Raw strings are used (e.g. r\"\\n\") so that backslashes do not have to be escaped.\n",
    "\n",
    "\n"
   ]
  },
  {
   "cell_type": "code",
   "execution_count": null,
   "id": "7b39c095",
   "metadata": {},
   "outputs": [],
   "source": []
  },
  {
   "cell_type": "markdown",
   "id": "643aff4d",
   "metadata": {},
   "source": [
    "#question 3\n",
    "\n",
    "The search() method  returns a match object if a match is found in the searched string. If no match is found, it returns None."
   ]
  },
  {
   "cell_type": "code",
   "execution_count": 9,
   "id": "a85b0b77",
   "metadata": {},
   "outputs": [
    {
     "name": "stdout",
     "output_type": "stream",
     "text": [
      "<re.Match object; span=(4, 5), match='i'>\n"
     ]
    }
   ],
   "source": [
    "import re\n",
    "s = re.search('i','abcdiefghi')\n",
    "print(s)\n",
    "#here span represent the position of the searching element"
   ]
  },
  {
   "cell_type": "code",
   "execution_count": null,
   "id": "0dbc6845",
   "metadata": {},
   "outputs": [],
   "source": []
  },
  {
   "cell_type": "markdown",
   "id": "e2fd3dd5",
   "metadata": {},
   "source": [
    "#question 4\n",
    "\n",
    "For Matched items group() methods returns actual strings that match the pattern."
   ]
  },
  {
   "cell_type": "code",
   "execution_count": 14,
   "id": "25ff30fe",
   "metadata": {},
   "outputs": [
    {
     "name": "stdout",
     "output_type": "stream",
     "text": [
      "Output: car\n"
     ]
    }
   ],
   "source": [
    "s = re.search('car','bus,jeep,car')\n",
    "print('Output:',s.group())"
   ]
  },
  {
   "cell_type": "code",
   "execution_count": null,
   "id": "6a4e4bbb",
   "metadata": {},
   "outputs": [],
   "source": []
  },
  {
   "cell_type": "markdown",
   "id": "551053cc",
   "metadata": {},
   "source": [
    "#question 5\n",
    "\n",
    "The parentheses () are used to define capturing groups.\n",
    "First group cover (\\d\\d\\d) and the second group cover (\\d\\d\\d-\\d\\d\\d\\d).\n",
    "zero group covers the entire pattern match."
   ]
  },
  {
   "cell_type": "code",
   "execution_count": null,
   "id": "598c8eb5",
   "metadata": {},
   "outputs": [],
   "source": []
  },
  {
   "cell_type": "markdown",
   "id": "2ef6ef87",
   "metadata": {},
   "source": [
    "#question 6\n",
    "\n",
    "To tell a regex to match real parentheses and periods, you need to use backslashes () to escape them. example: \\(\\)\n",
    "Likewise, to match a period, we can use \\."
   ]
  },
  {
   "cell_type": "code",
   "execution_count": null,
   "id": "baca7fbe",
   "metadata": {},
   "outputs": [],
   "source": []
  },
  {
   "cell_type": "markdown",
   "id": "61576eb3",
   "metadata": {},
   "source": [
    "#question 7\n",
    "\n",
    "If the regex pattern has no groups, a list of strings matched is returned. if the regex pattern has groups,\n",
    "a list of tuple of strings is returned."
   ]
  },
  {
   "cell_type": "code",
   "execution_count": 18,
   "id": "7bc8001c",
   "metadata": {},
   "outputs": [
    {
     "name": "stdout",
     "output_type": "stream",
     "text": [
      "[('(095)', '555:4242')]\n",
      "['0495:525:4242']\n"
     ]
    }
   ],
   "source": [
    "import re\n",
    "s = re.compile(r'(\\(\\d\\d\\d\\)) (\\d\\d\\d:\\d\\d\\d\\d)')\n",
    "output = s.findall('to the (095) 555:4242.')\n",
    "print(output)\n",
    "\n",
    "\n",
    "s1 = re.compile(r'\\d{4}:\\d{3}:\\d{4}')\n",
    "output1 = s1.findall('My number is 0495:525:4242.')\n",
    "print(output1)"
   ]
  },
  {
   "cell_type": "code",
   "execution_count": null,
   "id": "cc33f90c",
   "metadata": {},
   "outputs": [],
   "source": []
  },
  {
   "cell_type": "markdown",
   "id": "89ac47ef",
   "metadata": {},
   "source": [
    "#question 8\n",
    "\n",
    "In Standard Expressions | means OR operator."
   ]
  },
  {
   "cell_type": "code",
   "execution_count": null,
   "id": "2dde10ca",
   "metadata": {},
   "outputs": [],
   "source": []
  },
  {
   "cell_type": "markdown",
   "id": "412a6a61",
   "metadata": {},
   "source": [
    "#question 9\n",
    "\n",
    "In regular Expressions, ? characters represents zero or one match of the preceeding group.\n",
    "It is like a condition it can present or not.    "
   ]
  },
  {
   "cell_type": "code",
   "execution_count": null,
   "id": "51a8ab62",
   "metadata": {},
   "outputs": [],
   "source": []
  },
  {
   "cell_type": "markdown",
   "id": "ee8d92f0",
   "metadata": {},
   "source": [
    "#question 10\n",
    "\n",
    "In Regular Expressions, * Represents Zero ore more occurances of the preceeding group and + represents\n",
    "one or more occurances of the preceeding group."
   ]
  },
  {
   "cell_type": "code",
   "execution_count": null,
   "id": "185b0d3b",
   "metadata": {},
   "outputs": [],
   "source": []
  },
  {
   "cell_type": "markdown",
   "id": "85082eb0",
   "metadata": {},
   "source": [
    "#question 11\n",
    "\n",
    "{4} means that its preceeding group should repeat 4 times.\n",
    "{4,5} means that its preceeding group should repeat mininum 4 times and maximum 5 times.\n"
   ]
  },
  {
   "cell_type": "code",
   "execution_count": null,
   "id": "0f8f4025",
   "metadata": {},
   "outputs": [],
   "source": []
  },
  {
   "cell_type": "markdown",
   "id": "f413dfec",
   "metadata": {},
   "source": [
    "#question 12\n",
    "\n",
    "\\w – Matches a word characters  [a-zA-Z0-9_]\n",
    "\\d – Matches digit characters [0-9]\n",
    "\\s – Matches whitespace character (space, tab, newline, etc.)\n"
   ]
  },
  {
   "cell_type": "code",
   "execution_count": null,
   "id": "3f9ee178",
   "metadata": {},
   "outputs": [],
   "source": []
  },
  {
   "cell_type": "markdown",
   "id": "9c31782a",
   "metadata": {},
   "source": [
    "#question 13\n",
    "\n",
    "\\W – Matches any non-alphanumeric characters [^a-zA-Z0-9_]\n",
    "\\D – Matches any non-digit characters [^0-9]\n",
    "\\S – Matches any non-whitespace character"
   ]
  },
  {
   "cell_type": "code",
   "execution_count": null,
   "id": "96d56dae",
   "metadata": {},
   "outputs": [],
   "source": []
  },
  {
   "cell_type": "markdown",
   "id": "7bca7837",
   "metadata": {},
   "source": [
    "#question 14\n",
    "\n",
    ".* is a Greedy mode, which returns the longest string that meets the condition. Whereas .*? is a non greedy\n",
    "mode which returns the shortest string that meets the condition."
   ]
  },
  {
   "cell_type": "code",
   "execution_count": null,
   "id": "c160cc94",
   "metadata": {},
   "outputs": [],
   "source": []
  },
  {
   "cell_type": "markdown",
   "id": "62e1ea4e",
   "metadata": {},
   "source": [
    "#question 15\n",
    "\n",
    "syntax for matching both numbers and lowercase letters with a character class is [0-9a-z]"
   ]
  },
  {
   "cell_type": "code",
   "execution_count": null,
   "id": "90cb7efc",
   "metadata": {},
   "outputs": [],
   "source": []
  },
  {
   "cell_type": "markdown",
   "id": "b4ac7bc9",
   "metadata": {},
   "source": [
    "#question 16\n",
    "\n",
    "we can use re.IGNORECASE as a flag to make a noraml expression case insensitive"
   ]
  },
  {
   "cell_type": "code",
   "execution_count": null,
   "id": "92194bda",
   "metadata": {},
   "outputs": [],
   "source": []
  },
  {
   "cell_type": "markdown",
   "id": "4f1f5f17",
   "metadata": {},
   "source": [
    "#question 17\n",
    "\n",
    "Dot . character matches everything in input except newline character. if re.DOTALL is passed as 2nd argument\n",
    "in re.compile() it matches all characters, including the newline character."
   ]
  },
  {
   "cell_type": "code",
   "execution_count": null,
   "id": "bb3967c4",
   "metadata": {},
   "outputs": [],
   "source": []
  },
  {
   "cell_type": "markdown",
   "id": "1b546737",
   "metadata": {},
   "source": [
    "#question 18\n",
    "\n",
    "The regular expression r'\\d+' matches one or more digits. The sub() method replaces all occurrences of the matched\n",
    "pattern with the specified replacement string.\n",
    "\n",
    "output is: 'X drummers, X pipers, five rings, X hen'"
   ]
  },
  {
   "cell_type": "code",
   "execution_count": null,
   "id": "b86cc82a",
   "metadata": {},
   "outputs": [],
   "source": []
  },
  {
   "cell_type": "markdown",
   "id": "6c02d5d7",
   "metadata": {},
   "source": [
    "#question 19\n",
    "\n",
    "re.VERBOSE will allow to add whitespace and comments to string passed to re.compile()."
   ]
  },
  {
   "cell_type": "code",
   "execution_count": null,
   "id": "85c46015",
   "metadata": {},
   "outputs": [],
   "source": []
  },
  {
   "cell_type": "code",
   "execution_count": 19,
   "id": "a1a6f26f",
   "metadata": {},
   "outputs": [
    {
     "name": "stdout",
     "output_type": "stream",
     "text": [
      "Output: 42 -> <re.Match object; span=(0, 2), match='42'>\n",
      "Output: 1,234 -> <re.Match object; span=(0, 5), match='1,234'>\n",
      "Output: 6,368,745 -> <re.Match object; span=(0, 9), match='6,368,745'>\n",
      "Output: 12,34,567 -> None\n",
      "Output: 1234 -> None\n"
     ]
    }
   ],
   "source": [
    "#question 20\n",
    "\n",
    "import re\n",
    "pattern = r'^\\d{1,3}(,\\d{3})*$'\n",
    "s = re.compile(pattern)\n",
    "for j in ['42','1,234', '6,368,745','12,34,567','1234']:\n",
    "    print('Output:',j, '->', s.search(j))"
   ]
  },
  {
   "cell_type": "code",
   "execution_count": null,
   "id": "2fa1f5b6",
   "metadata": {},
   "outputs": [],
   "source": []
  },
  {
   "cell_type": "code",
   "execution_count": 20,
   "id": "dff4b705",
   "metadata": {},
   "outputs": [
    {
     "name": "stdout",
     "output_type": "stream",
     "text": [
      "Output:  re.compile('[A-Z]{1}[a-z]*\\\\sWatanabe') -> <re.Match object; span=(0, 15), match='Haruto Watanabe'>\n",
      "Output:  re.compile('[A-Z]{1}[a-z]*\\\\sWatanabe') -> <re.Match object; span=(0, 14), match='Alice Watanabe'>\n",
      "Output:  re.compile('[A-Z]{1}[a-z]*\\\\sWatanabe') -> <re.Match object; span=(4, 16), match='Cop Watanabe'>\n",
      "Output:  re.compile('[A-Z]{1}[a-z]*\\\\sWatanabe') -> None\n",
      "Output:  re.compile('[A-Z]{1}[a-z]*\\\\sWatanabe') -> None\n",
      "Output:  re.compile('[A-Z]{1}[a-z]*\\\\sWatanabe') -> None\n",
      "Output:  re.compile('[A-Z]{1}[a-z]*\\\\sWatanabe') -> None\n"
     ]
    }
   ],
   "source": [
    "#question 21\n",
    "\n",
    "pattern = r'[A-Z]{1}[a-z]*\\sWatanabe'\n",
    "name = re.compile(pattern)\n",
    "for j in ['Haruto Watanabe','Alice Watanabe','RoboCop Watanabe','haruto Watanabe','Mr. Watanabe','Watanabe','Haruto watanabe']:\n",
    "    print('Output: ',name,'->',name.search(j))"
   ]
  },
  {
   "cell_type": "code",
   "execution_count": null,
   "id": "5875b5c5",
   "metadata": {},
   "outputs": [],
   "source": []
  },
  {
   "cell_type": "code",
   "execution_count": 21,
   "id": "535338d6",
   "metadata": {},
   "outputs": [
    {
     "name": "stdout",
     "output_type": "stream",
     "text": [
      "Output:  Alice eats apples. -> <re.Match object; span=(0, 18), match='Alice eats apples.'>\n",
      "Output:  Bob pets cats. -> <re.Match object; span=(0, 14), match='Bob pets cats.'>\n",
      "Output:  Carol throws baseballs. -> <re.Match object; span=(0, 23), match='Carol throws baseballs.'>\n",
      "Output:  Alice throws Apples. -> <re.Match object; span=(0, 20), match='Alice throws Apples.'>\n",
      "Output:  BOB EATS CATS. -> <re.Match object; span=(0, 14), match='BOB EATS CATS.'>\n",
      "Output:  RoboCop eats apples. -> None\n",
      "Output:  ALICE THROWS FOOTBALLS. -> None\n",
      "Output:  Carol eats 7 cats. -> None\n"
     ]
    }
   ],
   "source": [
    "#question 22\n",
    "\n",
    "pattern = r'(Alice|Bob|Carol)\\s(eats|pets|throws)\\s(apples|cats|baseballs)\\.'\n",
    "sentence = re.compile(pattern,re.IGNORECASE)\n",
    "for j in ['Alice eats apples.','Bob pets cats.','Carol throws baseballs.','Alice throws Apples.','BOB EATS CATS.','RoboCop eats apples.','ALICE THROWS FOOTBALLS.','Carol eats 7 cats.']:\n",
    "    print('Output: ',j,'->',sentence.search(j))"
   ]
  },
  {
   "cell_type": "code",
   "execution_count": null,
   "id": "1a5b5697",
   "metadata": {},
   "outputs": [],
   "source": []
  }
 ],
 "metadata": {
  "kernelspec": {
   "display_name": "Python 3 (ipykernel)",
   "language": "python",
   "name": "python3"
  },
  "language_info": {
   "codemirror_mode": {
    "name": "ipython",
    "version": 3
   },
   "file_extension": ".py",
   "mimetype": "text/x-python",
   "name": "python",
   "nbconvert_exporter": "python",
   "pygments_lexer": "ipython3",
   "version": "3.9.12"
  }
 },
 "nbformat": 4,
 "nbformat_minor": 5
}
