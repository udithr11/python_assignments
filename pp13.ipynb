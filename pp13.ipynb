{
 "cells": [
  {
   "cell_type": "code",
   "execution_count": 1,
   "id": "ecfd38dd",
   "metadata": {},
   "outputs": [
    {
     "name": "stdout",
     "output_type": "stream",
     "text": [
      "enter values of D in comma-separated sequence:100,150,180\n",
      "<class 'float'>\n",
      "18\n",
      "22\n",
      "24\n"
     ]
    }
   ],
   "source": [
    "#question 1\n",
    "\n",
    "import math\n",
    "\n",
    "def calc(D):\n",
    "    C=50\n",
    "    H=30\n",
    "    Q=int(math.sqrt((2*C*D)/H))\n",
    "    return Q\n",
    "\n",
    "q=input(\"enter values of D in comma-separated sequence:\")\n",
    "q=[float(Q.strip()) for Q in q.split(\",\")]\n",
    "print(type(q[0]))\n",
    "for i in q:\n",
    "    print(calc(i))"
   ]
  },
  {
   "cell_type": "code",
   "execution_count": null,
   "id": "39da4eb5",
   "metadata": {},
   "outputs": [],
   "source": []
  },
  {
   "cell_type": "code",
   "execution_count": 4,
   "id": "30ae26ca",
   "metadata": {},
   "outputs": [
    {
     "name": "stdout",
     "output_type": "stream",
     "text": [
      "Enter the number of rows: 3\n",
      "Enter the number of columns: 5\n",
      "[[0, 0, 0, 0, 0], [0, 1, 2, 3, 4], [0, 2, 4, 6, 8]]\n"
     ]
    }
   ],
   "source": [
    "#question 2\n",
    "\n",
    "\n",
    "i = int(input(\"Enter the number of rows: \"))\n",
    "j = int(input(\"Enter the number of columns: \"))\n",
    "array = []\n",
    "for x in range(i):\n",
    "    row = []\n",
    "    for y in range(j):\n",
    "        element = x * y\n",
    "        row.append(element)\n",
    "    array.append(row)\n",
    "print( array)"
   ]
  },
  {
   "cell_type": "code",
   "execution_count": null,
   "id": "49878c1f",
   "metadata": {},
   "outputs": [],
   "source": []
  },
  {
   "cell_type": "code",
   "execution_count": 5,
   "id": "c19d6d68",
   "metadata": {},
   "outputs": [
    {
     "name": "stdout",
     "output_type": "stream",
     "text": [
      "Enter the Input String: without,hello,bag,world\n",
      "bag,hello,without,world\n"
     ]
    }
   ],
   "source": [
    "#question 3\n",
    "\n",
    "\n",
    "s = input(\"Enter the Input String: \")\n",
    "s = ','.join(sorted(s.split(',')))\n",
    "print(s)"
   ]
  },
  {
   "cell_type": "code",
   "execution_count": null,
   "id": "f4bed4ec",
   "metadata": {},
   "outputs": [],
   "source": []
  },
  {
   "cell_type": "code",
   "execution_count": 8,
   "id": "9c4ef62b",
   "metadata": {},
   "outputs": [
    {
     "name": "stdout",
     "output_type": "stream",
     "text": [
      "Enter the Input String: hello world and practice makes perfect and hello world again\n",
      "again and hello makes perfect practice world\n"
     ]
    }
   ],
   "source": [
    "#question 4\n",
    "\n",
    "\n",
    "\n",
    "s = input(\"Enter the Input String: \")\n",
    "s = ' '.join(sorted(list(set(s.split(\" \")))))\n",
    "print(s)"
   ]
  },
  {
   "cell_type": "code",
   "execution_count": null,
   "id": "3a382d06",
   "metadata": {},
   "outputs": [],
   "source": []
  },
  {
   "cell_type": "code",
   "execution_count": 9,
   "id": "9bcf575c",
   "metadata": {},
   "outputs": [
    {
     "name": "stdout",
     "output_type": "stream",
     "text": [
      "enter a sentence: hello world! 123\n",
      "letters= 10  digits= 3\n"
     ]
    }
   ],
   "source": [
    "#question 5\n",
    "\n",
    "\n",
    "\n",
    "s=input(\"enter a sentence: \")\n",
    "letters=0\n",
    "digits=0\n",
    "for i in s:\n",
    "    if i.isalpha():\n",
    "        letters += 1\n",
    "    elif i.isdigit():\n",
    "        digits += 1\n",
    "print(\"letters=\",letters,\" digits=\",digits)"
   ]
  },
  {
   "cell_type": "code",
   "execution_count": null,
   "id": "0ceb862a",
   "metadata": {},
   "outputs": [],
   "source": []
  },
  {
   "cell_type": "code",
   "execution_count": 10,
   "id": "5a3120f1",
   "metadata": {},
   "outputs": [
    {
     "name": "stdout",
     "output_type": "stream",
     "text": [
      "Enter passwords (comma-separated): ABd1234@1,a F1#,2w3E*,2We3345\n",
      "Valid passwords: ABd1234@1\n"
     ]
    }
   ],
   "source": [
    "#question 6\n",
    "\n",
    "import re\n",
    "\n",
    "def password(word):\n",
    "    if len(word) < 6 or len(word) > 12:\n",
    "        return False\n",
    "\n",
    "    if not re.search(\"[a-z]\", word):\n",
    "        return False\n",
    "\n",
    "    if not re.search(\"[A-Z]\", word):\n",
    "        return False\n",
    "\n",
    "    if not re.search(\"[0-9]\", word):\n",
    "        return False\n",
    "\n",
    "    if not re.search(\"[$#@]\", word):\n",
    "        return False\n",
    "\n",
    "    return True\n",
    "\n",
    "s = input(\"Enter passwords (comma-separated): \").split(\",\")\n",
    "\n",
    "valid_passwords = []\n",
    "for word in s:\n",
    "    if password(word):\n",
    "        valid_passwords.append(word)\n",
    "\n",
    "print(\"Valid passwords: \" + \", \".join(valid_passwords))\n"
   ]
  },
  {
   "cell_type": "code",
   "execution_count": null,
   "id": "18009d0c",
   "metadata": {},
   "outputs": [],
   "source": []
  }
 ],
 "metadata": {
  "kernelspec": {
   "display_name": "Python 3 (ipykernel)",
   "language": "python",
   "name": "python3"
  },
  "language_info": {
   "codemirror_mode": {
    "name": "ipython",
    "version": 3
   },
   "file_extension": ".py",
   "mimetype": "text/x-python",
   "name": "python",
   "nbconvert_exporter": "python",
   "pygments_lexer": "ipython3",
   "version": "3.9.12"
  }
 },
 "nbformat": 4,
 "nbformat_minor": 5
}
