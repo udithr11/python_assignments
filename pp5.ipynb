{
 "cells": [
  {
   "cell_type": "markdown",
   "id": "2913ba9c",
   "metadata": {},
   "source": [
    "# 1)"
   ]
  },
  {
   "cell_type": "code",
   "execution_count": 16,
   "id": "a1e26501",
   "metadata": {},
   "outputs": [
    {
     "name": "stdout",
     "output_type": "stream",
     "text": [
      "enter first no:25\n",
      "enter second no:35\n",
      "175\n"
     ]
    }
   ],
   "source": [
    "a=int(input(\"enter first no:\"))\n",
    "b=int(input(\"enter second no:\"))\n",
    "l=[a,b]\n",
    "l.sort()\n",
    "i=1\n",
    "lcm=l[1]\n",
    "while True:\n",
    "    if(lcm%l[0]==0):\n",
    "        print(lcm)\n",
    "        break\n",
    "    else:\n",
    "        i=i+1\n",
    "        lcm=l[1]*i"
   ]
  },
  {
   "cell_type": "markdown",
   "id": "59ebf757",
   "metadata": {},
   "source": [
    "# 2)"
   ]
  },
  {
   "cell_type": "code",
   "execution_count": 19,
   "id": "92b22178",
   "metadata": {},
   "outputs": [
    {
     "name": "stdout",
     "output_type": "stream",
     "text": [
      "enter first no:56\n",
      "enter second no:9\n",
      "hcf of  56  and  9  is  1\n"
     ]
    }
   ],
   "source": [
    "a=int(input(\"enter first no:\"))\n",
    "b=int(input(\"enter second no:\"))\n",
    "l=[a,b]\n",
    "l.sort()\n",
    "for i in range(1,a):\n",
    "    if(a%i==0 and b%i==0):\n",
    "        hcf=i\n",
    "print(\"hcf of \",a,\" and \",b,\" is \",hcf)"
   ]
  },
  {
   "cell_type": "markdown",
   "id": "38ec7ead",
   "metadata": {},
   "source": [
    "# 3)"
   ]
  },
  {
   "cell_type": "code",
   "execution_count": 20,
   "id": "0c6eb6c7",
   "metadata": {},
   "outputs": [
    {
     "name": "stdout",
     "output_type": "stream",
     "text": [
      "enter a number: 10\n",
      "binary is: 0b1010\n",
      "octal is: 0o12\n",
      "Hexa is 0xa\n"
     ]
    }
   ],
   "source": [
    "    n=int(input('enter a number: '))\n",
    "    print(\"binary is:\", bin(n))\n",
    "    print(\"octal is:\", oct(n))    \n",
    "    print(\"Hexa is\", hex(n)) "
   ]
  },
  {
   "cell_type": "markdown",
   "id": "1016249d",
   "metadata": {},
   "source": [
    "# 4)"
   ]
  },
  {
   "cell_type": "code",
   "execution_count": 22,
   "id": "08c9ed6e",
   "metadata": {},
   "outputs": [
    {
     "name": "stdout",
     "output_type": "stream",
     "text": [
      "enter a character:z\n",
      "the asci value of  z is 122\n"
     ]
    }
   ],
   "source": [
    "a=(input(\"enter a character:\"))\n",
    "print(\"the asci value of \",a, \"is\",ord(a))"
   ]
  },
  {
   "cell_type": "markdown",
   "id": "f6d03bf5",
   "metadata": {},
   "source": [
    "# 5)"
   ]
  },
  {
   "cell_type": "code",
   "execution_count": 23,
   "id": "74ed7491",
   "metadata": {},
   "outputs": [
    {
     "name": "stdout",
     "output_type": "stream",
     "text": [
      "enter a number 2\n",
      " press 1 to add \n",
      " press 2 to sub \n",
      " press 3 to multipy \n",
      " press 4 to divide \n",
      " press = for answer 1\n",
      "enter another number 6\n",
      " press 1 to add \n",
      " press 2 to sub \n",
      " press 3 to multipy \n",
      " press 4 to divide \n",
      " press = for answer 1\n",
      "enter another number 1\n",
      " press 1 to add \n",
      " press 2 to sub \n",
      " press 3 to multipy \n",
      " press 4 to divide \n",
      " press = for answer =\n",
      "9\n"
     ]
    }
   ],
   "source": [
    "def cal(s,o):\n",
    "    sum=s\n",
    "   \n",
    "    m=int(input(\"enter another number \"))\n",
    "\n",
    "    if(o==\"1\"):\n",
    "        sum=sum+m\n",
    "        return sum\n",
    "    elif(o==\"2\"):\n",
    "        sum=sum-m\n",
    "        return sum\n",
    "\n",
    "    elif(o==\"3\"):\n",
    "        sum=sum*m\n",
    "        return sum\n",
    "    \n",
    "    elif(o==\"4\"):\n",
    "        sum=sum/m\n",
    "        return sum\n",
    "\n",
    "    else:\n",
    "        print(\"enter correct input\")\n",
    "        print(sum)\n",
    "        \n",
    "\n",
    "        \n",
    "n=int(input(\"enter a number \"))\n",
    "f=n\n",
    "while True:\n",
    "    o=input(\" press 1 to add \\n press 2 to sub \\n press 3 to multipy \\n press 4 to divide \\n press = for answer \")\n",
    "    if(o=='='):\n",
    "        print(f)\n",
    "        break\n",
    "    f=cal(f,o)"
   ]
  },
  {
   "cell_type": "code",
   "execution_count": null,
   "id": "ab4e209c",
   "metadata": {},
   "outputs": [],
   "source": []
  },
  {
   "cell_type": "code",
   "execution_count": null,
   "id": "564222fb",
   "metadata": {},
   "outputs": [],
   "source": []
  },
  {
   "cell_type": "code",
   "execution_count": null,
   "id": "25d2a04d",
   "metadata": {},
   "outputs": [],
   "source": []
  },
  {
   "cell_type": "code",
   "execution_count": null,
   "id": "877adf6d",
   "metadata": {},
   "outputs": [],
   "source": []
  },
  {
   "cell_type": "code",
   "execution_count": null,
   "id": "37ea71dd",
   "metadata": {},
   "outputs": [],
   "source": []
  },
  {
   "cell_type": "code",
   "execution_count": null,
   "id": "363cdf76",
   "metadata": {},
   "outputs": [],
   "source": []
  },
  {
   "cell_type": "code",
   "execution_count": null,
   "id": "4c7d0445",
   "metadata": {},
   "outputs": [],
   "source": []
  }
 ],
 "metadata": {
  "kernelspec": {
   "display_name": "Python 3 (ipykernel)",
   "language": "python",
   "name": "python3"
  },
  "language_info": {
   "codemirror_mode": {
    "name": "ipython",
    "version": 3
   },
   "file_extension": ".py",
   "mimetype": "text/x-python",
   "name": "python",
   "nbconvert_exporter": "python",
   "pygments_lexer": "ipython3",
   "version": "3.9.12"
  }
 },
 "nbformat": 4,
 "nbformat_minor": 5
}
