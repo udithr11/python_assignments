{
 "cells": [
  {
   "cell_type": "code",
   "execution_count": null,
   "id": "642891e8",
   "metadata": {},
   "outputs": [],
   "source": [
    "#1) values: 'hello',-87.8,6\n",
    "   expressions: *,-,/,+\n"
   ]
  },
  {
   "cell_type": "code",
   "execution_count": null,
   "id": "6a2f28c0",
   "metadata": {},
   "outputs": [],
   "source": []
  },
  {
   "cell_type": "code",
   "execution_count": null,
   "id": "c59c8152",
   "metadata": {},
   "outputs": [],
   "source": [
    "#2) string is a datatype in python which can be defined by enclosing the data within \"\" or ''.\n",
    "   variables are the reserved memory locations to store values like string, integer, list etc.\n",
    "   there is no need to declare the varibles separately in python."
   ]
  },
  {
   "cell_type": "code",
   "execution_count": null,
   "id": "fc0f13a8",
   "metadata": {},
   "outputs": [],
   "source": [
    "#3) int- integer datatype are used to represent either negative or positive numbers with no decimal points. eg:54\n",
    "   float- float datatype are used to represent either negative or positive numbers with decimal points. eg: 54.45\n",
    "   boolean- boolean datatype is used to represent either true or false state."
   ]
  },
  {
   "cell_type": "markdown",
   "id": "4371b86c",
   "metadata": {},
   "source": [
    "#4) expression is a combination of mathematical operations and operants. it is used to generate desired values as per our problem statement\n",
    "eg:x=23+23.23"
   ]
  },
  {
   "cell_type": "markdown",
   "id": "2eb0f910",
   "metadata": {},
   "source": [
    "#5)Statements represents an action or command like print statements, assignment statements or it is an instruction that does something. eg:x=34, n=34+3\n",
    "Expression is a combination of mathematical operations and operants. eg:a/5\n",
    "\n"
   ]
  },
  {
   "cell_type": "code",
   "execution_count": null,
   "id": "e97c2e77",
   "metadata": {},
   "outputs": [],
   "source": [
    "#6)bacon= 22"
   ]
  },
  {
   "cell_type": "code",
   "execution_count": null,
   "id": "7a42937d",
   "metadata": {},
   "outputs": [],
   "source": [
    "#7)'spam'+'spamspam'='spamspamspam'\n",
    "'spam'*3='spamspamspam'"
   ]
  },
  {
   "cell_type": "code",
   "execution_count": null,
   "id": "56081344",
   "metadata": {},
   "outputs": [],
   "source": [
    "#8) a variable name either should not start with a number or should be a reserved keyword.\n",
    "   it can start with any letters ( small or upper case) or underscore\n",
    " so 100 is not a valid variablename whereas eggs is a valid variablename"
   ]
  },
  {
   "cell_type": "code",
   "execution_count": null,
   "id": "f51df1bf",
   "metadata": {},
   "outputs": [],
   "source": [
    "#9) The int(),float(),and str() functions can be used to get an integer,float,string respectively"
   ]
  },
  {
   "cell_type": "code",
   "execution_count": null,
   "id": "6adae112",
   "metadata": {},
   "outputs": [],
   "source": [
    "#10) the error is due the mismatching of datatypes.\n",
    "it can be fixed by converting the 99 into a string by adding \"\"\n",
    "\"I have eaten\" + \"99\" +\"burritos\""
   ]
  }
 ],
 "metadata": {
  "kernelspec": {
   "display_name": "Python 3 (ipykernel)",
   "language": "python",
   "name": "python3"
  },
  "language_info": {
   "codemirror_mode": {
    "name": "ipython",
    "version": 3
   },
   "file_extension": ".py",
   "mimetype": "text/x-python",
   "name": "python",
   "nbconvert_exporter": "python",
   "pygments_lexer": "ipython3",
   "version": "3.9.12"
  }
 },
 "nbformat": 4,
 "nbformat_minor": 5
}
