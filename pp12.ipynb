{
 "cells": [
  {
   "cell_type": "markdown",
   "id": "72feb01f",
   "metadata": {},
   "source": [
    "# 1"
   ]
  },
  {
   "cell_type": "code",
   "execution_count": 14,
   "id": "8782f8aa",
   "metadata": {},
   "outputs": [
    {
     "name": "stdout",
     "output_type": "stream",
     "text": [
      "enter a dictionary{1:'a',2:'b',3:'a','d':'c',4:'a'}\n",
      "{'a', 'b', 'c'}\n"
     ]
    }
   ],
   "source": [
    "l=eval(input(\"enter a dictionary\"))\n",
    "q=set(l.values())\n",
    "print(q)"
   ]
  },
  {
   "cell_type": "markdown",
   "id": "e5ae4e17",
   "metadata": {},
   "source": [
    "# 2"
   ]
  },
  {
   "cell_type": "code",
   "execution_count": 11,
   "id": "7c88cd96",
   "metadata": {},
   "outputs": [
    {
     "name": "stdout",
     "output_type": "stream",
     "text": [
      "enter a dictionary{1:'a',2:'b',3:'a','d':[1,2,3,4,'d'],4:'a'}\n",
      "20\n"
     ]
    }
   ],
   "source": [
    "def if_list(l,sum):\n",
    "    for i in l:\n",
    "        if (type(i)==list or type(i)==tuple):\n",
    "            sum+=if_list(i,sum)\n",
    "        if (type(i)==int or type(i)==float):\n",
    "            sum+=i\n",
    "    return sum\n",
    "\n",
    "\n",
    "l=eval(input(\"enter a dictionary\"))\n",
    "q=list(l.values())\n",
    "w=list(l.keys())\n",
    "sum=0\n",
    "for i in q:\n",
    "    if (type(i)==list or type(i)==tuple):\n",
    "        sum+=if_list(i,sum)\n",
    "    if(type(i)==int):\n",
    "        sum+=i\n",
    "for j in w:\n",
    "    if (type(j)==list or type(j)==tuple):\n",
    "        sum+=if_list(j,sum)\n",
    "    if(type(j)==int):\n",
    "        sum+=j\n",
    "print(sum)\n"
   ]
  },
  {
   "cell_type": "markdown",
   "id": "c7e11abc",
   "metadata": {},
   "source": [
    "# 3"
   ]
  },
  {
   "cell_type": "code",
   "execution_count": 14,
   "id": "28cdc983",
   "metadata": {},
   "outputs": [
    {
     "name": "stdout",
     "output_type": "stream",
     "text": [
      "enter a dictionary 1 {34:'cvxxc','d':[1,23]}\n",
      "enter a dictionary 2 {1:'a',2:'b',3:'a','d':[1,2,3,4,'d'],4:'a'}\n",
      "{34: 'cvxxc', 'd': [1, 2, 3, 4, 'd'], 1: 'a', 2: 'b', 3: 'a', 4: 'a'}\n"
     ]
    }
   ],
   "source": [
    "l=eval(input(\"enter a dictionary 1 \"))\n",
    "m=eval(input(\"enter a dictionary 2 \"))\n",
    "l.update(m)\n",
    "print(l)\n",
    "\n"
   ]
  },
  {
   "cell_type": "markdown",
   "id": "fbcc9d57",
   "metadata": {},
   "source": [
    "# 4"
   ]
  },
  {
   "cell_type": "code",
   "execution_count": 27,
   "id": "07463847",
   "metadata": {},
   "outputs": [
    {
     "name": "stdout",
     "output_type": "stream",
     "text": [
      "{'a': 2, 3: 'b', True: [1, 8, 't', 6]}\n"
     ]
    }
   ],
   "source": [
    "l=[('a',2),(3,'b'),(True,[1,8,'t',6])]\n",
    "d={}\n",
    "for i in l:\n",
    "    d[i[0]]=i[1]\n",
    "print(d)"
   ]
  },
  {
   "cell_type": "markdown",
   "id": "eae52b64",
   "metadata": {},
   "source": [
    "# 5"
   ]
  },
  {
   "cell_type": "code",
   "execution_count": 42,
   "id": "6711bad8",
   "metadata": {},
   "outputs": [
    {
     "name": "stdout",
     "output_type": "stream",
     "text": [
      "OrderedDict([('ddd', 'ioio'), ('ccc', '3'), ('aaaa', 1), ('bbbb', 2)])\n"
     ]
    }
   ],
   "source": [
    "from collections import OrderedDict\n",
    " \n",
    "d = OrderedDict([('aaaa', 1), ('bbbb', 2)])\n",
    " \n",
    "d.update({'ccc':'3','ddd':'ioio'})\n",
    "d.move_to_end('ccc', last = False)\n",
    "d.move_to_end('ddd', last = False)\n",
    "print ((d))"
   ]
  },
  {
   "cell_type": "markdown",
   "id": "758c9244",
   "metadata": {},
   "source": [
    "# 6"
   ]
  },
  {
   "cell_type": "code",
   "execution_count": 5,
   "id": "2b957c9b",
   "metadata": {},
   "outputs": [
    {
     "name": "stdout",
     "output_type": "stream",
     "text": [
      "input string laundry bag\n",
      "input pattern ag\n",
      "l\n",
      "a\n",
      "u\n",
      "n\n",
      "d\n",
      "r\n",
      "y\n",
      " \n",
      "b\n",
      "g\n",
      "order of the string is according to the pattern\n"
     ]
    }
   ],
   "source": [
    "from collections import OrderedDict\n",
    "n=input(\"input string \")\n",
    "p=input(\"input pattern \")\n",
    "d= OrderedDict.fromkeys(n)\n",
    "z=0\n",
    "for i in d.keys():\n",
    "    print(i)\n",
    "    if i==p[z]:\n",
    "        z=z+1\n",
    "    if z==len(p):\n",
    "        print(\"order of the string is according to the pattern\")\n",
    "        break\n",
    "if z!=len(p):\n",
    "    print(\"order of the string is not according to the pattern\")"
   ]
  },
  {
   "cell_type": "markdown",
   "id": "7fe758bf",
   "metadata": {},
   "source": [
    "# 7"
   ]
  },
  {
   "cell_type": "code",
   "execution_count": 13,
   "id": "b81a9694",
   "metadata": {},
   "outputs": [
    {
     "name": "stdout",
     "output_type": "stream",
     "text": [
      "OrderedDict([(2, 'c'), (4, 'a'), (5, 'b'), (23, 'sd'), (45, 'we')])\n"
     ]
    }
   ],
   "source": [
    "from collections import OrderedDict\n",
    "d={4:\"a\",5:\"b\",2:\"c\",45:\"we\",23:\"sd\"}\n",
    "d1=OrderedDict(sorted(d.items()))\n",
    "print(d1)"
   ]
  },
  {
   "cell_type": "code",
   "execution_count": null,
   "id": "4a391b3d",
   "metadata": {},
   "outputs": [],
   "source": []
  },
  {
   "cell_type": "code",
   "execution_count": null,
   "id": "98dbc14c",
   "metadata": {},
   "outputs": [],
   "source": []
  },
  {
   "cell_type": "code",
   "execution_count": null,
   "id": "6ef1c3cf",
   "metadata": {},
   "outputs": [],
   "source": []
  }
 ],
 "metadata": {
  "kernelspec": {
   "display_name": "Python 3 (ipykernel)",
   "language": "python",
   "name": "python3"
  },
  "language_info": {
   "codemirror_mode": {
    "name": "ipython",
    "version": 3
   },
   "file_extension": ".py",
   "mimetype": "text/x-python",
   "name": "python",
   "nbconvert_exporter": "python",
   "pygments_lexer": "ipython3",
   "version": "3.9.12"
  }
 },
 "nbformat": 4,
 "nbformat_minor": 5
}
