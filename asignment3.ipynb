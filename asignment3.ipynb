{
 "cells": [
  {
   "cell_type": "markdown",
   "id": "d33f3bbf",
   "metadata": {},
   "source": [
    "1) the advantages of using functions are : we can avoid the repetation of codes, the reusability of the code increases, it makes the code compact and easier to understand\n"
   ]
  },
  {
   "cell_type": "code",
   "execution_count": null,
   "id": "fda0f8c4",
   "metadata": {},
   "outputs": [],
   "source": [
    "2) a function runs only when it is called."
   ]
  },
  {
   "cell_type": "code",
   "execution_count": null,
   "id": "1d46d46a",
   "metadata": {},
   "outputs": [],
   "source": [
    "3) def statement creates function\n",
    " eg- def fuff():\n",
    "            pass"
   ]
  },
  {
   "cell_type": "code",
   "execution_count": null,
   "id": "1535d3c9",
   "metadata": {},
   "outputs": [],
   "source": [
    "4) function is a set of code that does a specified task.\n",
    "function call is a statement that help us to make use of the function at any point of our code."
   ]
  },
  {
   "cell_type": "markdown",
   "id": "090af753",
   "metadata": {},
   "source": [
    "5) the variables that we define inside a function body will have a local scope ,ie, we can only make use of that variable inside that function.\n",
    " a variable that we define in the main body is a global variable and it can be used anywhere in the code.\n",
    "we can create as many global and local variables in our programme as per the requirements of the problem statement.\n",
    "\n"
   ]
  },
  {
   "cell_type": "code",
   "execution_count": null,
   "id": "e7f0688a",
   "metadata": {},
   "outputs": [],
   "source": [
    "6) when the function call returns the scope of the local variable gets destroyed within the function."
   ]
  },
  {
   "cell_type": "markdown",
   "id": "383a073c",
   "metadata": {},
   "source": [
    "7) return value is the final desired output we get after calling a function. we can make use of the return value in any expression that gets executed after the function call by assigning it to a new variable as the scope of the local variable terminates within a function.\n",
    "eg) def pp():\n",
    "        p=4\n",
    "        return p\n",
    "    \n",
    "    a=3\n",
    "    b=pp()\n",
    "    c=a+b"
   ]
  },
  {
   "cell_type": "code",
   "execution_count": 6,
   "id": "4db35487",
   "metadata": {},
   "outputs": [],
   "source": [
    "8) python returns None when the function doesn't specify a return value."
   ]
  },
  {
   "cell_type": "code",
   "execution_count": null,
   "id": "8e17a719",
   "metadata": {},
   "outputs": [],
   "source": [
    "9) we can use \"global\" keyword to make a function variable a global keyword."
   ]
  },
  {
   "cell_type": "code",
   "execution_count": null,
   "id": "1a3270cc",
   "metadata": {},
   "outputs": [],
   "source": [
    "10) datatype of none is NoneType"
   ]
  },
  {
   "cell_type": "code",
   "execution_count": null,
   "id": "ab59974e",
   "metadata": {},
   "outputs": [],
   "source": [
    "11) it imports a module named areallyourpetsnamederic"
   ]
  },
  {
   "cell_type": "code",
   "execution_count": null,
   "id": "1caa2a69",
   "metadata": {},
   "outputs": [],
   "source": [
    "12) we can  call the bacon function by  spam.bacon()"
   ]
  },
  {
   "cell_type": "markdown",
   "id": "84e58636",
   "metadata": {},
   "source": [
    "13) we can make use of the exception handling method. we can type code that might cause error in try block and except block is to handle the error."
   ]
  },
  {
   "cell_type": "code",
   "execution_count": null,
   "id": "aa85c107",
   "metadata": {},
   "outputs": [],
   "source": [
    "14)code that might cause error goes in try block and except block is to handle the error."
   ]
  }
 ],
 "metadata": {
  "kernelspec": {
   "display_name": "Python 3 (ipykernel)",
   "language": "python",
   "name": "python3"
  },
  "language_info": {
   "codemirror_mode": {
    "name": "ipython",
    "version": 3
   },
   "file_extension": ".py",
   "mimetype": "text/x-python",
   "name": "python",
   "nbconvert_exporter": "python",
   "pygments_lexer": "ipython3",
   "version": "3.9.12"
  }
 },
 "nbformat": 4,
 "nbformat_minor": 5
}
