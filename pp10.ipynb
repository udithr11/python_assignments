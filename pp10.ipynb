{
 "cells": [
  {
   "cell_type": "markdown",
   "id": "977c304a",
   "metadata": {},
   "source": [
    "# 1"
   ]
  },
  {
   "cell_type": "code",
   "execution_count": 57,
   "id": "051a0d53",
   "metadata": {},
   "outputs": [
    {
     "name": "stdout",
     "output_type": "stream",
     "text": [
      "enter the array [1,1,[1,[1,1,[1,1],1],1],1]\n",
      "sum= 10\n"
     ]
    }
   ],
   "source": [
    "def if_list(l):\n",
    "    sum=0\n",
    "    for i in l:\n",
    "        if (type(i)==list or type(i)==tuple):\n",
    "            sum+=if_list(i)\n",
    "        if (type(i)==int or type(i)==float):\n",
    "            sum+=i\n",
    "    return sum\n",
    "\n",
    "l=eval(input(\"enter the array \"))\n",
    "sum=0\n",
    "for i in l:\n",
    "    if (type(i)==list or type(i)==tuple):\n",
    "        sum+=if_list(i)\n",
    "    if (type(i)==int or type(i)==float):\n",
    "        sum+=i\n",
    "print(\"sum=\",sum)\n",
    "    \n"
   ]
  },
  {
   "cell_type": "markdown",
   "id": "16f52d53",
   "metadata": {},
   "source": [
    "# 2"
   ]
  },
  {
   "cell_type": "code",
   "execution_count": 28,
   "id": "79c6cc67",
   "metadata": {},
   "outputs": [
    {
     "name": "stdout",
     "output_type": "stream",
     "text": [
      "enter the array[1,[2,2],[4,1],5]\n",
      "product= 80\n"
     ]
    }
   ],
   "source": [
    "def if_list(l):\n",
    "    product=1\n",
    "    for i in l:\n",
    "        if (type(i)==list or type(i)==tuple):\n",
    "            product*=if_list(i)\n",
    "        if (type(i)==int or type(i)==float):\n",
    "            product*=i\n",
    "    return product\n",
    "\n",
    "l=eval(input(\"enter the array \"))\n",
    "product=1\n",
    "for i in l:\n",
    "    if (type(i)==list or type(i)==tuple):\n",
    "        product*=if_list(i)\n",
    "    if (type(i)==int or type(i)==float):\n",
    "        product*=i\n",
    "print(\"product=\",product)\n",
    "    \n"
   ]
  },
  {
   "cell_type": "markdown",
   "id": "9ad81fdc",
   "metadata": {},
   "source": [
    "# 3"
   ]
  },
  {
   "cell_type": "code",
   "execution_count": 58,
   "id": "a19b72f5",
   "metadata": {},
   "outputs": [
    {
     "name": "stdout",
     "output_type": "stream",
     "text": [
      "enter the array [4,45,3,[4,34,[66,5,3,3],0,4,6],9]\n",
      "smallest element= 0\n"
     ]
    }
   ],
   "source": [
    "def if_list(l,m):\n",
    "    for i in l:\n",
    "        if (type(i)==list or type(i)==tuple):\n",
    "            m.append(if_list(i,m))\n",
    "        if (type(i)==int or type(i)==float):\n",
    "            m.append(i)\n",
    "    return \n",
    "\n",
    "\n",
    "\n",
    "l=eval(input(\"enter the array \"))\n",
    "product=1\n",
    "m=[]\n",
    "for i in l:\n",
    "    if (type(i)==list or type(i)==tuple):\n",
    "        m.append(if_list(i,m))\n",
    "    if (type(i)==int or type(i)==float):\n",
    "        m.append(i)\n",
    "for j in m:\n",
    "    if(j==None):\n",
    "        m.remove(None)\n",
    "\n",
    "m.sort()\n",
    "print(\"smallest element=\",m[0])"
   ]
  },
  {
   "cell_type": "markdown",
   "id": "04a7cb19",
   "metadata": {},
   "source": [
    "# 4"
   ]
  },
  {
   "cell_type": "code",
   "execution_count": 59,
   "id": "cc9b5fe9",
   "metadata": {},
   "outputs": [
    {
     "name": "stdout",
     "output_type": "stream",
     "text": [
      "enter the array [1,4,3,2,[2,[6,7,5],3,4],99,4]\n",
      "largest element= 99\n"
     ]
    }
   ],
   "source": [
    "def if_list(l,m):\n",
    "    for i in l:\n",
    "        if (type(i)==list or type(i)==tuple):\n",
    "            m.append(if_list(i,m))\n",
    "        if (type(i)==int or type(i)==float):\n",
    "            m.append(i)\n",
    "    return \n",
    "\n",
    "\n",
    "\n",
    "l=eval(input(\"enter the array \"))\n",
    "product=1\n",
    "m=[]\n",
    "for i in l:\n",
    "    if (type(i)==list or type(i)==tuple):\n",
    "        m.append(if_list(i,m))\n",
    "    if (type(i)==int or type(i)==float):\n",
    "        m.append(i)\n",
    "for j in m:\n",
    "    if(j==None):\n",
    "        m.remove(None)\n",
    "\n",
    "m.sort()\n",
    "print(\"largest element=\",m[-1])"
   ]
  },
  {
   "cell_type": "markdown",
   "id": "15f55586",
   "metadata": {},
   "source": [
    "# 5"
   ]
  },
  {
   "cell_type": "code",
   "execution_count": 60,
   "id": "440e1c1c",
   "metadata": {},
   "outputs": [
    {
     "name": "stdout",
     "output_type": "stream",
     "text": [
      "enter the array [2,3,4,2,[6,4,[8,7,6,5,0],3,2],4,9]\n",
      "largest element= 8\n"
     ]
    }
   ],
   "source": [
    "def if_list(l,m):\n",
    "    for i in l:\n",
    "        if (type(i)==list or type(i)==tuple):\n",
    "            m.append(if_list(i,m))\n",
    "        if (type(i)==int or type(i)==float):\n",
    "            m.append(i)\n",
    "    return \n",
    "\n",
    "\n",
    "\n",
    "l=eval(input(\"enter the array \"))\n",
    "product=1\n",
    "m=[]\n",
    "for i in l:\n",
    "    if (type(i)==list or type(i)==tuple):\n",
    "        m.append(if_list(i,m))\n",
    "    if (type(i)==int or type(i)==float):\n",
    "        m.append(i)\n",
    "for j in m:\n",
    "    if(j==None):\n",
    "        m.remove(None)\n",
    "\n",
    "m.sort()\n",
    "print(\"largest element=\",m[-2])"
   ]
  },
  {
   "cell_type": "markdown",
   "id": "ec6f842c",
   "metadata": {},
   "source": [
    "# 6"
   ]
  },
  {
   "cell_type": "code",
   "execution_count": 61,
   "id": "098949ab",
   "metadata": {},
   "outputs": [
    {
     "name": "stdout",
     "output_type": "stream",
     "text": [
      "enter the array [1,24.4,32,[5,4,[9,8,7,6,5,4],3],3,9]\n",
      "enter a value 6\n",
      "6 largest elements=\n",
      "32\n",
      "24.4\n",
      "9\n",
      "9\n",
      "8\n",
      "7\n"
     ]
    }
   ],
   "source": [
    "def if_list(l,m):\n",
    "    for i in l:\n",
    "        if (type(i)==list or type(i)==tuple):\n",
    "            m.append(if_list(i,m))\n",
    "        if (type(i)==int or type(i)==float):\n",
    "            m.append(i)\n",
    "    return \n",
    "\n",
    "\n",
    "\n",
    "l=eval(input(\"enter the array \"))\n",
    "product=1\n",
    "m=[]\n",
    "for i in l:\n",
    "    if (type(i)==list or type(i)==tuple):\n",
    "        m.append(if_list(i,m))\n",
    "    if (type(i)==int or type(i)==float):\n",
    "        m.append(i)\n",
    "for j in m:\n",
    "    if(j==None):\n",
    "        m.remove(None)\n",
    "\n",
    "m.sort()\n",
    "n=int(input(\"enter a value \"))\n",
    "try:\n",
    "    print(n,\"largest elements=\")\n",
    "    for i in range(n):\n",
    "        print(m[-1-i])\n",
    "except Exception as e:\n",
    "    print(e)"
   ]
  },
  {
   "cell_type": "markdown",
   "id": "ad9d183f",
   "metadata": {},
   "source": [
    "# 7"
   ]
  },
  {
   "cell_type": "code",
   "execution_count": 62,
   "id": "b53120d1",
   "metadata": {},
   "outputs": [
    {
     "name": "stdout",
     "output_type": "stream",
     "text": [
      "enter the array [1,2,3,[222,33,4,33],4,5,6,[11,12,13,14,15],7,8,9,0]\n",
      "0\n",
      "2\n",
      "4\n",
      "4\n",
      "6\n",
      "8\n",
      "12\n",
      "14\n",
      "222\n"
     ]
    }
   ],
   "source": [
    "def if_list(l,m):\n",
    "    for i in l:\n",
    "        if (type(i)==list or type(i)==tuple):\n",
    "            m.append(if_list(i,m))\n",
    "        if (type(i)==int or type(i)==float):\n",
    "            m.append(i)\n",
    "    return \n",
    "\n",
    "\n",
    "\n",
    "l=eval(input(\"enter the array \"))\n",
    "product=1\n",
    "m=[]\n",
    "for i in l:\n",
    "    if (type(i)==list or type(i)==tuple):\n",
    "        m.append(if_list(i,m))\n",
    "    if (type(i)==int or type(i)==float):\n",
    "        m.append(i)\n",
    "for j in m:\n",
    "    if(j==None):\n",
    "        m.remove(None)\n",
    "\n",
    "m.sort()\n",
    "for i in m:\n",
    "    if i%2==0:\n",
    "        print(i)"
   ]
  },
  {
   "cell_type": "markdown",
   "id": "efaa326c",
   "metadata": {},
   "source": [
    "# 8"
   ]
  },
  {
   "cell_type": "code",
   "execution_count": 63,
   "id": "cceadca2",
   "metadata": {},
   "outputs": [
    {
     "name": "stdout",
     "output_type": "stream",
     "text": [
      "enter the array [1,2,3,[222,33,4,33],4,5,6,[11,12,13,14,15],7,8,9,0]\n",
      "1\n",
      "3\n",
      "5\n",
      "7\n",
      "9\n",
      "11\n",
      "13\n",
      "15\n",
      "33\n",
      "33\n"
     ]
    }
   ],
   "source": [
    "def if_list(l,m):\n",
    "    for i in l:\n",
    "        if (type(i)==list or type(i)==tuple):\n",
    "            m.append(if_list(i,m))\n",
    "        if (type(i)==int or type(i)==float):\n",
    "            m.append(i)\n",
    "    return \n",
    "\n",
    "\n",
    "\n",
    "l=eval(input(\"enter the array \"))\n",
    "product=1\n",
    "m=[]\n",
    "for i in l:\n",
    "    if (type(i)==list or type(i)==tuple):\n",
    "        m.append(if_list(i,m))\n",
    "    if (type(i)==int or type(i)==float):\n",
    "        m.append(i)\n",
    "for j in m:\n",
    "    if(j==None):\n",
    "        m.remove(None)\n",
    "\n",
    "m.sort()\n",
    "for i in m:\n",
    "    if i%2!=0:\n",
    "        print(i)"
   ]
  },
  {
   "cell_type": "markdown",
   "id": "680b3cab",
   "metadata": {},
   "source": [
    "# 9"
   ]
  },
  {
   "cell_type": "code",
   "execution_count": 64,
   "id": "4f864acd",
   "metadata": {},
   "outputs": [
    {
     "name": "stdout",
     "output_type": "stream",
     "text": [
      "enter the array [[],1,2,3,[222,33,4,[],33],4,5,[],6,[11,12,13,14,15],7,8,9,0]\n",
      "[1, 2, 3, 222, 33, 4, 33, 4, 5, 6, 11, 12, 13, 14, 15, 7, 8, 9, 0]\n"
     ]
    }
   ],
   "source": [
    "def if_list(l,m):\n",
    "    for i in l:\n",
    "        if (type(i)==list or type(i)==tuple):\n",
    "            m.append(if_list(i,m))\n",
    "        if (type(i)==int or type(i)==float):\n",
    "            m.append(i)\n",
    "    return \n",
    "\n",
    "\n",
    "\n",
    "l=eval(input(\"enter the array \"))\n",
    "product=1\n",
    "m=[]\n",
    "for i in l:\n",
    "    if (type(i)==list or type(i)==tuple):\n",
    "        m.append(if_list(i,m))\n",
    "    if (type(i)==int or type(i)==float):\n",
    "        m.append(i)\n",
    "for j in m:\n",
    "    if(j==None):\n",
    "        m.remove(None)\n",
    "print(m)"
   ]
  },
  {
   "cell_type": "markdown",
   "id": "61f354e4",
   "metadata": {},
   "source": [
    "# 10"
   ]
  },
  {
   "cell_type": "code",
   "execution_count": 65,
   "id": "f94f67b3",
   "metadata": {},
   "outputs": [
    {
     "name": "stdout",
     "output_type": "stream",
     "text": [
      "enter the list: [[],1,2,3,[222,33,4,[],33],4,5,[],6,[11,12,13,14,15],7,8,9,0]\n",
      "copied list= [[], 1, 2, 3, [222, 33, 4, [], 33], 4, 5, [], 6, [11, 12, 13, 14, 15], 7, 8, 9, 0]\n"
     ]
    }
   ],
   "source": [
    "l=eval(input(\"enter the list: \"))\n",
    "s=l.copy()\n",
    "print(\"copied list=\",s)"
   ]
  },
  {
   "cell_type": "markdown",
   "id": "88deeead",
   "metadata": {},
   "source": [
    "# 11"
   ]
  },
  {
   "cell_type": "code",
   "execution_count": 56,
   "id": "750152ce",
   "metadata": {},
   "outputs": [
    {
     "name": "stdout",
     "output_type": "stream",
     "text": [
      "enter the array [2,3,4,2,[6,4,[8,7,6,5,0],3,2],4,9]\n",
      "[2, 3, 4, 2, 6, 4, 8, 7, 6, 5, 0, 3, 2, 4, 9]\n",
      "enter the no to find: 2\n",
      "2 occurs  3 times\n"
     ]
    }
   ],
   "source": [
    "def if_list(l,m):\n",
    "    for i in l:\n",
    "        if (type(i)==list or type(i)==tuple):\n",
    "            m.append(if_list(i,m))\n",
    "        if (type(i)==int or type(i)==float):\n",
    "            m.append(i)\n",
    "    return \n",
    "\n",
    "\n",
    "\n",
    "l=eval(input(\"enter the array \"))\n",
    "product=1\n",
    "m=[]\n",
    "for i in l:\n",
    "    if (type(i)==list or type(i)==tuple):\n",
    "        m.append(if_list(i,m))\n",
    "    if (type(i)==int or type(i)==float):\n",
    "        m.append(i)\n",
    "for j in m:\n",
    "    if(j==None):\n",
    "        m.remove(None)\n",
    "print(m)\n",
    "\n",
    "n=int(input(\"enter the no to find: \"))\n",
    "count=0\n",
    "for i in m:\n",
    "    if i==n:\n",
    "        count+=1\n",
    "print(n,\"occurs \",count,\"times\")"
   ]
  },
  {
   "cell_type": "code",
   "execution_count": null,
   "id": "0ab43f31",
   "metadata": {},
   "outputs": [],
   "source": []
  }
 ],
 "metadata": {
  "kernelspec": {
   "display_name": "Python 3 (ipykernel)",
   "language": "python",
   "name": "python3"
  },
  "language_info": {
   "codemirror_mode": {
    "name": "ipython",
    "version": 3
   },
   "file_extension": ".py",
   "mimetype": "text/x-python",
   "name": "python",
   "nbconvert_exporter": "python",
   "pygments_lexer": "ipython3",
   "version": "3.9.12"
  }
 },
 "nbformat": 4,
 "nbformat_minor": 5
}
