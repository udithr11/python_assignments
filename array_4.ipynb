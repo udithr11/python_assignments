{
 "cells": [
  {
   "cell_type": "code",
   "execution_count": 1,
   "id": "be37adc5",
   "metadata": {},
   "outputs": [
    {
     "name": "stdout",
     "output_type": "stream",
     "text": [
      "[1, 5]\n"
     ]
    }
   ],
   "source": [
    "#question 1\n",
    "\n",
    "def find_common_elements(arr1, arr2, arr3):\n",
    "    i = j = k = 0  \n",
    "    result = []  \n",
    "\n",
    "    while i < len(arr1) and j < len(arr2) and k < len(arr3):\n",
    "        if arr1[i] == arr2[j] == arr3[k]:\n",
    "            result.append(arr1[i])\n",
    "            i += 1\n",
    "            j += 1\n",
    "            k += 1\n",
    "        elif arr1[i] < arr2[j]:\n",
    "            i += 1\n",
    "        elif arr2[j] < arr3[k]:\n",
    "            j += 1\n",
    "        else:\n",
    "            k += 1\n",
    "\n",
    "    return result\n",
    "\n",
    "\n",
    "arr1 = [1,2,3,4,5]\n",
    "arr2 = [1,2,5,7,9]\n",
    "arr3 = [1,3,4,5,8]\n",
    "\n",
    "print(find_common_elements(arr1,arr2,arr3))"
   ]
  },
  {
   "cell_type": "code",
   "execution_count": null,
   "id": "cd6962f7",
   "metadata": {},
   "outputs": [],
   "source": []
  },
  {
   "cell_type": "code",
   "execution_count": 8,
   "id": "466da275",
   "metadata": {},
   "outputs": [
    {
     "name": "stdout",
     "output_type": "stream",
     "text": [
      "[[1, 3], [4, 6]]\n"
     ]
    }
   ],
   "source": [
    "#question 2\n",
    "\n",
    "def find_disjoint_nums(nums1, nums2):\n",
    "    s1 = set(nums1)\n",
    "    s2 = set(nums2)\n",
    "\n",
    "    first = list(s1-s2)\n",
    "    second = list(s2-s1)\n",
    "\n",
    "    return [first,second]\n",
    "\n",
    "nums1 = [1,2,3]\n",
    "nums2 = [2,4,6]\n",
    "print(find_disjoint_nums(nums1,nums2))"
   ]
  },
  {
   "cell_type": "code",
   "execution_count": null,
   "id": "40d65a7f",
   "metadata": {},
   "outputs": [],
   "source": []
  },
  {
   "cell_type": "code",
   "execution_count": 26,
   "id": "a5d91e9c",
   "metadata": {},
   "outputs": [
    {
     "name": "stdout",
     "output_type": "stream",
     "text": [
      "[[1, 4], [2, 5], [3, 6]]\n"
     ]
    }
   ],
   "source": [
    "#question 3\n",
    "\n",
    "def transpose(matrix):\n",
    "    rows=len(matrix)\n",
    "    column=len(matrix[0])\n",
    "\n",
    "    result=[]\n",
    "    r1=[]\n",
    "    for i in range(column):\n",
    "        for j in range(rows):\n",
    "            r1.append(0)\n",
    "        result.append(r1)\n",
    "        r1=[]\n",
    "\n",
    "    for i in range(column):\n",
    "        for j in range(rows):\n",
    "            result[i][j]=matrix[j][i]\n",
    "    return result\n",
    "    \n",
    "\n",
    "matrix = [[1,2,3],[4,5,6]]\n",
    "print(transpose(matrix))"
   ]
  },
  {
   "cell_type": "code",
   "execution_count": null,
   "id": "375cf107",
   "metadata": {},
   "outputs": [],
   "source": []
  },
  {
   "cell_type": "code",
   "execution_count": 28,
   "id": "8bc3622e",
   "metadata": {},
   "outputs": [
    {
     "name": "stdout",
     "output_type": "stream",
     "text": [
      "4\n"
     ]
    }
   ],
   "source": [
    "#question 4\n",
    "\n",
    "def max_sum(nums):\n",
    "    nums.sort() \n",
    "    result = 0\n",
    "    for i in range(0, len(nums), 2):\n",
    "        result += nums[i]\n",
    "    return result\n",
    "\n",
    "nums = [1,4,3,2]\n",
    "print(max_sum(nums))"
   ]
  },
  {
   "cell_type": "code",
   "execution_count": null,
   "id": "2e3c510e",
   "metadata": {},
   "outputs": [],
   "source": []
  },
  {
   "cell_type": "code",
   "execution_count": 32,
   "id": "756cd299",
   "metadata": {},
   "outputs": [
    {
     "name": "stdout",
     "output_type": "stream",
     "text": [
      "3\n"
     ]
    }
   ],
   "source": [
    "#question 5\n",
    "\n",
    "def staircase(n):\n",
    "    row=1\n",
    "    while(n>=row):\n",
    "        n-=row\n",
    "        row+=1\n",
    "    return row-1\n",
    "\n",
    "n=6\n",
    "print(staircase(n))"
   ]
  },
  {
   "cell_type": "code",
   "execution_count": null,
   "id": "9a6096db",
   "metadata": {},
   "outputs": [],
   "source": []
  },
  {
   "cell_type": "code",
   "execution_count": 35,
   "id": "55a6e78f",
   "metadata": {},
   "outputs": [
    {
     "name": "stdout",
     "output_type": "stream",
     "text": [
      "[0, 1, 9, 16, 100]\n"
     ]
    }
   ],
   "source": [
    "#question 6\n",
    "\n",
    "\n",
    "def sq(nums):\n",
    "    nums=[i*i for i in nums]\n",
    "    return sorted(nums)\n",
    "\n",
    "nums = [-4,-1,0,3,10]\n",
    "print(sq(nums))"
   ]
  },
  {
   "cell_type": "code",
   "execution_count": null,
   "id": "260bf70c",
   "metadata": {},
   "outputs": [],
   "source": []
  },
  {
   "cell_type": "code",
   "execution_count": 55,
   "id": "a0373720",
   "metadata": {},
   "outputs": [
    {
     "name": "stdout",
     "output_type": "stream",
     "text": [
      "4\n"
     ]
    }
   ],
   "source": [
    "#question 7\n",
    "\n",
    "def max_count(m,n,ops):\n",
    "    for r,c in ops:\n",
    "        m,n=min(r,m),min(c,n)\n",
    "    return m*n\n",
    "\n",
    "m = 3\n",
    "n = 3\n",
    "ops = [[2,2],[3,3]]\n",
    "print(max_count(m,n,ops))"
   ]
  },
  {
   "cell_type": "code",
   "execution_count": null,
   "id": "19097e20",
   "metadata": {},
   "outputs": [],
   "source": []
  },
  {
   "cell_type": "code",
   "execution_count": 41,
   "id": "2aea5379",
   "metadata": {},
   "outputs": [
    {
     "name": "stdout",
     "output_type": "stream",
     "text": [
      "[2, 5, 1, 3, 4, 7]\n"
     ]
    }
   ],
   "source": [
    "#question 8\n",
    "\n",
    "def arrange(nums):   \n",
    "    res=[]\n",
    "    j=(len(nums)//2)\n",
    "    for i in range(len(nums)//2):\n",
    "\n",
    "        res.append(nums[i])\n",
    "        res.append(nums[j])\n",
    "        j+=1\n",
    "    return(nums)\n",
    "\n",
    "nums = [2,5,1,3,4,7]\n",
    "print(arrange(nums))"
   ]
  },
  {
   "cell_type": "code",
   "execution_count": null,
   "id": "e41b7913",
   "metadata": {},
   "outputs": [],
   "source": []
  }
 ],
 "metadata": {
  "kernelspec": {
   "display_name": "Python 3 (ipykernel)",
   "language": "python",
   "name": "python3"
  },
  "language_info": {
   "codemirror_mode": {
    "name": "ipython",
    "version": 3
   },
   "file_extension": ".py",
   "mimetype": "text/x-python",
   "name": "python",
   "nbconvert_exporter": "python",
   "pygments_lexer": "ipython3",
   "version": "3.9.12"
  }
 },
 "nbformat": 4,
 "nbformat_minor": 5
}
