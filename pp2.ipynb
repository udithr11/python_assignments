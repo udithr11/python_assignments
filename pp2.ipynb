{
 "cells": [
  {
   "cell_type": "markdown",
   "id": "54055570",
   "metadata": {},
   "source": [
    "# 1)"
   ]
  },
  {
   "cell_type": "code",
   "execution_count": 1,
   "id": "dad255ef",
   "metadata": {},
   "outputs": [
    {
     "name": "stdout",
     "output_type": "stream",
     "text": [
      "enter the distance in kilometers32\n",
      "distance equivalent in miles= 19.883872\n"
     ]
    }
   ],
   "source": [
    "a=int(input(\"enter the distance in kilometers\"))\n",
    "print(\"distance equivalent in miles=\",0.621371*a)"
   ]
  },
  {
   "cell_type": "markdown",
   "id": "f2700d7b",
   "metadata": {},
   "source": [
    "# 2)"
   ]
  },
  {
   "cell_type": "code",
   "execution_count": 4,
   "id": "2df37334",
   "metadata": {},
   "outputs": [
    {
     "name": "stdout",
     "output_type": "stream",
     "text": [
      "enter the temperature in celsius23\n",
      "temperature in fahrenheit=  73.4\n"
     ]
    }
   ],
   "source": [
    "a=int(input(\"enter the temperature in celsius\"))\n",
    "b=(9/5)*a+32\n",
    "print(\"temperature in fahrenheit= \",b)"
   ]
  },
  {
   "cell_type": "markdown",
   "id": "27f50700",
   "metadata": {},
   "source": [
    "# 3)"
   ]
  },
  {
   "cell_type": "code",
   "execution_count": 9,
   "id": "8241665f",
   "metadata": {},
   "outputs": [
    {
     "name": "stdout",
     "output_type": "stream",
     "text": [
      "enter a year:1997\n",
      "                                  1997\n",
      "\n",
      "      January                   February                   March\n",
      "Mo Tu We Th Fr Sa Su      Mo Tu We Th Fr Sa Su      Mo Tu We Th Fr Sa Su\n",
      "       1  2  3  4  5                      1  2                      1  2\n",
      " 6  7  8  9 10 11 12       3  4  5  6  7  8  9       3  4  5  6  7  8  9\n",
      "13 14 15 16 17 18 19      10 11 12 13 14 15 16      10 11 12 13 14 15 16\n",
      "20 21 22 23 24 25 26      17 18 19 20 21 22 23      17 18 19 20 21 22 23\n",
      "27 28 29 30 31            24 25 26 27 28            24 25 26 27 28 29 30\n",
      "                                                    31\n",
      "\n",
      "       April                      May                       June\n",
      "Mo Tu We Th Fr Sa Su      Mo Tu We Th Fr Sa Su      Mo Tu We Th Fr Sa Su\n",
      "    1  2  3  4  5  6                1  2  3  4                         1\n",
      " 7  8  9 10 11 12 13       5  6  7  8  9 10 11       2  3  4  5  6  7  8\n",
      "14 15 16 17 18 19 20      12 13 14 15 16 17 18       9 10 11 12 13 14 15\n",
      "21 22 23 24 25 26 27      19 20 21 22 23 24 25      16 17 18 19 20 21 22\n",
      "28 29 30                  26 27 28 29 30 31         23 24 25 26 27 28 29\n",
      "                                                    30\n",
      "\n",
      "        July                     August                  September\n",
      "Mo Tu We Th Fr Sa Su      Mo Tu We Th Fr Sa Su      Mo Tu We Th Fr Sa Su\n",
      "    1  2  3  4  5  6                   1  2  3       1  2  3  4  5  6  7\n",
      " 7  8  9 10 11 12 13       4  5  6  7  8  9 10       8  9 10 11 12 13 14\n",
      "14 15 16 17 18 19 20      11 12 13 14 15 16 17      15 16 17 18 19 20 21\n",
      "21 22 23 24 25 26 27      18 19 20 21 22 23 24      22 23 24 25 26 27 28\n",
      "28 29 30 31               25 26 27 28 29 30 31      29 30\n",
      "\n",
      "      October                   November                  December\n",
      "Mo Tu We Th Fr Sa Su      Mo Tu We Th Fr Sa Su      Mo Tu We Th Fr Sa Su\n",
      "       1  2  3  4  5                      1  2       1  2  3  4  5  6  7\n",
      " 6  7  8  9 10 11 12       3  4  5  6  7  8  9       8  9 10 11 12 13 14\n",
      "13 14 15 16 17 18 19      10 11 12 13 14 15 16      15 16 17 18 19 20 21\n",
      "20 21 22 23 24 25 26      17 18 19 20 21 22 23      22 23 24 25 26 27 28\n",
      "27 28 29 30 31            24 25 26 27 28 29 30      29 30 31\n",
      "\n"
     ]
    }
   ],
   "source": [
    "import calendar\n",
    "year=int(input(\"enter a year:\"))\n",
    "print (calendar.calendar(year))"
   ]
  },
  {
   "cell_type": "markdown",
   "id": "8f1575b7",
   "metadata": {},
   "source": [
    "# 4)"
   ]
  },
  {
   "cell_type": "code",
   "execution_count": 11,
   "id": "320cdc67",
   "metadata": {},
   "outputs": [
    {
     "name": "stdout",
     "output_type": "stream",
     "text": [
      "enter first no: -2\n",
      "enter second no: 6\n",
      "enter third no: 7\n",
      "real and different roots \n",
      "-0.8979157616563596\n",
      "3.8979157616563596\n"
     ]
    }
   ],
   "source": [
    "import math \n",
    "a=int(input(\"enter first no: \"))\n",
    "b=int(input(\"enter second no: \"))\n",
    "c=int(input(\"enter third no: \"))\n",
    "  \n",
    "if a==0:\n",
    "    print(\"Input correct quadratic equation\") \n",
    "else:\n",
    "    dis=(b*b)-(4*a*c) \n",
    "    sq=math.sqrt(abs(dis)) \n",
    "    \n",
    "    if dis>0: \n",
    "        print(\"real and different roots \") \n",
    "        print((-b+sq)/(2*a)) \n",
    "        print((-b-sq)/(2*a)) \n",
    "      \n",
    "    elif dis==0: \n",
    "        print(\"real and same roots\") \n",
    "        print(-b/(2*a)) \n",
    "      \n",
    "    else:\n",
    "        print(\"Complex Roots\") \n",
    "        print(-b/(2*a),\" + i\",sq) \n",
    "        print(-b/(2*a),\" - i\", sq) \n",
    "   "
   ]
  },
  {
   "cell_type": "markdown",
   "id": "7d0de252",
   "metadata": {},
   "source": [
    "# 5)"
   ]
  },
  {
   "cell_type": "code",
   "execution_count": 13,
   "id": "cc0b6846",
   "metadata": {},
   "outputs": [
    {
     "name": "stdout",
     "output_type": "stream",
     "text": [
      "enter first no: 2\n",
      "enter second no: 54\n",
      "first no= 54 second no= 2\n"
     ]
    }
   ],
   "source": [
    "a=int(input(\"enter first no: \"))\n",
    "b=int(input(\"enter second no: \"))\n",
    "a=a+b\n",
    "b=a-b\n",
    "a=a-b\n",
    "print(\"first no=\",a,\"second no=\",b)"
   ]
  },
  {
   "cell_type": "code",
   "execution_count": null,
   "id": "e55249af",
   "metadata": {},
   "outputs": [],
   "source": []
  }
 ],
 "metadata": {
  "kernelspec": {
   "display_name": "Python 3 (ipykernel)",
   "language": "python",
   "name": "python3"
  },
  "language_info": {
   "codemirror_mode": {
    "name": "ipython",
    "version": 3
   },
   "file_extension": ".py",
   "mimetype": "text/x-python",
   "name": "python",
   "nbconvert_exporter": "python",
   "pygments_lexer": "ipython3",
   "version": "3.9.12"
  }
 },
 "nbformat": 4,
 "nbformat_minor": 5
}
