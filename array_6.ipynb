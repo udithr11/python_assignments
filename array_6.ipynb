{
 "cells": [
  {
   "cell_type": "code",
   "execution_count": 34,
   "id": "9a9afdf8",
   "metadata": {},
   "outputs": [
    {
     "name": "stdout",
     "output_type": "stream",
     "text": [
      "[0, 4, 1, 3, 2]\n"
     ]
    }
   ],
   "source": [
    "#question 1\n",
    "\n",
    "def diStringMatch(s):\n",
    "    out=[]\n",
    "    min_=0\n",
    "    max_=len(s)\n",
    "    for i in s:\n",
    "        if i=='I':\n",
    "            out.append(min_)\n",
    "            min_+=1\n",
    "        else:\n",
    "            out.append(max_)\n",
    "            max_-=1\n",
    "\n",
    "    if i=='I':\n",
    "        out.append(min_)\n",
    "        min_+=1\n",
    "    else:\n",
    "        out.append(max_)\n",
    "        max_-=1\n",
    "    return out\n",
    "\n",
    "s = \"IDID\"\n",
    "print(diStringMatch(s))"
   ]
  },
  {
   "cell_type": "code",
   "execution_count": null,
   "id": "426281be",
   "metadata": {},
   "outputs": [],
   "source": []
  },
  {
   "cell_type": "code",
   "execution_count": 35,
   "id": "26b2502f",
   "metadata": {},
   "outputs": [
    {
     "name": "stdout",
     "output_type": "stream",
     "text": [
      "True\n"
     ]
    }
   ],
   "source": [
    "#question 2\n",
    "\n",
    "def searchMatrix(matrix, target):\n",
    "    m = len(matrix)  \n",
    "    n = len(matrix[0]) \n",
    "\n",
    "    left = 0\n",
    "    right = m * n - 1\n",
    "\n",
    "    while left <= right:\n",
    "        mid = left + (right - left) // 2\n",
    "        mid_value = matrix[mid // n][mid % n]\n",
    "\n",
    "        if mid_value == target:\n",
    "            return True\n",
    "        elif mid_value < target:\n",
    "            left = mid + 1\n",
    "        else:\n",
    "            right = mid - 1\n",
    "\n",
    "    return False\n",
    "\n",
    "\n",
    "matrix = [\n",
    "    [1, 3, 5, 7],\n",
    "    [10, 11, 16, 20],\n",
    "    [23, 30, 34, 60]]\n",
    "target = 3\n",
    "print(searchMatrix(matrix, target))  \n"
   ]
  },
  {
   "cell_type": "code",
   "execution_count": null,
   "id": "2587dc8f",
   "metadata": {},
   "outputs": [],
   "source": []
  },
  {
   "cell_type": "code",
   "execution_count": 36,
   "id": "dea4915b",
   "metadata": {},
   "outputs": [
    {
     "name": "stdout",
     "output_type": "stream",
     "text": [
      "True\n"
     ]
    }
   ],
   "source": [
    "#Question 3\n",
    "\n",
    "def valid_montain_array(arr):\n",
    "    n=len(arr)-1\n",
    "    i=0\n",
    "    while(i<n and arr[i]<arr[i+1]):\n",
    "        i+=1\n",
    "    if(i==n or i==0):\n",
    "        return False\n",
    "    while(i<n and arr[i]>arr[i+1]):\n",
    "        i+=1\n",
    "    if(i!=n):\n",
    "        return False\n",
    "    else: return True\n",
    "    \n",
    "arr = [1, 2, 3, 4, 5, 4, 3, 2, 1]\n",
    "print(valid_montain_array(arr))"
   ]
  },
  {
   "cell_type": "code",
   "execution_count": null,
   "id": "535ffe1a",
   "metadata": {},
   "outputs": [],
   "source": []
  },
  {
   "cell_type": "code",
   "execution_count": 37,
   "id": "1dc4c49c",
   "metadata": {},
   "outputs": [
    {
     "name": "stdout",
     "output_type": "stream",
     "text": [
      "4\n"
     ]
    }
   ],
   "source": [
    "#question 4 \n",
    "\n",
    "def findMaxLength(nums):\n",
    "    max_length = 0\n",
    "    n = len(nums)\n",
    "\n",
    "    for i in range(n):\n",
    "        count_zero = 0\n",
    "        count_one = 0\n",
    "\n",
    "        for j in range(i, n):\n",
    "            if nums[j] == 0:\n",
    "                count_zero += 1\n",
    "            else:\n",
    "                count_one += 1\n",
    "\n",
    "            if count_zero == count_one:\n",
    "                max_length = max(max_length, j - i + 1)\n",
    "\n",
    "    return max_length\n",
    "\n",
    "\n",
    "nums = [0, 1, 0, 1, 1, 1, 0]\n",
    "result = findMaxLength(nums)\n",
    "print(result)  "
   ]
  },
  {
   "cell_type": "code",
   "execution_count": null,
   "id": "7737d908",
   "metadata": {},
   "outputs": [],
   "source": []
  },
  {
   "cell_type": "code",
   "execution_count": 38,
   "id": "7fec8931",
   "metadata": {},
   "outputs": [
    {
     "name": "stdout",
     "output_type": "stream",
     "text": [
      "40\n"
     ]
    }
   ],
   "source": [
    "#question 5\n",
    "\n",
    "def minValue(A, B):\n",
    " \n",
    " \n",
    "    A.sort()\n",
    "    B.sort()\n",
    " \n",
    "\n",
    "    result = 0\n",
    "    n=len(A)\n",
    "    for i in range(n):\n",
    "        result += (A[i] * B[n - i - 1])\n",
    " \n",
    "    return result\n",
    "\n",
    "nums1 = [5,3,4,2]\n",
    "nums2 = [4,2,2,5]\n",
    "print(minValue(nums1, nums2))"
   ]
  },
  {
   "cell_type": "code",
   "execution_count": null,
   "id": "74825930",
   "metadata": {},
   "outputs": [],
   "source": []
  },
  {
   "cell_type": "code",
   "execution_count": 39,
   "id": "f30c0f92",
   "metadata": {},
   "outputs": [
    {
     "name": "stdout",
     "output_type": "stream",
     "text": [
      "[1, 3, 4]\n"
     ]
    }
   ],
   "source": [
    "#question 6\n",
    "\n",
    "def doubled(changed):\n",
    "    from collections import Counter\n",
    "\n",
    "    d=Counter(changed)\n",
    "    l=sorted(changed)\n",
    "    out=[]\n",
    "    for i in l:\n",
    "        if (d[i]!=0 and d[i*2]!=0):\n",
    "            out.append(i)\n",
    "            d[i]-=1\n",
    "            d[i*2]-=1\n",
    "    if (list(set(d.values()))!=[0]):\n",
    "        return(\"not doubled array\")\n",
    "    return out\n",
    "    \n",
    "\n",
    "changed = [1,3,4,2,6,8]\n",
    "print(doubled(changed))"
   ]
  },
  {
   "cell_type": "code",
   "execution_count": null,
   "id": "6282238a",
   "metadata": {},
   "outputs": [],
   "source": []
  },
  {
   "cell_type": "code",
   "execution_count": 40,
   "id": "ac669f4b",
   "metadata": {},
   "outputs": [
    {
     "name": "stdout",
     "output_type": "stream",
     "text": [
      "[1, 2, 3, 4]\n",
      "[12, 13, 14, 5]\n",
      "[11, 16, 15, 6]\n",
      "[10, 9, 8, 7]\n"
     ]
    }
   ],
   "source": [
    "#quetion 7\n",
    "\n",
    "def generateMatrix(n):\n",
    "    matrix = [[0] * n for _ in range(n)]  \n",
    "    num = 1 \n",
    "    top = 0\n",
    "    bottom = n - 1\n",
    "    left = 0\n",
    "    right = n - 1\n",
    "\n",
    "    while num <= n*n:\n",
    "        \n",
    "        for i in range(left, right + 1):\n",
    "            matrix[top][i] = num\n",
    "            num += 1\n",
    "        top += 1\n",
    "\n",
    "        \n",
    "        for i in range(top, bottom + 1):\n",
    "            matrix[i][right] = num\n",
    "            num += 1\n",
    "        right -= 1\n",
    "\n",
    "        \n",
    "        if top <= bottom:\n",
    "            for i in range(right, left - 1, -1):\n",
    "                matrix[bottom][i] = num\n",
    "                num += 1\n",
    "            bottom -= 1\n",
    "\n",
    "        \n",
    "        if left <= right:\n",
    "            for i in range(bottom, top - 1, -1):\n",
    "                matrix[i][left] = num\n",
    "                num += 1\n",
    "            left += 1\n",
    "\n",
    "    return matrix\n",
    "\n",
    "\n",
    "n = 4\n",
    "result = generateMatrix(n)\n",
    "for row in result:\n",
    "    print(row)\n"
   ]
  },
  {
   "cell_type": "code",
   "execution_count": null,
   "id": "a9e385d0",
   "metadata": {},
   "outputs": [],
   "source": []
  },
  {
   "cell_type": "code",
   "execution_count": 13,
   "id": "2b468c39",
   "metadata": {},
   "outputs": [
    {
     "name": "stdout",
     "output_type": "stream",
     "text": [
      "[[7, 0, 0], [-7, 0, 3]]\n"
     ]
    }
   ],
   "source": [
    "#question 8\n",
    "\n",
    "def multipliction(mat1,mat2):\n",
    "    res=[[0 for i in range(len(mat2[0]))] for j in range(len(mat1))]\n",
    "    \n",
    "    for i in range(len(mat1)):\n",
    "        for j in range(len(mat2[0])):\n",
    "            for k in range(len(mat2)):\n",
    "                res[i][j]+=mat1[i][k]*mat2[k][j]\n",
    "                \n",
    "    return res\n",
    "    \n",
    "    \n",
    "    \n",
    "mat1 = [[1, 0, 0],\n",
    "        [-1, 0, 3]]\n",
    "\n",
    "mat2 = [[7, 0, 0],\n",
    "        [0, 0, 0],\n",
    "        [0, 0, 1]]\n",
    "print(multipliction(mat1,mat2))"
   ]
  },
  {
   "cell_type": "code",
   "execution_count": null,
   "id": "695f4220",
   "metadata": {},
   "outputs": [],
   "source": []
  },
  {
   "cell_type": "code",
   "execution_count": null,
   "id": "52dbc08f",
   "metadata": {},
   "outputs": [],
   "source": []
  },
  {
   "cell_type": "code",
   "execution_count": null,
   "id": "8c34c601",
   "metadata": {},
   "outputs": [],
   "source": []
  },
  {
   "cell_type": "code",
   "execution_count": null,
   "id": "a721b52a",
   "metadata": {},
   "outputs": [],
   "source": []
  },
  {
   "cell_type": "code",
   "execution_count": null,
   "id": "78080043",
   "metadata": {},
   "outputs": [],
   "source": []
  },
  {
   "cell_type": "code",
   "execution_count": null,
   "id": "d9c17f4d",
   "metadata": {},
   "outputs": [],
   "source": []
  },
  {
   "cell_type": "code",
   "execution_count": null,
   "id": "ac3f880f",
   "metadata": {},
   "outputs": [],
   "source": []
  },
  {
   "cell_type": "code",
   "execution_count": null,
   "id": "8925d832",
   "metadata": {},
   "outputs": [],
   "source": []
  },
  {
   "cell_type": "code",
   "execution_count": null,
   "id": "fa2cec49",
   "metadata": {},
   "outputs": [],
   "source": []
  },
  {
   "cell_type": "code",
   "execution_count": null,
   "id": "6826834f",
   "metadata": {},
   "outputs": [],
   "source": []
  },
  {
   "cell_type": "code",
   "execution_count": null,
   "id": "9ace64e8",
   "metadata": {},
   "outputs": [],
   "source": []
  },
  {
   "cell_type": "code",
   "execution_count": null,
   "id": "e22f1986",
   "metadata": {},
   "outputs": [],
   "source": []
  },
  {
   "cell_type": "code",
   "execution_count": null,
   "id": "32a9ac25",
   "metadata": {},
   "outputs": [],
   "source": []
  },
  {
   "cell_type": "code",
   "execution_count": null,
   "id": "8820327a",
   "metadata": {},
   "outputs": [],
   "source": []
  },
  {
   "cell_type": "code",
   "execution_count": null,
   "id": "0e4dd95a",
   "metadata": {},
   "outputs": [],
   "source": []
  },
  {
   "cell_type": "code",
   "execution_count": null,
   "id": "d101b6c5",
   "metadata": {},
   "outputs": [],
   "source": []
  }
 ],
 "metadata": {
  "kernelspec": {
   "display_name": "Python 3 (ipykernel)",
   "language": "python",
   "name": "python3"
  },
  "language_info": {
   "codemirror_mode": {
    "name": "ipython",
    "version": 3
   },
   "file_extension": ".py",
   "mimetype": "text/x-python",
   "name": "python",
   "nbconvert_exporter": "python",
   "pygments_lexer": "ipython3",
   "version": "3.9.12"
  }
 },
 "nbformat": 4,
 "nbformat_minor": 5
}
