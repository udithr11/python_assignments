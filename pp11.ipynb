{
 "cells": [
  {
   "cell_type": "markdown",
   "id": "99a71117",
   "metadata": {},
   "source": [
    "# 1"
   ]
  },
  {
   "cell_type": "code",
   "execution_count": 41,
   "id": "52da46aa",
   "metadata": {},
   "outputs": [
    {
     "name": "stdout",
     "output_type": "stream",
     "text": [
      "enter a string: a ab abc abcd abcde abcdef abcdefg\n",
      "enter the length 3\n",
      "abcd abcde abcdef abcdefg "
     ]
    }
   ],
   "source": [
    "s=input(\"enter a string: \")\n",
    "k=int(input(\"enter the length \"))\n",
    "p=[]\n",
    "for i in s.split(\" \"):\n",
    "    if len(i)>k:\n",
    "        print(i,end=\" \")"
   ]
  },
  {
   "cell_type": "markdown",
   "id": "ab28b0b7",
   "metadata": {},
   "source": [
    "# 2"
   ]
  },
  {
   "cell_type": "code",
   "execution_count": 15,
   "id": "e1633251",
   "metadata": {},
   "outputs": [
    {
     "name": "stdout",
     "output_type": "stream",
     "text": [
      "enter a string abcd\n",
      "enter the index to be deteted 2\n",
      "abd\n"
     ]
    }
   ],
   "source": [
    "s=input(\"enter a string \")\n",
    "i=int(input(\"enter the index to be deteted \"))\n",
    "w=\"\"\n",
    "for j in range(len(s)):\n",
    "    if j!=i:\n",
    "        w+=s[j]\n",
    "print(w)"
   ]
  },
  {
   "cell_type": "markdown",
   "id": "be2819fa",
   "metadata": {},
   "source": [
    "# 3"
   ]
  },
  {
   "cell_type": "code",
   "execution_count": 28,
   "id": "956b6069",
   "metadata": {},
   "outputs": [
    {
     "name": "stdout",
     "output_type": "stream",
     "text": [
      "enter a string a ab abc abcd abcde\n",
      "split string= ['a', 'ab', 'abc', 'abcd', 'abcde']\n",
      "joined string= a ab abc abcd abcde\n"
     ]
    }
   ],
   "source": [
    "s=input(\"enter a string \")\n",
    "q=s.split(\" \")\n",
    "print(\"split string=\",q)\n",
    "r=\" \".join(q)\n",
    "print(\"joined string=\",r)"
   ]
  },
  {
   "cell_type": "markdown",
   "id": "d45b079f",
   "metadata": {},
   "source": [
    "# 4"
   ]
  },
  {
   "cell_type": "code",
   "execution_count": 25,
   "id": "b821c124",
   "metadata": {},
   "outputs": [
    {
     "name": "stdout",
     "output_type": "stream",
     "text": [
      "enter a string 011101110\n",
      "binary string: \n"
     ]
    }
   ],
   "source": [
    "s=input(\"enter a string \")\n",
    "w=0\n",
    "for i in s:\n",
    "    if (i=='1' or i=='0'):\n",
    "        w+=1\n",
    "if (w)==len(s):\n",
    "    print(\"binary string: \")\n",
    "else:\n",
    "    print(\"not a binary string: \")"
   ]
  },
  {
   "cell_type": "markdown",
   "id": "567a27ad",
   "metadata": {},
   "source": [
    "# 5"
   ]
  },
  {
   "cell_type": "code",
   "execution_count": 32,
   "id": "ac5e59d2",
   "metadata": {},
   "outputs": [
    {
     "name": "stdout",
     "output_type": "stream",
     "text": [
      "enter string 1: Python code to convert string to list\n",
      "enter string 2: Python code to convert string to list character-wise\n",
      "{'character-wise'}\n"
     ]
    }
   ],
   "source": [
    "s1=input(\"enter string 1: \").lower()\n",
    "s2=input(\"enter string 2: \").lower()\n",
    "m=s1.split(\" \")\n",
    "n=s2.split(\" \")\n",
    "out=[]\n",
    "for i in m:\n",
    "    if i not in n:\n",
    "        out.append(i)\n",
    "for i in n:\n",
    "    if i not in m:\n",
    "        out.append(i)\n",
    "print(set(out))"
   ]
  },
  {
   "cell_type": "markdown",
   "id": "5a2d8c46",
   "metadata": {},
   "source": [
    "# 6"
   ]
  },
  {
   "cell_type": "code",
   "execution_count": 36,
   "id": "838da702",
   "metadata": {},
   "outputs": [
    {
     "name": "stdout",
     "output_type": "stream",
     "text": [
      "enter string 1: abcd abc\n",
      "{'b', 'a', 'c'}\n"
     ]
    }
   ],
   "source": [
    "s=input(\"enter string 1: \")\n",
    "c=[]\n",
    "for i in s:\n",
    "    count=0\n",
    "    for j in range(len(s)):\n",
    "        if i==(s[j]):\n",
    "            count+=1\n",
    "    if (count>1):\n",
    "        c.append(i)\n",
    "print(set(c))"
   ]
  },
  {
   "cell_type": "markdown",
   "id": "8ec6be2a",
   "metadata": {},
   "source": [
    "# 7"
   ]
  },
  {
   "cell_type": "code",
   "execution_count": 40,
   "id": "47839520",
   "metadata": {},
   "outputs": [
    {
     "name": "stdout",
     "output_type": "stream",
     "text": [
      "enter string 1: asjhbsjbd@ihishdshfd\n",
      "the string contain special character\n"
     ]
    }
   ],
   "source": [
    "s=input(\"enter string 1: \")\n",
    "special='[@_!#$%^&*''(.)<>?/\\|}{~:]'\n",
    "count=0\n",
    "for i in s:\n",
    "    if i in special:\n",
    "        count+=1\n",
    "if count>0:\n",
    "    print(\"the string contain special character\")\n",
    "else:\n",
    "    print(\"the string does not contain any special character\")\n"
   ]
  },
  {
   "cell_type": "code",
   "execution_count": null,
   "id": "69beadba",
   "metadata": {},
   "outputs": [],
   "source": []
  }
 ],
 "metadata": {
  "kernelspec": {
   "display_name": "Python 3 (ipykernel)",
   "language": "python",
   "name": "python3"
  },
  "language_info": {
   "codemirror_mode": {
    "name": "ipython",
    "version": 3
   },
   "file_extension": ".py",
   "mimetype": "text/x-python",
   "name": "python",
   "nbconvert_exporter": "python",
   "pygments_lexer": "ipython3",
   "version": "3.9.12"
  }
 },
 "nbformat": 4,
 "nbformat_minor": 5
}
