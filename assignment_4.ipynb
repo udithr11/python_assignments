{
 "cells": [
  {
   "cell_type": "code",
   "execution_count": null,
   "id": "fa5d3354",
   "metadata": {},
   "outputs": [],
   "source": [
    "1) [] represents an empty list"
   ]
  },
  {
   "cell_type": "code",
   "execution_count": 6,
   "id": "1c58d23d",
   "metadata": {},
   "outputs": [
    {
     "name": "stdout",
     "output_type": "stream",
     "text": [
      "[2, 4, 'hello', 6, 8, 10]\n"
     ]
    }
   ],
   "source": [
    "# 2)\n",
    "spam=[2,4,6,8,10]\n",
    "spam.insert(2,'hello')\n",
    "print(spam)"
   ]
  },
  {
   "cell_type": "code",
   "execution_count": 3,
   "id": "af5aa08a",
   "metadata": {},
   "outputs": [
    {
     "name": "stdout",
     "output_type": "stream",
     "text": [
      "[2, 4, 'hello', 6, 8, 10]\n"
     ]
    }
   ],
   "source": [
    "#3)\n",
    "spam=['a','b','c','d']\n",
    "spam[int(int('3' * 2) / 11)]\n",
    "here spam[3] will be displayed"
   ]
  },
  {
   "cell_type": "code",
   "execution_count": null,
   "id": "3e88daed",
   "metadata": {},
   "outputs": [],
   "source": [
    "4) spam[-1]='d'\n",
    " the last index will be displayed"
   ]
  },
  {
   "cell_type": "code",
   "execution_count": 8,
   "id": "b6569b7a",
   "metadata": {},
   "outputs": [
    {
     "name": "stdout",
     "output_type": "stream",
     "text": [
      "[2, 4]\n"
     ]
    }
   ],
   "source": [
    "#5)\n",
    "(spam[:2]) will give us the value in index of 0 and 1.\n",
    "['a','b'] will be displayed"
   ]
  },
  {
   "cell_type": "code",
   "execution_count": null,
   "id": "cc56a731",
   "metadata": {},
   "outputs": [],
   "source": [
    "#6\n",
    "bacon.index('cat') will give the index of cat in list bacon\n",
    "1 will be displayed"
   ]
  },
  {
   "cell_type": "code",
   "execution_count": 10,
   "id": "514b2fbc",
   "metadata": {},
   "outputs": [
    {
     "name": "stdout",
     "output_type": "stream",
     "text": [
      "[3.14, 'cat', 11, 'cat', True, 99]\n"
     ]
    }
   ],
   "source": [
    "#7\n",
    "bacon=[3.14,'cat',11,'cat',True]\n",
    "bacon.append(99)\n",
    "print(bacon)\n",
    "# 99 will be added as the last value "
   ]
  },
  {
   "cell_type": "code",
   "execution_count": 12,
   "id": "7e4109f8",
   "metadata": {},
   "outputs": [
    {
     "name": "stdout",
     "output_type": "stream",
     "text": [
      "[3.14, 11, True, 99]\n"
     ]
    }
   ],
   "source": [
    "#8\n",
    "(bacon.remove('cat'))\n",
    "print(bacon)"
   ]
  },
  {
   "cell_type": "code",
   "execution_count": null,
   "id": "c4182f78",
   "metadata": {},
   "outputs": [],
   "source": [
    "#9)\n",
    "for list concatination we can use + operation,\n",
    "and for list replication we ca use * operation\n"
   ]
  },
  {
   "cell_type": "code",
   "execution_count": 13,
   "id": "ff856a57",
   "metadata": {},
   "outputs": [
    {
     "name": "stdout",
     "output_type": "stream",
     "text": [
      "[1, 2, 3, 4] [1, 2, 1, 2]\n"
     ]
    }
   ],
   "source": [
    "l1=[1,2]\n",
    "l2=[3,4]\n",
    "print(l1+l2,l1*2)"
   ]
  },
  {
   "cell_type": "code",
   "execution_count": null,
   "id": "9b3d07e3",
   "metadata": {},
   "outputs": [],
   "source": [
    "#10\n",
    "append function will always add the value to the end of the list while with insert\n",
    "operation we can insert the value in any index"
   ]
  },
  {
   "cell_type": "code",
   "execution_count": 9,
   "id": "18307a72",
   "metadata": {},
   "outputs": [
    {
     "name": "stdout",
     "output_type": "stream",
     "text": [
      "[1, 2, 3, 4] [1, 2, 'aa', 3, 4]\n"
     ]
    }
   ],
   "source": [
    "l=[1,2,3]\n",
    "l.append(4)\n",
    "l2=[1,2,3,4]\n",
    "l2.insert(2,\"aa\")\n",
    "print(l,l2)"
   ]
  },
  {
   "cell_type": "code",
   "execution_count": null,
   "id": "15dbf69a",
   "metadata": {},
   "outputs": [],
   "source": [
    "#11)\n",
    "pop function can be used to remove any item in the list. pop can take one arguement which is the\n",
    "index number, if no arguement is given it will delete the last index.\n",
    "remove function can also be used to remove an item from the list. it will remove the first \n",
    "occurence of the item in the list and takes the arguement as the value name."
   ]
  },
  {
   "cell_type": "code",
   "execution_count": null,
   "id": "b479e7fc",
   "metadata": {},
   "outputs": [],
   "source": [
    "#12)\n",
    "string and list will store the values in sequence so we can find the index function in both the \n",
    "datatypes"
   ]
  },
  {
   "cell_type": "code",
   "execution_count": 16,
   "id": "f3288edc",
   "metadata": {},
   "outputs": [],
   "source": [
    "#13)\n",
    "tuples are repreented by using \"()\" and list by using \"[]\". tuples are immutable ,ie, the value cannot\n",
    "be changed but the list is mutable."
   ]
  },
  {
   "cell_type": "code",
   "execution_count": null,
   "id": "6b3b52a6",
   "metadata": {},
   "outputs": [],
   "source": [
    "#14)\n",
    "l=(42,)\n",
    "if there is no \",\" the python will recognise it as a set."
   ]
  },
  {
   "cell_type": "code",
   "execution_count": 18,
   "id": "7bdfcbfc",
   "metadata": {},
   "outputs": [
    {
     "data": {
      "text/plain": [
       "(1, 2)"
      ]
     },
     "execution_count": 18,
     "metadata": {},
     "output_type": "execute_result"
    }
   ],
   "source": [
    "#15)\n",
    "l=[1,2]\n",
    " #to convert this list to a tuple\n",
    "tuple(l)"
   ]
  },
  {
   "cell_type": "code",
   "execution_count": 19,
   "id": "35f18bc3",
   "metadata": {},
   "outputs": [
    {
     "data": {
      "text/plain": [
       "[1, 2]"
      ]
     },
     "execution_count": 19,
     "metadata": {},
     "output_type": "execute_result"
    }
   ],
   "source": [
    "t=(1,2)\n",
    "# to convert t to list \n",
    "list(t)"
   ]
  },
  {
   "cell_type": "code",
   "execution_count": null,
   "id": "8bd32c78",
   "metadata": {},
   "outputs": [],
   "source": [
    "#16) \n",
    "list do not contain list values but the reference to list values."
   ]
  },
  {
   "cell_type": "code",
   "execution_count": null,
   "id": "fa6f033e",
   "metadata": {},
   "outputs": [],
   "source": [
    "#17)\n",
    "copy.copy() and copy.deepcopy() will contruct a new compound object."
   ]
  },
  {
   "cell_type": "code",
   "execution_count": 20,
   "id": "ca51ed4d",
   "metadata": {},
   "outputs": [],
   "source": [
    "l=[1,2,[12,[52]],34]"
   ]
  },
  {
   "cell_type": "code",
   "execution_count": 27,
   "id": "6b36ec86",
   "metadata": {},
   "outputs": [
    {
     "name": "stdout",
     "output_type": "stream",
     "text": [
      "l1=  [1, 2, [12, [1212]], 34] \n",
      "l2=  [1, 2, [12, [1212]], 34]\n"
     ]
    }
   ],
   "source": [
    "import copy\n",
    "l1=copy.copy(l)\n",
    "l2=copy.deepcopy(l)\n",
    "print(\"l1= \" ,l1,\"\\nl2= \", l2)"
   ]
  },
  {
   "cell_type": "code",
   "execution_count": null,
   "id": "1c84a4a3",
   "metadata": {},
   "outputs": [],
   "source": [
    "in copy.copy l1.[0]== l[0] will be true because they are both same objects\n",
    "but in l2[0]==l[0] will be false as the are both different objects\n"
   ]
  }
 ],
 "metadata": {
  "kernelspec": {
   "display_name": "Python 3 (ipykernel)",
   "language": "python",
   "name": "python3"
  },
  "language_info": {
   "codemirror_mode": {
    "name": "ipython",
    "version": 3
   },
   "file_extension": ".py",
   "mimetype": "text/x-python",
   "name": "python",
   "nbconvert_exporter": "python",
   "pygments_lexer": "ipython3",
   "version": "3.9.12"
  }
 },
 "nbformat": 4,
 "nbformat_minor": 5
}
