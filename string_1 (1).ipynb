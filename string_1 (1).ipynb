{
 "cells": [
  {
   "cell_type": "code",
   "execution_count": null,
   "id": "bc3831a0",
   "metadata": {},
   "outputs": [],
   "source": []
  },
  {
   "cell_type": "code",
   "execution_count": 1,
   "id": "2a85d2ab",
   "metadata": {},
   "outputs": [
    {
     "name": "stdout",
     "output_type": "stream",
     "text": [
      "True\n"
     ]
    }
   ],
   "source": [
    "#question 1\n",
    "\n",
    "def isIsomorphic(s,t):\n",
    "    first,second={},{}\n",
    "    for i in range(len(s)):\n",
    "        c1,c2=s[i],t[i]\n",
    "        if(c1 in first and first[c1]!=c2 ) or (c2 in second and second[c2]!=c1):\n",
    "            return False\n",
    "        first[c1]=c2\n",
    "        second[c2]=c1\n",
    "\n",
    "    return True\n",
    "\n",
    "s = \"egg\"\n",
    "t = \"add\"\n",
    "print(isIsomorphic(s,t))"
   ]
  },
  {
   "cell_type": "code",
   "execution_count": null,
   "id": "65fa98fa",
   "metadata": {},
   "outputs": [],
   "source": []
  },
  {
   "cell_type": "code",
   "execution_count": 41,
   "id": "4934f195",
   "metadata": {},
   "outputs": [
    {
     "name": "stdout",
     "output_type": "stream",
     "text": [
      "True\n"
     ]
    }
   ],
   "source": [
    "#question 2\n",
    "\n",
    "def is_strobogrammatic(num):\n",
    "    d = {'0':'0','1':'1','6':'9','8':'8','9':'6'}\n",
    "    \n",
    "    left,right = 0, len(num) - 1\n",
    "    \n",
    "    while left <= right:\n",
    "        if num[left] not in d or num[right] != d[num[left]]:\n",
    "            return False\n",
    "        left += 1\n",
    "        right -= 1\n",
    "    \n",
    "    return True\n",
    "\n",
    "num = \"69\"\n",
    "print(is_strobogrammatic(num)) \n",
    "\n"
   ]
  },
  {
   "cell_type": "code",
   "execution_count": null,
   "id": "19a37f60",
   "metadata": {},
   "outputs": [],
   "source": []
  },
  {
   "cell_type": "code",
   "execution_count": 42,
   "id": "9a91f730",
   "metadata": {},
   "outputs": [
    {
     "name": "stdout",
     "output_type": "stream",
     "text": [
      "134\n"
     ]
    }
   ],
   "source": [
    "#question 3\n",
    "\n",
    "def string_sum(num1,num2):\n",
    "    return (str(int(num1)+int(num2)))\n",
    "\n",
    "num1 = \"11\"\n",
    "num2 = \"123\"\n",
    "print(string_sum(num1,num2))    "
   ]
  },
  {
   "cell_type": "code",
   "execution_count": null,
   "id": "7aea56a6",
   "metadata": {},
   "outputs": [],
   "source": []
  },
  {
   "cell_type": "code",
   "execution_count": 43,
   "id": "a77c4046",
   "metadata": {},
   "outputs": [
    {
     "name": "stdout",
     "output_type": "stream",
     "text": [
      "s'teL ekat edoCteeL tsetnoc\n"
     ]
    }
   ],
   "source": [
    "#Question 4\n",
    "\n",
    "\n",
    "def reverse(s):\n",
    "    out=\"\"\n",
    "    l=s.split(' ')\n",
    "    for i in l:\n",
    "        k=i[::-1]\n",
    "        out+=k+\" \"\n",
    "    out=out.strip()\n",
    "    return out\n",
    "\n",
    "s = \"Let's take LeetCode contest\"\n",
    "print(reverse(s))"
   ]
  },
  {
   "cell_type": "code",
   "execution_count": null,
   "id": "28c1f852",
   "metadata": {},
   "outputs": [],
   "source": []
  },
  {
   "cell_type": "code",
   "execution_count": 46,
   "id": "33234738",
   "metadata": {},
   "outputs": [
    {
     "name": "stdout",
     "output_type": "stream",
     "text": [
      "bacdfeg\n"
     ]
    }
   ],
   "source": [
    "#question 5\n",
    "\n",
    "\n",
    "def reverse_string(s, k):\n",
    "    chars = list(s)\n",
    "    \n",
    "    for i in range(0, len(chars), 2 * k):\n",
    "        chars[i:i+k] = chars[i:i+k][::-1]\n",
    "    \n",
    "    reversed_string = ''.join(chars)\n",
    "    \n",
    "    return reversed_string\n",
    "\n",
    "s = \"abcdefg\"\n",
    "k = 2\n",
    "print(reverse_string(s, k)) "
   ]
  },
  {
   "cell_type": "code",
   "execution_count": null,
   "id": "83178c7d",
   "metadata": {},
   "outputs": [],
   "source": []
  },
  {
   "cell_type": "code",
   "execution_count": 45,
   "id": "741d9dc8",
   "metadata": {},
   "outputs": [
    {
     "name": "stdout",
     "output_type": "stream",
     "text": [
      "True\n"
     ]
    }
   ],
   "source": [
    "#question 6\n",
    "\n",
    "def rotate(s,goal):\n",
    "    first=s[0]\n",
    "    index_first=goal.find(first)\n",
    "    out=s[index_first-1:]+s[:index_first-1]\n",
    "    return (out==goal)\n",
    "\n",
    "s=\"abcde\"\n",
    "goal=\"cdeab\"\n",
    "print(rotate(s,goal))"
   ]
  },
  {
   "cell_type": "code",
   "execution_count": null,
   "id": "425a61ee",
   "metadata": {},
   "outputs": [],
   "source": []
  },
  {
   "cell_type": "code",
   "execution_count": 18,
   "id": "74380dc9",
   "metadata": {},
   "outputs": [
    {
     "name": "stdout",
     "output_type": "stream",
     "text": [
      "True\n"
     ]
    }
   ],
   "source": [
    "#Question 7\n",
    "\n",
    "\n",
    "def backspace(s,t):\n",
    "\n",
    "    index_s = s.find(\"#\")\n",
    "    index_t=t.find(\"#\")\n",
    "    s=s[:index_s-1]+s[index_s+1:]\n",
    "    t=t[:index_t-1]+t[index_t+1:]\n",
    "    return (s==t)\n",
    "\n",
    "\n",
    "s = \"ab#c\"\n",
    "t = \"ad#c\"\n",
    "print(backspace(s,t))"
   ]
  },
  {
   "cell_type": "code",
   "execution_count": null,
   "id": "293b1268",
   "metadata": {},
   "outputs": [],
   "source": []
  },
  {
   "cell_type": "code",
   "execution_count": null,
   "id": "aa911646",
   "metadata": {},
   "outputs": [],
   "source": []
  },
  {
   "cell_type": "code",
   "execution_count": null,
   "id": "f28a5e4f",
   "metadata": {},
   "outputs": [],
   "source": []
  },
  {
   "cell_type": "code",
   "execution_count": null,
   "id": "5b24f415",
   "metadata": {},
   "outputs": [],
   "source": []
  },
  {
   "cell_type": "code",
   "execution_count": null,
   "id": "9fb0c901",
   "metadata": {},
   "outputs": [],
   "source": []
  },
  {
   "cell_type": "code",
   "execution_count": null,
   "id": "e737d1aa",
   "metadata": {},
   "outputs": [],
   "source": []
  },
  {
   "cell_type": "code",
   "execution_count": null,
   "id": "6c2bfb25",
   "metadata": {},
   "outputs": [],
   "source": []
  },
  {
   "cell_type": "code",
   "execution_count": null,
   "id": "28ca83cb",
   "metadata": {},
   "outputs": [],
   "source": []
  },
  {
   "cell_type": "code",
   "execution_count": null,
   "id": "497b483f",
   "metadata": {},
   "outputs": [],
   "source": []
  },
  {
   "cell_type": "code",
   "execution_count": null,
   "id": "4a7ae2aa",
   "metadata": {},
   "outputs": [],
   "source": []
  },
  {
   "cell_type": "code",
   "execution_count": null,
   "id": "673a4c46",
   "metadata": {},
   "outputs": [],
   "source": []
  },
  {
   "cell_type": "code",
   "execution_count": null,
   "id": "1609a5fa",
   "metadata": {},
   "outputs": [],
   "source": []
  },
  {
   "cell_type": "code",
   "execution_count": null,
   "id": "68bdda4e",
   "metadata": {},
   "outputs": [],
   "source": []
  },
  {
   "cell_type": "code",
   "execution_count": null,
   "id": "58e99810",
   "metadata": {},
   "outputs": [],
   "source": []
  }
 ],
 "metadata": {
  "kernelspec": {
   "display_name": "Python 3 (ipykernel)",
   "language": "python",
   "name": "python3"
  },
  "language_info": {
   "codemirror_mode": {
    "name": "ipython",
    "version": 3
   },
   "file_extension": ".py",
   "mimetype": "text/x-python",
   "name": "python",
   "nbconvert_exporter": "python",
   "pygments_lexer": "ipython3",
   "version": "3.9.12"
  }
 },
 "nbformat": 4,
 "nbformat_minor": 5
}
