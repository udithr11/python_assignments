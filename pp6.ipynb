{
 "cells": [
  {
   "cell_type": "markdown",
   "id": "ee0f0087",
   "metadata": {},
   "source": [
    "# 1)"
   ]
  },
  {
   "cell_type": "code",
   "execution_count": 28,
   "id": "216e5cdd",
   "metadata": {},
   "outputs": [
    {
     "name": "stdout",
     "output_type": "stream",
     "text": [
      "enter a no 7\n"
     ]
    },
    {
     "data": {
      "text/plain": [
       "13"
      ]
     },
     "execution_count": 28,
     "metadata": {},
     "output_type": "execute_result"
    }
   ],
   "source": [
    "def fibonacci(n):\n",
    "    if n < 0:\n",
    "        print(\"Incorrect input\")\n",
    "\n",
    "    elif n == 0:\n",
    "        return 0\n",
    "    elif n == 1 or n == 2:\n",
    "        return 1\n",
    "\n",
    "    else:\n",
    "        return Fibonacci(n - 1) + Fibonacci(n - 2)\n",
    "\n",
    "n=int(input(\"enter a no \"))\n",
    "fibonacci(n)\n"
   ]
  },
  {
   "cell_type": "markdown",
   "id": "1291eed8",
   "metadata": {},
   "source": [
    "# 2)"
   ]
  },
  {
   "cell_type": "code",
   "execution_count": 29,
   "id": "79b03b05",
   "metadata": {},
   "outputs": [
    {
     "name": "stdout",
     "output_type": "stream",
     "text": [
      "enter a no:5\n",
      "120\n"
     ]
    }
   ],
   "source": [
    "def factt(n):\n",
    "    if (n==0 or n==1):\n",
    "        return 1\n",
    "    else:\n",
    "        return(n*(factt(n-1)))\n",
    "\n",
    "        \n",
    "n=int(input(\"enter a no:\"))\n",
    "print(factt(n))"
   ]
  },
  {
   "cell_type": "markdown",
   "id": "843e3062",
   "metadata": {},
   "source": [
    "# 3)"
   ]
  },
  {
   "cell_type": "code",
   "execution_count": 30,
   "id": "f7d375d8",
   "metadata": {},
   "outputs": [
    {
     "name": "stdout",
     "output_type": "stream",
     "text": [
      "enter your height in cm 165\n",
      "enter your weight in kg 57\n",
      "20.9366391184573\n"
     ]
    }
   ],
   "source": [
    "h=int(input(\"enter your height in cm \"))\n",
    "w=int(input(\"enter your weight in kg \"))\n",
    "bmi=w/(h*h)*10000\n",
    "print(bmi)"
   ]
  },
  {
   "cell_type": "markdown",
   "id": "5d6f7363",
   "metadata": {},
   "source": [
    "# 4)"
   ]
  },
  {
   "cell_type": "code",
   "execution_count": 31,
   "id": "ed61fa5e",
   "metadata": {},
   "outputs": [
    {
     "name": "stdout",
     "output_type": "stream",
     "text": [
      "enter a no 45\n",
      "natural log of  45 =  3.8066624897703196\n"
     ]
    }
   ],
   "source": [
    "import math\n",
    "try:\n",
    "    l=int(input(\"enter a no \"))\n",
    "    print(\"natural log of \",l,\"= \",math.log(l))\n",
    "except Exception as e:\n",
    "    print(e)\n",
    "    "
   ]
  },
  {
   "cell_type": "markdown",
   "id": "72d06f45",
   "metadata": {},
   "source": [
    "# 5)"
   ]
  },
  {
   "cell_type": "code",
   "execution_count": 34,
   "id": "7f2a07fd",
   "metadata": {},
   "outputs": [
    {
     "name": "stdout",
     "output_type": "stream",
     "text": [
      "enter a no 100\n",
      "sum of cube of first  100 numbers is  25502500.0\n"
     ]
    }
   ],
   "source": [
    "l=int(input(\"enter a no \"))\n",
    "print(\"sum of cube of first \",l,\"numbers is \",((l*(l+1))/2)**2)"
   ]
  },
  {
   "cell_type": "code",
   "execution_count": null,
   "id": "1aee36b4",
   "metadata": {},
   "outputs": [],
   "source": []
  }
 ],
 "metadata": {
  "kernelspec": {
   "display_name": "Python 3 (ipykernel)",
   "language": "python",
   "name": "python3"
  },
  "language_info": {
   "codemirror_mode": {
    "name": "ipython",
    "version": 3
   },
   "file_extension": ".py",
   "mimetype": "text/x-python",
   "name": "python",
   "nbconvert_exporter": "python",
   "pygments_lexer": "ipython3",
   "version": "3.9.12"
  }
 },
 "nbformat": 4,
 "nbformat_minor": 5
}
