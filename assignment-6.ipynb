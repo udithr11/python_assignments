{
 "cells": [
  {
   "cell_type": "markdown",
   "id": "d7ec5a06",
   "metadata": {},
   "source": [
    "#question 1\n",
    "\n",
    "Escape characters are special characters that are used to represent certain non-printable or reserved characters\n",
    "within a string.They are usually preceded by a backslash (\\). \n",
    "\n",
    "\\n: It is used to insert a newline in a string.\n",
    "\n",
    "\\t: It is used to insert a tab in a string."
   ]
  },
  {
   "cell_type": "code",
   "execution_count": null,
   "id": "2f12db34",
   "metadata": {},
   "outputs": [],
   "source": []
  },
  {
   "cell_type": "markdown",
   "id": "f81f3f47",
   "metadata": {},
   "source": [
    "#question 2\n",
    "\n",
    "\\n: It is used to insert a newline in a string.\n",
    "\n",
    "\\t: It is used to insert a tab in a string."
   ]
  },
  {
   "cell_type": "code",
   "execution_count": null,
   "id": "efbc193f",
   "metadata": {},
   "outputs": [],
   "source": []
  },
  {
   "cell_type": "markdown",
   "id": "156c4e61",
   "metadata": {},
   "source": [
    "#question 3\n",
    "\n",
    "The \\\\ escape character will represent the backslash character in a string"
   ]
  },
  {
   "cell_type": "code",
   "execution_count": null,
   "id": "be8bbb15",
   "metadata": {},
   "outputs": [],
   "source": []
  },
  {
   "cell_type": "markdown",
   "id": "04375f05",
   "metadata": {},
   "source": [
    "#question 4\n",
    "\n",
    "The single quote character within a string doesn't need to be escaped if the string itself is enclosed in double quotes."
   ]
  },
  {
   "cell_type": "code",
   "execution_count": null,
   "id": "ebdccc20",
   "metadata": {},
   "outputs": [],
   "source": []
  },
  {
   "cell_type": "code",
   "execution_count": 2,
   "id": "63dab06a",
   "metadata": {},
   "outputs": [
    {
     "name": "stdout",
     "output_type": "stream",
     "text": [
      "iNeuron full stack\n",
      "Data Science Course\n"
     ]
    }
   ],
   "source": [
    "#question 5\n",
    "s = '''iNeuron full stack\n",
    "Data Science Course'''\n",
    "print(s)"
   ]
  },
  {
   "cell_type": "code",
   "execution_count": null,
   "id": "a2fb70f7",
   "metadata": {},
   "outputs": [],
   "source": []
  },
  {
   "cell_type": "code",
   "execution_count": 5,
   "id": "1c3c6fb3",
   "metadata": {},
   "outputs": [
    {
     "data": {
      "text/plain": [
       "'e'"
      ]
     },
     "execution_count": 5,
     "metadata": {},
     "output_type": "execute_result"
    }
   ],
   "source": [
    "#question6\n",
    "'Hello, world!'[1]\n",
    "#gives the value in index 1"
   ]
  },
  {
   "cell_type": "code",
   "execution_count": 6,
   "id": "613e8328",
   "metadata": {},
   "outputs": [
    {
     "data": {
      "text/plain": [
       "'Hello'"
      ]
     },
     "execution_count": 6,
     "metadata": {},
     "output_type": "execute_result"
    }
   ],
   "source": [
    "'Hello, world!'[0:5]\n",
    "#gives the element from 0-th index to 4th index"
   ]
  },
  {
   "cell_type": "code",
   "execution_count": 7,
   "id": "ef6992e5",
   "metadata": {},
   "outputs": [
    {
     "data": {
      "text/plain": [
       "'Hello'"
      ]
     },
     "execution_count": 7,
     "metadata": {},
     "output_type": "execute_result"
    }
   ],
   "source": [
    "'Hello, world!'[:5]\n",
    "#gives the element from 0-th index to 4th index. if nothing given as the first parameter by default it will take 0"
   ]
  },
  {
   "cell_type": "code",
   "execution_count": 8,
   "id": "9b080327",
   "metadata": {},
   "outputs": [
    {
     "data": {
      "text/plain": [
       "'lo, world!'"
      ]
     },
     "execution_count": 8,
     "metadata": {},
     "output_type": "execute_result"
    }
   ],
   "source": [
    "'Hello, world!'[3:]\n",
    "#prints the elements starting from 3 till the end of string"
   ]
  },
  {
   "cell_type": "code",
   "execution_count": null,
   "id": "50bf6dc5",
   "metadata": {},
   "outputs": [],
   "source": []
  },
  {
   "cell_type": "code",
   "execution_count": null,
   "id": "c47c3f4e",
   "metadata": {},
   "outputs": [],
   "source": [
    "#question 7"
   ]
  },
  {
   "cell_type": "code",
   "execution_count": 9,
   "id": "540fee5c",
   "metadata": {},
   "outputs": [
    {
     "data": {
      "text/plain": [
       "'HELLO'"
      ]
     },
     "execution_count": 9,
     "metadata": {},
     "output_type": "execute_result"
    }
   ],
   "source": [
    "'Hello'.upper()\n",
    "#converts the tring to upper case"
   ]
  },
  {
   "cell_type": "code",
   "execution_count": 10,
   "id": "107122f5",
   "metadata": {},
   "outputs": [
    {
     "data": {
      "text/plain": [
       "True"
      ]
     },
     "execution_count": 10,
     "metadata": {},
     "output_type": "execute_result"
    }
   ],
   "source": [
    "'Hello'.upper().isupper()\n",
    "#CONVERTS THE STRING To UPPER CASE  and check the string is upper or not and returns a boolean value\n"
   ]
  },
  {
   "cell_type": "code",
   "execution_count": 11,
   "id": "fcb00a4d",
   "metadata": {},
   "outputs": [
    {
     "data": {
      "text/plain": [
       "'hello'"
      ]
     },
     "execution_count": 11,
     "metadata": {},
     "output_type": "execute_result"
    }
   ],
   "source": [
    "'Hello'.upper().lower()\n",
    "#first converts the string to upper case and then lower case"
   ]
  },
  {
   "cell_type": "code",
   "execution_count": null,
   "id": "67bc525f",
   "metadata": {},
   "outputs": [],
   "source": []
  },
  {
   "cell_type": "code",
   "execution_count": 12,
   "id": "cc323cfe",
   "metadata": {},
   "outputs": [
    {
     "data": {
      "text/plain": [
       "['Remember,', 'remember,', 'the', 'fifith', 'of', 'July.']"
      ]
     },
     "execution_count": 12,
     "metadata": {},
     "output_type": "execute_result"
    }
   ],
   "source": [
    "#question 8\n",
    "\n",
    "'Remember, remember, the fifith of July.'.split()\n",
    "#split the string where there is space."
   ]
  },
  {
   "cell_type": "code",
   "execution_count": 13,
   "id": "5c688638",
   "metadata": {},
   "outputs": [
    {
     "data": {
      "text/plain": [
       "'There-can-only-one'"
      ]
     },
     "execution_count": 13,
     "metadata": {},
     "output_type": "execute_result"
    }
   ],
   "source": [
    "'-'.join('There can only one'.split())\n",
    "#first split the string by the space in between the words and then return a list of srtings.\n",
    "#then joins each elements in the string by '-'."
   ]
  },
  {
   "cell_type": "code",
   "execution_count": null,
   "id": "8d331212",
   "metadata": {},
   "outputs": [],
   "source": []
  },
  {
   "cell_type": "markdown",
   "id": "a5bffa6a",
   "metadata": {},
   "source": [
    "#question 9\n",
    "\n",
    "right-justifying -- rjust(), left-justifying -- ljust(), centering a string-- center() "
   ]
  },
  {
   "cell_type": "code",
   "execution_count": null,
   "id": "216ec1d5",
   "metadata": {},
   "outputs": [],
   "source": []
  },
  {
   "cell_type": "markdown",
   "id": "86aed5f3",
   "metadata": {},
   "source": [
    "#question 10\n",
    "\n",
    "The lstrip() and rstrip() methods remove whitesapce characters from the left and right ends of a string respectively"
   ]
  },
  {
   "cell_type": "code",
   "execution_count": null,
   "id": "abe1a4ce",
   "metadata": {},
   "outputs": [],
   "source": []
  }
 ],
 "metadata": {
  "kernelspec": {
   "display_name": "Python 3 (ipykernel)",
   "language": "python",
   "name": "python3"
  },
  "language_info": {
   "codemirror_mode": {
    "name": "ipython",
    "version": 3
   },
   "file_extension": ".py",
   "mimetype": "text/x-python",
   "name": "python",
   "nbconvert_exporter": "python",
   "pygments_lexer": "ipython3",
   "version": "3.9.12"
  }
 },
 "nbformat": 4,
 "nbformat_minor": 5
}
